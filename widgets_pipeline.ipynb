{
 "cells": [
  {
   "cell_type": "markdown",
   "metadata": {},
   "source": [
    "# Uso de sklearn. Ejemplo con widgets\n",
    "\n",
    "### Andres Nieto Guadarrama"
   ]
  },
  {
   "cell_type": "code",
   "execution_count": 1,
   "metadata": {},
   "outputs": [],
   "source": [
    "import numpy as np\n",
    "import sklearn\n",
    "import matplotlib.pyplot as plt\n",
    "import ipywidgets as widgets\n",
    "from sklearn.pipeline import Pipeline\n",
    "from sklearn.linear_model import LinearRegression\n",
    "from sklearn.preprocessing import PolynomialFeatures\n",
    "from ipywidgets import interact,interact_manual\n",
    "from IPython.display import display"
   ]
  },
  {
   "cell_type": "markdown",
   "metadata": {},
   "source": [
    "# Funciones de apoyo"
   ]
  },
  {
   "cell_type": "markdown",
   "metadata": {},
   "source": [
    "Diseñemos funciones de apoyo para llamar a los modelos polinomiales"
   ]
  },
  {
   "cell_type": "code",
   "execution_count": 94,
   "metadata": {},
   "outputs": [],
   "source": [
    "def y_make(x,n_puntos):\n",
    "    '''\n",
    "    Crea un array de variables respuesta con ruido normal \n",
    "    y un factor de escala. En éste ejemplo se escogió una relación \n",
    "    cuadrática entre la variable explicativa y la respuesta.\n",
    "    '''\n",
    "    y=x**2+np.random.randn(n_puntos)+0.5\n",
    "    return y\n",
    "\n",
    "def make_pipe(deg,x,y):\n",
    "    pipe=Pipeline([\n",
    "            (\"Polytransform\",PolynomialFeatures(degree=deg,include_bias=False)),\n",
    "            (\"linear_model\",LinearRegression())\n",
    "    ])\n",
    "    \n",
    "    pipe.fit(x[:,np.newaxis],y)\n",
    "    \n",
    "    return pipe\n",
    "\n",
    "def f_poli(X,pipe):\n",
    "    '''\n",
    "    Evalua un array de datos con los coeficientes de la regresión polinomial.\n",
    "    '''\n",
    "    Coefs=pipe.steps[1][1].coef_\n",
    "    eje_y=pipe.steps[1][1].intercept_\n",
    "    r=0\n",
    "    Y_hat=[]\n",
    "    for j in range(len(X)):\n",
    "        r=0\n",
    "        for i in range(len(Coefs)-1,0,-1):\n",
    "            r=r+ Coefs[i]*X[j]**(i+1)\n",
    "        r=r+eje_y\n",
    "        Y_hat.append(r)\n",
    "    return Y_hat"
   ]
  },
  {
   "cell_type": "code",
   "execution_count": 108,
   "metadata": {},
   "outputs": [],
   "source": [
    "def gbase(deg,n_puntos):\n",
    "    x=np.linspace(-1,1,n_puntos)+np.random.uniform(size=n_puntos)\n",
    "    y=y_make(x,n_puntos)\n",
    "    pipe=make_pipe(deg,x,y)\n",
    "    rango_x=np.linspace(x.min(),x.max(),n_puntos)\n",
    "    plt.scatter(x,y,label='observaciones')\n",
    "    plt.title('Modelo polinomial vs observaciones')\n",
    "    plt.plot(rango_x,f_poli(rango_x,pipe),c='r',label='modelo')\n",
    "    plt.legend()\n",
    "    plt.show()"
   ]
  },
  {
   "cell_type": "code",
   "execution_count": 109,
   "metadata": {},
   "outputs": [
    {
     "data": {
      "application/vnd.jupyter.widget-view+json": {
       "model_id": "192d260a0cd84872b7cabe1425dc2891",
       "version_major": 2,
       "version_minor": 0
      },
      "text/plain": [
       "interactive(children=(IntSlider(value=2, continuous_update=False, description='Grado del polinomio:', max=30, …"
      ]
     },
     "metadata": {},
     "output_type": "display_data"
    },
    {
     "data": {
      "text/plain": [
       "<function __main__.gbase(deg, n_puntos)>"
      ]
     },
     "metadata": {},
     "output_type": "display_data"
    }
   ],
   "source": [
    "slider_deg=widgets.IntSlider(\n",
    "    value=2,\n",
    "    min=1,\n",
    "    max=30,\n",
    "    step=1,\n",
    "    description='Grado del polinomio:',\n",
    "    disabled=False,\n",
    "    continuous_update=False,\n",
    "    orientation='horizontal',\n",
    "    readout=True,\n",
    "    readout_format='d',\n",
    ")\n",
    "\n",
    "slider_n_puntos=widgets.IntSlider(\n",
    "    value=10,\n",
    "    min=5,\n",
    "    max=25,\n",
    "    step=1,\n",
    "    description='Número de puntos en gráfica:',\n",
    "    disabled=False,\n",
    "    continuous_update=False,\n",
    "    orientation='horizontal',\n",
    "    readout=True,\n",
    "    readout_format='d',\n",
    ")\n",
    "\n",
    "w=interact_manual(gbase,deg=slider_deg,n_puntos=slider_n_puntos) \n",
    "display(w)"
   ]
  }
 ],
 "metadata": {
  "kernelspec": {
   "display_name": "Python 3",
   "language": "python",
   "name": "python3"
  },
  "language_info": {
   "codemirror_mode": {
    "name": "ipython",
    "version": 3
   },
   "file_extension": ".py",
   "mimetype": "text/x-python",
   "name": "python",
   "nbconvert_exporter": "python",
   "pygments_lexer": "ipython3",
   "version": "3.7.4"
  }
 },
 "nbformat": 4,
 "nbformat_minor": 2
}
