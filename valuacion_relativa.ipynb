{
 "cells": [
  {
   "cell_type": "markdown",
   "metadata": {},
   "source": [
    "# Tarea valuación relativa\n",
    "### Andrés Nieto Guadarrama\n",
    "### 000119266"
   ]
  },
  {
   "cell_type": "code",
   "execution_count": 141,
   "metadata": {},
   "outputs": [],
   "source": [
    "import pandas as pd\n",
    "import numpy as np\n",
    "import matplotlib.pyplot as plt"
   ]
  },
  {
   "cell_type": "markdown",
   "metadata": {},
   "source": [
    "### Lectura y limpieza de datos"
   ]
  },
  {
   "cell_type": "code",
   "execution_count": 67,
   "metadata": {
    "scrolled": true
   },
   "outputs": [],
   "source": [
    "df_bonos=pd.read_csv(\"Base.csv\")\n",
    "df_bonos2=pd.read_csv(\"Base.csv\")"
   ]
  },
  {
   "cell_type": "markdown",
   "metadata": {},
   "source": [
    "A continuación se restringen las filas de la base para trabajar con ella."
   ]
  },
  {
   "cell_type": "code",
   "execution_count": 69,
   "metadata": {},
   "outputs": [],
   "source": [
    "df_bonos2=df_bonos2.iloc[4:len(df_bonos2)-1]\n",
    "llaves=df_bonos2.keys()\n",
    "llaves=llaves[1:]\n",
    "\n",
    "for i in range(len(list(df_bonos2.index))):\n",
    "    for l in llaves:\n",
    "        if type(df_bonos2[l].iloc[i])==str:\n",
    "            df_bonos2[l].iloc[i]=float(df_bonos2[l].iloc[i].replace(\",\",\"\"))"
   ]
  },
  {
   "cell_type": "code",
   "execution_count": 59,
   "metadata": {},
   "outputs": [
    {
     "data": {
      "text/html": [
       "<div>\n",
       "<style scoped>\n",
       "    .dataframe tbody tr th:only-of-type {\n",
       "        vertical-align: middle;\n",
       "    }\n",
       "\n",
       "    .dataframe tbody tr th {\n",
       "        vertical-align: top;\n",
       "    }\n",
       "\n",
       "    .dataframe thead th {\n",
       "        text-align: right;\n",
       "    }\n",
       "</style>\n",
       "<table border=\"1\" class=\"dataframe\">\n",
       "  <thead>\n",
       "    <tr style=\"text-align: right;\">\n",
       "      <th></th>\n",
       "      <th>TICKER</th>\n",
       "      <th>MXBRBA Index</th>\n",
       "      <th>MXIBTIIE Index</th>\n",
       "      <th>MXIB91DT Index</th>\n",
       "      <th>MPSWC Curncy</th>\n",
       "      <th>MPSWF Curncy</th>\n",
       "      <th>MPSWI Curncy</th>\n",
       "      <th>MPSW1A SINV Curncy</th>\n",
       "      <th>MPSW2B Curncy</th>\n",
       "      <th>MPSW3C Curncy</th>\n",
       "      <th>...</th>\n",
       "      <th>MXN1M BGN Curncy</th>\n",
       "      <th>MXN2M BGN Curncy</th>\n",
       "      <th>MXN3M BGN Curncy</th>\n",
       "      <th>MXN4M BGN Curncy</th>\n",
       "      <th>MXN5M BGN Curncy</th>\n",
       "      <th>MXN6M BGN Curncy</th>\n",
       "      <th>MXN9M BGN Curncy</th>\n",
       "      <th>MXN12M BGN Curncy</th>\n",
       "      <th>MXN18M BGN Curncy</th>\n",
       "      <th>MXN2Y BGN Curncy</th>\n",
       "    </tr>\n",
       "  </thead>\n",
       "  <tbody>\n",
       "    <tr>\n",
       "      <th>0</th>\n",
       "      <td>SHORT_NAME</td>\n",
       "      <td>Bank Rate</td>\n",
       "      <td>MEXICAN INTERBANK TIIP&amp;TII  TI</td>\n",
       "      <td>Mexico Deposit TIIE 91D</td>\n",
       "      <td>MXN SWAP MTH (vs 28D) 3M</td>\n",
       "      <td>MXN SWAP MTH (vs 28D) 6M</td>\n",
       "      <td>MXN SWAP MTH (vs 28D) 9M</td>\n",
       "      <td>MXN SWAP MTH (v 28D) 13M</td>\n",
       "      <td>MXN SWAP MTH (v 28D) 26M</td>\n",
       "      <td>MXN SWAP MTH (v 28D) 39M</td>\n",
       "      <td>...</td>\n",
       "      <td>MEXICAN PESO        1 MO</td>\n",
       "      <td>MEXICAN PESO        2 MO</td>\n",
       "      <td>MEXICAN PESO        3 MO</td>\n",
       "      <td>MEXICAN PESO        4 MO</td>\n",
       "      <td>MEXICAN PESO        5 MO</td>\n",
       "      <td>MEXICAN PESO        6 MO</td>\n",
       "      <td>MEXICAN PESO        9 MO</td>\n",
       "      <td>MEXICAN PESO        12MO</td>\n",
       "      <td>MEXICAN PESO        18MO</td>\n",
       "      <td>MEXICAN PESO        2 YR</td>\n",
       "    </tr>\n",
       "    <tr>\n",
       "      <th>1</th>\n",
       "      <td>NAME</td>\n",
       "      <td>Mexico Official Overnight Clos</td>\n",
       "      <td>Mexico Interbank TIIE 28 Day</td>\n",
       "      <td>Mexico Interbank TIIE 91 Day</td>\n",
       "      <td>MXN SWAP MTH (vs 28D) 3M</td>\n",
       "      <td>MXN SWAP MTH (vs 28D) 6M</td>\n",
       "      <td>MXN SWAP MTH (vs 28D) 9M</td>\n",
       "      <td>MXN SWAP MTH (v 28D) 13M</td>\n",
       "      <td>MXN SWAP MTH (v 28D) 26M</td>\n",
       "      <td>MXN SWAP MTH (v 28D) 39M</td>\n",
       "      <td>...</td>\n",
       "      <td>MEXICAN PESO        1 MO</td>\n",
       "      <td>MEXICAN PESO        2 MO</td>\n",
       "      <td>MEXICAN PESO        3 MO</td>\n",
       "      <td>MEXICAN PESO        4 MO</td>\n",
       "      <td>MEXICAN PESO        5 MO</td>\n",
       "      <td>MEXICAN PESO        6 MO</td>\n",
       "      <td>MEXICAN PESO        9 MO</td>\n",
       "      <td>MEXICAN PESO        12MO</td>\n",
       "      <td>MEXICAN PESO        18MO</td>\n",
       "      <td>MEXICAN PESO        2 YR</td>\n",
       "    </tr>\n",
       "    <tr>\n",
       "      <th>2</th>\n",
       "      <td>LONG COMP NAME</td>\n",
       "      <td>Mexico Official Overnight Closing Bank Rate</td>\n",
       "      <td>Mexico Interbank TIIE 28 Day</td>\n",
       "      <td>Mexico Interbank TIIE 91 Day</td>\n",
       "      <td>MXN SWAP MTH (vs 28D) 3M</td>\n",
       "      <td>MXN SWAP MTH (vs 28D) 6M</td>\n",
       "      <td>MXN SWAP MTH (vs 28D) 9M</td>\n",
       "      <td>MXN SWAP MTH (v 28D) 13M</td>\n",
       "      <td>MXN SWAP MTH (v 28D) 26M</td>\n",
       "      <td>MXN SWAP MTH (v 28D) 39M</td>\n",
       "      <td>...</td>\n",
       "      <td>USDMXN 1 Month Forward Points</td>\n",
       "      <td>USDMXN 2 Month Forward Points</td>\n",
       "      <td>USDMXN 3 Month Forward Points</td>\n",
       "      <td>USDMXN 4 Month Forward Points</td>\n",
       "      <td>USDMXN 5 Month Forward Points</td>\n",
       "      <td>USDMXN 6 Month Forward Points</td>\n",
       "      <td>USDMXN 9 Month Forward Points</td>\n",
       "      <td>USDMXN 12 Month Forward Points</td>\n",
       "      <td>USDMXN 18 Month Forward Points</td>\n",
       "      <td>USDMXN 2 Year Forward Points</td>\n",
       "    </tr>\n",
       "    <tr>\n",
       "      <th>3</th>\n",
       "      <td>1</td>\n",
       "      <td>2</td>\n",
       "      <td>3</td>\n",
       "      <td>4</td>\n",
       "      <td>11</td>\n",
       "      <td>12</td>\n",
       "      <td>13</td>\n",
       "      <td>14</td>\n",
       "      <td>15</td>\n",
       "      <td>16</td>\n",
       "      <td>...</td>\n",
       "      <td>235</td>\n",
       "      <td>236</td>\n",
       "      <td>237</td>\n",
       "      <td>238</td>\n",
       "      <td>239</td>\n",
       "      <td>240</td>\n",
       "      <td>241</td>\n",
       "      <td>242</td>\n",
       "      <td>243</td>\n",
       "      <td>244</td>\n",
       "    </tr>\n",
       "    <tr>\n",
       "      <th>4</th>\n",
       "      <td>31/dic/05</td>\n",
       "      <td>8.27</td>\n",
       "      <td>8.57</td>\n",
       "      <td>8.28</td>\n",
       "      <td>8.33</td>\n",
       "      <td>8.28</td>\n",
       "      <td>8.21</td>\n",
       "      <td>8.21</td>\n",
       "      <td>8.21</td>\n",
       "      <td>8.33</td>\n",
       "      <td>...</td>\n",
       "      <td>406.00</td>\n",
       "      <td>713.00</td>\n",
       "      <td>1,013.00</td>\n",
       "      <td>NaN</td>\n",
       "      <td>NaN</td>\n",
       "      <td>1,945.00</td>\n",
       "      <td>2,875.00</td>\n",
       "      <td>3,850.00</td>\n",
       "      <td>5,775.00</td>\n",
       "      <td>7,800.00</td>\n",
       "    </tr>\n",
       "  </tbody>\n",
       "</table>\n",
       "<p>5 rows × 76 columns</p>\n",
       "</div>"
      ],
      "text/plain": [
       "           TICKER                                 MXBRBA Index  \\\n",
       "0      SHORT_NAME                                    Bank Rate   \n",
       "1            NAME               Mexico Official Overnight Clos   \n",
       "2  LONG COMP NAME  Mexico Official Overnight Closing Bank Rate   \n",
       "3               1                                            2   \n",
       "4       31/dic/05                                         8.27   \n",
       "\n",
       "                   MXIBTIIE Index                MXIB91DT Index  \\\n",
       "0  MEXICAN INTERBANK TIIP&TII  TI       Mexico Deposit TIIE 91D   \n",
       "1    Mexico Interbank TIIE 28 Day  Mexico Interbank TIIE 91 Day   \n",
       "2    Mexico Interbank TIIE 28 Day  Mexico Interbank TIIE 91 Day   \n",
       "3                               3                             4   \n",
       "4                            8.57                          8.28   \n",
       "\n",
       "               MPSWC Curncy              MPSWF Curncy  \\\n",
       "0  MXN SWAP MTH (vs 28D) 3M  MXN SWAP MTH (vs 28D) 6M   \n",
       "1  MXN SWAP MTH (vs 28D) 3M  MXN SWAP MTH (vs 28D) 6M   \n",
       "2  MXN SWAP MTH (vs 28D) 3M  MXN SWAP MTH (vs 28D) 6M   \n",
       "3                        11                        12   \n",
       "4                      8.33                      8.28   \n",
       "\n",
       "               MPSWI Curncy        MPSW1A SINV Curncy  \\\n",
       "0  MXN SWAP MTH (vs 28D) 9M  MXN SWAP MTH (v 28D) 13M   \n",
       "1  MXN SWAP MTH (vs 28D) 9M  MXN SWAP MTH (v 28D) 13M   \n",
       "2  MXN SWAP MTH (vs 28D) 9M  MXN SWAP MTH (v 28D) 13M   \n",
       "3                        13                        14   \n",
       "4                      8.21                      8.21   \n",
       "\n",
       "              MPSW2B Curncy             MPSW3C Curncy  ...  \\\n",
       "0  MXN SWAP MTH (v 28D) 26M  MXN SWAP MTH (v 28D) 39M  ...   \n",
       "1  MXN SWAP MTH (v 28D) 26M  MXN SWAP MTH (v 28D) 39M  ...   \n",
       "2  MXN SWAP MTH (v 28D) 26M  MXN SWAP MTH (v 28D) 39M  ...   \n",
       "3                        15                        16  ...   \n",
       "4                      8.21                      8.33  ...   \n",
       "\n",
       "                MXN1M BGN Curncy               MXN2M BGN Curncy  \\\n",
       "0       MEXICAN PESO        1 MO       MEXICAN PESO        2 MO   \n",
       "1       MEXICAN PESO        1 MO       MEXICAN PESO        2 MO   \n",
       "2  USDMXN 1 Month Forward Points  USDMXN 2 Month Forward Points   \n",
       "3                            235                            236   \n",
       "4                         406.00                         713.00   \n",
       "\n",
       "                MXN3M BGN Curncy               MXN4M BGN Curncy  \\\n",
       "0       MEXICAN PESO        3 MO       MEXICAN PESO        4 MO   \n",
       "1       MEXICAN PESO        3 MO       MEXICAN PESO        4 MO   \n",
       "2  USDMXN 3 Month Forward Points  USDMXN 4 Month Forward Points   \n",
       "3                            237                            238   \n",
       "4                       1,013.00                            NaN   \n",
       "\n",
       "                MXN5M BGN Curncy               MXN6M BGN Curncy  \\\n",
       "0       MEXICAN PESO        5 MO       MEXICAN PESO        6 MO   \n",
       "1       MEXICAN PESO        5 MO       MEXICAN PESO        6 MO   \n",
       "2  USDMXN 5 Month Forward Points  USDMXN 6 Month Forward Points   \n",
       "3                            239                            240   \n",
       "4                            NaN                       1,945.00   \n",
       "\n",
       "                MXN9M BGN Curncy               MXN12M BGN Curncy  \\\n",
       "0       MEXICAN PESO        9 MO        MEXICAN PESO        12MO   \n",
       "1       MEXICAN PESO        9 MO        MEXICAN PESO        12MO   \n",
       "2  USDMXN 9 Month Forward Points  USDMXN 12 Month Forward Points   \n",
       "3                            241                             242   \n",
       "4                       2,875.00                        3,850.00   \n",
       "\n",
       "                MXN18M BGN Curncy              MXN2Y BGN Curncy  \n",
       "0        MEXICAN PESO        18MO      MEXICAN PESO        2 YR  \n",
       "1        MEXICAN PESO        18MO      MEXICAN PESO        2 YR  \n",
       "2  USDMXN 18 Month Forward Points  USDMXN 2 Year Forward Points  \n",
       "3                             243                           244  \n",
       "4                        5,775.00                      7,800.00  \n",
       "\n",
       "[5 rows x 76 columns]"
      ]
     },
     "execution_count": 59,
     "metadata": {},
     "output_type": "execute_result"
    }
   ],
   "source": [
    "df_bonos.head(5)"
   ]
  },
  {
   "cell_type": "markdown",
   "metadata": {},
   "source": [
    "# Graficación de curva de bonos"
   ]
  },
  {
   "cell_type": "code",
   "execution_count": 137,
   "metadata": {},
   "outputs": [
    {
     "data": {
      "image/png": "[encoded data removed]",
      "text/plain": [
       "<Figure size 432x288 with 1 Axes>"
      ]
     },
     "metadata": {
      "needs_background": "light"
     },
     "output_type": "display_data"
    }
   ],
   "source": [
    "yield_curve_tickers=[]\n",
    "llaves=df_bonos.keys()\n",
    "for i in range(len(df_bonos.iloc[2])):\n",
    "    if df_bonos.iloc[2][i].lower().find(\"yield\")>=0:\n",
    "        yield_curve_tickers.append(i)\n",
    "\n",
    "curve=[df_bonos[llaves[y]].iloc[-2] for y in yield_curve_tickers]\n",
    "plt.figure()\n",
    "plt.title(\"Curva de bonos (Bonos a 2,3,4,5,7,10 años)\")\n",
    "plt.plot([360*i for i in [2,3,4,5,7,10]],curve,color='r')\n",
    "plt.xlabel(\"Plazo (días)\")\n",
    "plt.ylabel(\"Rendimientos (%)\")\n",
    "plt.show()"
   ]
  },
  {
   "cell_type": "markdown",
   "metadata": {},
   "source": [
    "### Bootstraping"
   ]
  },
  {
   "cell_type": "code",
   "execution_count": 205,
   "metadata": {},
   "outputs": [
    {
     "name": "stdout",
     "output_type": "stream",
     "text": [
      "precio limpio de BV020476 BVAL Index: 103.55502249265265\n",
      "precio limpio de BV030476 BVAL Index: 111.48108758572356\n",
      "precio limpio de BV040476 BVAL Index: 126.99169017188795\n",
      "precio limpio de BV050476 BVAL Index: 144.2215646142861\n",
      "precio limpio de BV070476 BVAL Index: 172.1087186078522\n",
      "precio limpio de BV100476 BVAL Index: 201.86317833172117\n"
     ]
    }
   ],
   "source": [
    "plazos=[360*i for i in [2,3,4,5,7,10]]\n",
    "llaves=df_bonos2.keys()\n",
    "r=[df_bonos2[llaves[y]].iloc[i] for i in range(4,len(df_bonos2))]\n",
    "d=df_bonos2[llaves[y]].iloc[3]\n",
    "\n",
    "def factor_descuento(r,N,d):\n",
    "    F=[]\n",
    "    for i in range(len(r)):\n",
    "        F.append(1/(1+(r[i]/100)*N/360)**(i-d/N))\n",
    "    return F \n",
    "\n",
    "def precio_limpio_bonos(VN,d,N,TC,r):\n",
    "    F=factor_descuento(r,N,d)\n",
    "    C=VN*(N*(TC/100)/360)\n",
    "    C=C*np.ones(len(F))\n",
    "    p=np.sum(C*np.array(F))+F[-1]*VN-d*C[0]/N\n",
    "    return p,F\n",
    "\n",
    "for y in yield_curve_tickers:\n",
    "    r=[]\n",
    "    N=plazos[y-yield_curve_tickers[0]]\n",
    "    x=df_bonos2[llaves[y]][df_bonos2[llaves[y]].isnull()==False]\n",
    "    for i in range(int((len(x)-1)/(N/180)),len(x),int((len(x)-1)/(N/180))):\n",
    "        r.append(x.loc[list(x.index)[i-int((len(x)-1)/(N/180)):i]].mean())\n",
    "    d=float(df_bonos[llaves[y]].iloc[3])\n",
    "    TC=x.iloc[0]\n",
    "    p_l,F=precio_limpio_bonos(100,d,N,TC,r)\n",
    "    print(f\"precio limpio de {llaves[y]}: {p_l}\")"
   ]
  },
  {
   "cell_type": "markdown",
   "metadata": {},
   "source": [
    "### Creación de lista de parejas de tickers"
   ]
  },
  {
   "cell_type": "markdown",
   "metadata": {},
   "source": [
    "El código a continuación creará una lista con las parejas de los nombres de los tickers sin repetirse (de longitud $C(76,2)\\,=\\,$2850) eliminando los instrumentos que deseamos excluír del análisis."
   ]
  },
  {
   "cell_type": "code",
   "execution_count": 70,
   "metadata": {},
   "outputs": [],
   "source": [
    "parejas=[]\n",
    "llaves=list(df_bonos2.keys())\n",
    "llaves=llaves[1:]\n",
    "j=1\n",
    "for t in llaves:\n",
    "    if t.upper().find('USD-MXN X-RATE')==-1 and df_bonos[t].iloc[2].lower().find('forward points')==-1:\n",
    "        for i in range(j,len(llaves)):\n",
    "            if llaves[j].upper().find('USD-MXN X-RATE')==-1 and df_bonos[llaves[j]].iloc[2].lower().find('forward points')==-1:\n",
    "                parejas.append([t,llaves[i]])\n",
    "    j+=1"
   ]
  },
  {
   "cell_type": "markdown",
   "metadata": {},
   "source": [
    "### Valuación Relativa"
   ]
  },
  {
   "cell_type": "markdown",
   "metadata": {},
   "source": [
    "El siguiente código compara las diferentes parejas de tickers de interés comparando su spread actual con su media histórica para determinar cuál es el más atractivo."
   ]
  },
  {
   "cell_type": "code",
   "execution_count": 167,
   "metadata": {},
   "outputs": [],
   "source": [
    "def evalua(p):\n",
    "    spread=df_bonos2[p[0]]-df_bonos2[p[1]]\n",
    "    mediana=spread.quantile(.5)\n",
    "    if spread.iloc[-1]< mediana:\n",
    "        return 0,spread.iloc[-1]\n",
    "    else:\n",
    "        return 1,spread.iloc[-1]"
   ]
  },
  {
   "cell_type": "code",
   "execution_count": 168,
   "metadata": {},
   "outputs": [],
   "source": [
    "comparacion=[]\n",
    "spread=[]\n",
    "resultado=[]\n",
    "for p in parejas:\n",
    "    ev,s=evalua(p)\n",
    "    comparacion.append(p[0]+' vs '+p[1])\n",
    "    spread.append(s)\n",
    "    resultado.append('El ticker más atractivo es: '+p[ev])\n",
    "df_resultado=pd.DataFrame({'Instrumentos':comparacion,'Spread Actual':spread,'Resultado':resultado})"
   ]
  },
  {
   "cell_type": "code",
   "execution_count": 169,
   "metadata": {},
   "outputs": [
    {
     "data": {
      "text/html": [
       "<div>\n",
       "<style scoped>\n",
       "    .dataframe tbody tr th:only-of-type {\n",
       "        vertical-align: middle;\n",
       "    }\n",
       "\n",
       "    .dataframe tbody tr th {\n",
       "        vertical-align: top;\n",
       "    }\n",
       "\n",
       "    .dataframe thead th {\n",
       "        text-align: right;\n",
       "    }\n",
       "</style>\n",
       "<table border=\"1\" class=\"dataframe\">\n",
       "  <thead>\n",
       "    <tr style=\"text-align: right;\">\n",
       "      <th></th>\n",
       "      <th>Instrumentos</th>\n",
       "      <th>Spread Actual</th>\n",
       "      <th>Resultado</th>\n",
       "    </tr>\n",
       "  </thead>\n",
       "  <tbody>\n",
       "    <tr>\n",
       "      <th>0</th>\n",
       "      <td>MXBRBA Index vs MXIBTIIE Index</td>\n",
       "      <td>-0.2275</td>\n",
       "      <td>El ticker más atractivo es: MXIBTIIE Index</td>\n",
       "    </tr>\n",
       "    <tr>\n",
       "      <th>1</th>\n",
       "      <td>MXBRBA Index vs MXIB91DT Index</td>\n",
       "      <td>-0.1380</td>\n",
       "      <td>El ticker más atractivo es: MXIB91DT Index</td>\n",
       "    </tr>\n",
       "    <tr>\n",
       "      <th>2</th>\n",
       "      <td>MXBRBA Index vs MPSWC Curncy</td>\n",
       "      <td>-0.1400</td>\n",
       "      <td>El ticker más atractivo es: MPSWC Curncy</td>\n",
       "    </tr>\n",
       "    <tr>\n",
       "      <th>3</th>\n",
       "      <td>MXBRBA Index vs MPSWF Curncy</td>\n",
       "      <td>0.0300</td>\n",
       "      <td>El ticker más atractivo es: MPSWF Curncy</td>\n",
       "    </tr>\n",
       "    <tr>\n",
       "      <th>4</th>\n",
       "      <td>MXBRBA Index vs MPSWI Curncy</td>\n",
       "      <td>0.2000</td>\n",
       "      <td>El ticker más atractivo es: MPSWI Curncy</td>\n",
       "    </tr>\n",
       "  </tbody>\n",
       "</table>\n",
       "</div>"
      ],
      "text/plain": [
       "                     Instrumentos  Spread Actual  \\\n",
       "0  MXBRBA Index vs MXIBTIIE Index        -0.2275   \n",
       "1  MXBRBA Index vs MXIB91DT Index        -0.1380   \n",
       "2    MXBRBA Index vs MPSWC Curncy        -0.1400   \n",
       "3    MXBRBA Index vs MPSWF Curncy         0.0300   \n",
       "4    MXBRBA Index vs MPSWI Curncy         0.2000   \n",
       "\n",
       "                                    Resultado  \n",
       "0  El ticker más atractivo es: MXIBTIIE Index  \n",
       "1  El ticker más atractivo es: MXIB91DT Index  \n",
       "2    El ticker más atractivo es: MPSWC Curncy  \n",
       "3    El ticker más atractivo es: MPSWF Curncy  \n",
       "4    El ticker más atractivo es: MPSWI Curncy  "
      ]
     },
     "execution_count": 169,
     "metadata": {},
     "output_type": "execute_result"
    }
   ],
   "source": [
    "df_resultado.head(5)"
   ]
  }
 ],
 "metadata": {
  "kernelspec": {
   "display_name": "Python 3",
   "language": "python",
   "name": "python3"
  },
  "language_info": {
   "codemirror_mode": {
    "name": "ipython",
    "version": 3
   },
   "file_extension": ".py",
   "mimetype": "text/x-python",
   "name": "python",
   "nbconvert_exporter": "python",
   "pygments_lexer": "ipython3",
   "version": "3.7.4"
  }
 },
 "nbformat": 4,
 "nbformat_minor": 2
}
