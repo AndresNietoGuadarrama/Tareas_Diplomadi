{
 "cells": [
  {
   "cell_type": "markdown",
   "metadata": {},
   "source": [
    "# Intro Data Science"
   ]
  },
  {
   "cell_type": "markdown",
   "metadata": {},
   "source": [
    "# Andrés Nieto Guadarrama"
   ]
  },
  {
   "cell_type": "code",
   "execution_count": 2,
   "metadata": {},
   "outputs": [],
   "source": [
    "import os\n",
    "import requests\n",
    "import pandas as pd\n",
    "import numpy as np\n",
    "import matplotlib.pyplot as plt"
   ]
  },
  {
   "cell_type": "markdown",
   "metadata": {},
   "source": [
    "1. Usando el API de `AlphaVantage` descarga la información histórica de precios diaria (`TIME_SERIES_DAILY`) para los siguientes 5 tickers: `[\"GOOGL\", \"MSFT\", \"AAPL\", \"TSLA\", \"AMZN\"]`\n",
    "\n",
    "```\n",
    "{'GOOGL': {'Meta Data': {'1. Information': 'Daily Prices (open, high, low, close) and Volumes', '2. Symbol': 'GOOGL', '3. Last Refreshed': '2020-01-13 14:48:47', '4. Output Size': 'Full size', '5. Time Zone': 'US/Eastern'}, 'Time Series (Daily)': {'2020-01-13': {'1. open': '1435.2500', '2. high': '1439.8900', '3. low': '1425.3700', '4. close': '1437.2850', '5. volume': '782014'}, '2020-01-10': {'1. open': '1429.4700', '2. high': '1434.9400', '3. low': '1419.6000', '4. close': '1428.9600', '5. volume': '1313178'}, '2020-01-09': {'1. open': '1421.9300', '2. high': '1428.6800', '3. low': '1410.2100', '4. close': '1419.7900', '5. volume': '1661438'}, '2020-01-08': {'1. open': '1394.8200', '2. high': '1411.8500', '3. low': '1392.6300', '4. close': '1405.0400...\n",
    "```"
   ]
  },
  {
   "cell_type": "markdown",
   "metadata": {},
   "source": [
    "# Ejs 1 y 2"
   ]
  },
  {
   "cell_type": "code",
   "execution_count": 3,
   "metadata": {},
   "outputs": [
    {
     "name": "stderr",
     "output_type": "stream",
     "text": [
      "C:\\Users\\andre\\Anaconda3\\lib\\site-packages\\ipykernel_launcher.py:31: FutureWarning: Sorting because non-concatenation axis is not aligned. A future version\n",
      "of pandas will change to not sort by default.\n",
      "\n",
      "To accept the future behavior, pass 'sort=False'.\n",
      "\n",
      "To retain the current behavior and silence the warning, pass 'sort=True'.\n",
      "\n"
     ]
    }
   ],
   "source": [
    "url = \"https://www.alphavantage.co\"\n",
    "base_url = \"https://www.alphavantage.co/query\"\n",
    "# Cargamos el API Key de Alpha Vantage\n",
    "avkey = 'UOGXB0ZV5BN965ES'\n",
    "l_tickers=[\"GOOGL\",\"MSFT\", \"AAPL\", \"TSLA\", \"AMZN\"]\n",
    "\n",
    "# day = {\n",
    "#     \"function\": \"TIME_SERIES_DAILY\",\n",
    "#     \"symbol\":\"GOOGL\",\n",
    "#     \"apikey\": avkey\n",
    "# }\n",
    "# r = requests.get(base_url, params=day)\n",
    "# data=r.json()\n",
    "# df_close=pd.DataFrame(data['Time Series (Daily)']).T\n",
    "# df_close=df_close.rename(columns={'4. close':'GOOGL'})\n",
    "# df=df_close['GOOGL']\n",
    "\n",
    "df=pd.DataFrame({})\n",
    "for t in l_tickers:\n",
    "    day = {\n",
    "    \"function\": \"TIME_SERIES_DAILY\",\n",
    "    \"symbol\":t,\n",
    "    \"outputsize\":\"full\",\n",
    "    \"apikey\": avkey\n",
    "    }\n",
    "    r = requests.get(base_url, params=day)\n",
    "    data=r.json()\n",
    "    df_close=pd.DataFrame(data['Time Series (Daily)']).T\n",
    "    df_close=df_close.rename(columns={'4. close':t})\n",
    "    df_aux=df_close[t]\n",
    "    df=pd.concat([df, df_aux], axis=1)"
   ]
  },
  {
   "cell_type": "markdown",
   "metadata": {},
   "source": [
    "2. Con la información descargada previamente, crea un pandas DataFrame de precios de cierre (`4. close`). Cada columna de `df` deberá ser el el nombre de cada ticker.\n",
    "\n",
    "<table border=\"1\" class=\"dataframe\">  <thead>    <tr style=\"text-align: right;\">      <th></th>      <th>GOOGL</th>      <th>MSFT</th>      <th>AAPL</th>      <th>TSLA</th>      <th>AMZN</th>    </tr>  </thead>  <tbody>    <tr>      <th>2020-01-13</th>      <td>1437.2850</td>      <td>162.8700</td>      <td>314.5000</td>      <td>516.9657</td>      <td>1894.2900</td>    </tr>    <tr>      <th>2020-01-10</th>      <td>1428.9600</td>      <td>161.3400</td>      <td>310.3300</td>      <td>478.1500</td>      <td>1883.1600</td>    </tr>    <tr>      <th>2020-01-09</th>      <td>1419.7900</td>      <td>162.0900</td>      <td>309.6300</td>      <td>481.3400</td>      <td>1901.0500</td>    </tr>    <tr>      <th>2020-01-08</th>      <td>1405.0400</td>      <td>160.0900</td>      <td>303.1900</td>      <td>492.1400</td>      <td>1891.9700</td>    </tr>    <tr>      <th>2020-01-07</th>      <td>1395.1100</td>      <td>157.5800</td>      <td>298.3900</td>      <td>469.0600</td>      <td>1906.8600</td>    </tr>  </tbody></table>\n"
   ]
  },
  {
   "cell_type": "code",
   "execution_count": 4,
   "metadata": {},
   "outputs": [],
   "source": [
    "import datetime\n",
    "from datetime import datetime\n",
    "#l_tickers.append('GOOGL')\n",
    "date_index=pd.to_datetime(df.index)\n",
    "df.index=date_index\n",
    "df['indice']=df.index\n",
    "df=df.sort_values(by=['indice'],ascending=False)\n",
    "df=df[l_tickers]\n",
    "df=df.astype(float)"
   ]
  },
  {
   "cell_type": "code",
   "execution_count": 5,
   "metadata": {},
   "outputs": [
    {
     "data": {
      "text/html": [
       "<div>\n",
       "<style scoped>\n",
       "    .dataframe tbody tr th:only-of-type {\n",
       "        vertical-align: middle;\n",
       "    }\n",
       "\n",
       "    .dataframe tbody tr th {\n",
       "        vertical-align: top;\n",
       "    }\n",
       "\n",
       "    .dataframe thead th {\n",
       "        text-align: right;\n",
       "    }\n",
       "</style>\n",
       "<table border=\"1\" class=\"dataframe\">\n",
       "  <thead>\n",
       "    <tr style=\"text-align: right;\">\n",
       "      <th></th>\n",
       "      <th>GOOGL</th>\n",
       "      <th>MSFT</th>\n",
       "      <th>AAPL</th>\n",
       "      <th>TSLA</th>\n",
       "      <th>AMZN</th>\n",
       "    </tr>\n",
       "  </thead>\n",
       "  <tbody>\n",
       "    <tr>\n",
       "      <td>2020-01-17</td>\n",
       "      <td>1479.52</td>\n",
       "      <td>167.10</td>\n",
       "      <td>318.73</td>\n",
       "      <td>510.50</td>\n",
       "      <td>1864.72</td>\n",
       "    </tr>\n",
       "    <tr>\n",
       "      <td>2020-01-16</td>\n",
       "      <td>1450.16</td>\n",
       "      <td>166.17</td>\n",
       "      <td>315.24</td>\n",
       "      <td>513.49</td>\n",
       "      <td>1877.94</td>\n",
       "    </tr>\n",
       "    <tr>\n",
       "      <td>2020-01-15</td>\n",
       "      <td>1439.20</td>\n",
       "      <td>163.18</td>\n",
       "      <td>311.34</td>\n",
       "      <td>518.50</td>\n",
       "      <td>1862.02</td>\n",
       "    </tr>\n",
       "    <tr>\n",
       "      <td>2020-01-14</td>\n",
       "      <td>1430.59</td>\n",
       "      <td>162.13</td>\n",
       "      <td>312.68</td>\n",
       "      <td>537.92</td>\n",
       "      <td>1869.44</td>\n",
       "    </tr>\n",
       "    <tr>\n",
       "      <td>2020-01-13</td>\n",
       "      <td>1440.03</td>\n",
       "      <td>163.28</td>\n",
       "      <td>316.96</td>\n",
       "      <td>524.86</td>\n",
       "      <td>1891.30</td>\n",
       "    </tr>\n",
       "  </tbody>\n",
       "</table>\n",
       "</div>"
      ],
      "text/plain": [
       "              GOOGL    MSFT    AAPL    TSLA     AMZN\n",
       "2020-01-17  1479.52  167.10  318.73  510.50  1864.72\n",
       "2020-01-16  1450.16  166.17  315.24  513.49  1877.94\n",
       "2020-01-15  1439.20  163.18  311.34  518.50  1862.02\n",
       "2020-01-14  1430.59  162.13  312.68  537.92  1869.44\n",
       "2020-01-13  1440.03  163.28  316.96  524.86  1891.30"
      ]
     },
     "execution_count": 5,
     "metadata": {},
     "output_type": "execute_result"
    }
   ],
   "source": [
    "df.head(5)"
   ]
  },
  {
   "attachments": {
    "image.png": {
     "image/png": "[encoded data removed]"
    }
   },
   "cell_type": "markdown",
   "metadata": {},
   "source": [
    "3. Crea una gráfica del 2012 a la última observación de los precios de cierre para cada uno de los tickers\n",
    "\n",
    "![image.png](attachment:image.png)"
   ]
  },
  {
   "cell_type": "code",
   "execution_count": 6,
   "metadata": {},
   "outputs": [
    {
     "data": {
      "image/png": "[encoded data removed]",
      "text/plain": [
       "<Figure size 432x288 with 1 Axes>"
      ]
     },
     "metadata": {
      "needs_background": "light"
     },
     "output_type": "display_data"
    }
   ],
   "source": [
    "df.loc[:\"2012\"].plot()\n",
    "plt.yticks(np.linspace(df.loc[:\"2012\"].min().min(),df.loc[:\"2012\"].max().max(),10))\n",
    "plt.show()"
   ]
  },
  {
   "cell_type": "markdown",
   "metadata": {},
   "source": [
    "**Para los siguientes ejercicios utiliza información del 2018 a la fecha**"
   ]
  },
  {
   "cell_type": "markdown",
   "metadata": {},
   "source": [
    "4. Calcula el rendimiento esperado diario de cada emisora"
   ]
  },
  {
   "cell_type": "code",
   "execution_count": 7,
   "metadata": {},
   "outputs": [
    {
     "data": {
      "text/plain": [
       "GOOGL   -0.000491\n",
       "MSFT    -0.001176\n",
       "AAPL    -0.001046\n",
       "TSLA    -0.000330\n",
       "AMZN    -0.000697\n",
       "dtype: float64"
      ]
     },
     "execution_count": 7,
     "metadata": {},
     "output_type": "execute_result"
    }
   ],
   "source": [
    "rend=df.loc[:\"2018\"].pct_change(periods=1)\n",
    "md=rend.mean()\n",
    "md"
   ]
  },
  {
   "cell_type": "markdown",
   "metadata": {},
   "source": [
    "5. Calcula el rendimiento esperado anual de cada emisora"
   ]
  },
  {
   "cell_type": "code",
   "execution_count": 8,
   "metadata": {},
   "outputs": [
    {
     "data": {
      "text/plain": [
       "GOOGL   -0.061877\n",
       "MSFT    -0.227588\n",
       "AAPL    -0.093479\n",
       "TSLA     0.170647\n",
       "AMZN    -0.085058\n",
       "dtype: float64"
      ]
     },
     "execution_count": 8,
     "metadata": {},
     "output_type": "execute_result"
    }
   ],
   "source": [
    "rend=df.loc[:\"2018\"].pct_change(periods=252)\n",
    "mAn=rend.mean()\n",
    "mAn"
   ]
  },
  {
   "cell_type": "markdown",
   "metadata": {},
   "source": [
    "6. Dado los siguientes ponderadores, calcula el rendimiento esperado diario del portafolio"
   ]
  },
  {
   "cell_type": "code",
   "execution_count": 9,
   "metadata": {},
   "outputs": [],
   "source": [
    "# Generación de ponderadores aleatorios\n",
    "np.random.seed(314)\n",
    "w = np.random.random(size=5)\n",
    "w = w / w.sum()"
   ]
  },
  {
   "cell_type": "code",
   "execution_count": 10,
   "metadata": {},
   "outputs": [
    {
     "data": {
      "text/plain": [
       "-0.0006676187008021654"
      ]
     },
     "execution_count": 10,
     "metadata": {},
     "output_type": "execute_result"
    }
   ],
   "source": [
    "rendimiento_esperado_diario=np.dot(w,md)\n",
    "rendimiento_esperado_diario"
   ]
  },
  {
   "cell_type": "markdown",
   "metadata": {},
   "source": [
    "7. Dado ponderadores $w$, calcula el rendimiento esperado anual del portafolio"
   ]
  },
  {
   "cell_type": "code",
   "execution_count": 11,
   "metadata": {},
   "outputs": [
    {
     "data": {
      "text/plain": [
       "-0.0460547670677308"
      ]
     },
     "execution_count": 11,
     "metadata": {},
     "output_type": "execute_result"
    }
   ],
   "source": [
    "rendimiento_esperado_anual=np.dot(w,mAn)\n",
    "rendimiento_esperado_anual"
   ]
  },
  {
   "cell_type": "markdown",
   "metadata": {},
   "source": [
    "8. Calcula la matriz de variaza/covarianza"
   ]
  },
  {
   "cell_type": "code",
   "execution_count": 12,
   "metadata": {},
   "outputs": [
    {
     "data": {
      "text/html": [
       "<div>\n",
       "<style scoped>\n",
       "    .dataframe tbody tr th:only-of-type {\n",
       "        vertical-align: middle;\n",
       "    }\n",
       "\n",
       "    .dataframe tbody tr th {\n",
       "        vertical-align: top;\n",
       "    }\n",
       "\n",
       "    .dataframe thead th {\n",
       "        text-align: right;\n",
       "    }\n",
       "</style>\n",
       "<table border=\"1\" class=\"dataframe\">\n",
       "  <thead>\n",
       "    <tr style=\"text-align: right;\">\n",
       "      <th></th>\n",
       "      <th>GOOGL</th>\n",
       "      <th>MSFT</th>\n",
       "      <th>AAPL</th>\n",
       "      <th>TSLA</th>\n",
       "      <th>AMZN</th>\n",
       "    </tr>\n",
       "  </thead>\n",
       "  <tbody>\n",
       "    <tr>\n",
       "      <td>GOOGL</td>\n",
       "      <td>8217.236409</td>\n",
       "      <td>1329.025078</td>\n",
       "      <td>2600.310296</td>\n",
       "      <td>1564.294735</td>\n",
       "      <td>8631.693302</td>\n",
       "    </tr>\n",
       "    <tr>\n",
       "      <td>MSFT</td>\n",
       "      <td>1329.025078</td>\n",
       "      <td>398.126190</td>\n",
       "      <td>544.734977</td>\n",
       "      <td>-71.061771</td>\n",
       "      <td>2280.061888</td>\n",
       "    </tr>\n",
       "    <tr>\n",
       "      <td>AAPL</td>\n",
       "      <td>2600.310296</td>\n",
       "      <td>544.734977</td>\n",
       "      <td>1152.018908</td>\n",
       "      <td>575.433137</td>\n",
       "      <td>3237.224201</td>\n",
       "    </tr>\n",
       "    <tr>\n",
       "      <td>TSLA</td>\n",
       "      <td>1564.294735</td>\n",
       "      <td>-71.061771</td>\n",
       "      <td>575.433137</td>\n",
       "      <td>3112.286422</td>\n",
       "      <td>-2387.749160</td>\n",
       "    </tr>\n",
       "    <tr>\n",
       "      <td>AMZN</td>\n",
       "      <td>8631.693302</td>\n",
       "      <td>2280.061888</td>\n",
       "      <td>3237.224201</td>\n",
       "      <td>-2387.749160</td>\n",
       "      <td>29923.661669</td>\n",
       "    </tr>\n",
       "  </tbody>\n",
       "</table>\n",
       "</div>"
      ],
      "text/plain": [
       "             GOOGL         MSFT         AAPL         TSLA          AMZN\n",
       "GOOGL  8217.236409  1329.025078  2600.310296  1564.294735   8631.693302\n",
       "MSFT   1329.025078   398.126190   544.734977   -71.061771   2280.061888\n",
       "AAPL   2600.310296   544.734977  1152.018908   575.433137   3237.224201\n",
       "TSLA   1564.294735   -71.061771   575.433137  3112.286422  -2387.749160\n",
       "AMZN   8631.693302  2280.061888  3237.224201 -2387.749160  29923.661669"
      ]
     },
     "execution_count": 12,
     "metadata": {},
     "output_type": "execute_result"
    }
   ],
   "source": [
    "matriz_var_covar=df.loc[:\"2018\"].cov()\n",
    "Var=np.diag(matriz_var_covar)\n",
    "matriz_var_covar"
   ]
  },
  {
   "cell_type": "markdown",
   "metadata": {},
   "source": [
    "9. Calcula la varianza anual del portafolio"
   ]
  },
  {
   "cell_type": "code",
   "execution_count": 13,
   "metadata": {},
   "outputs": [
    {
     "data": {
      "text/plain": [
       "714.025297239169"
      ]
     },
     "execution_count": 13,
     "metadata": {},
     "output_type": "execute_result"
    }
   ],
   "source": [
    "v_aux=np.array(mAn).reshape(5,1)\n",
    "var=np.dot(v_aux.T,np.dot(matriz_var_covar,v_aux))\n",
    "var=var[0][0]\n",
    "var"
   ]
  },
  {
   "cell_type": "markdown",
   "metadata": {},
   "source": [
    "10. Calcula la desviación estándar anual del portafolio"
   ]
  },
  {
   "cell_type": "code",
   "execution_count": 19,
   "metadata": {},
   "outputs": [
    {
     "data": {
      "text/plain": [
       "26.72125179027302"
      ]
     },
     "execution_count": 19,
     "metadata": {},
     "output_type": "execute_result"
    }
   ],
   "source": [
    "ds=var**0.5\n",
    "ds"
   ]
  },
  {
   "cell_type": "markdown",
   "metadata": {},
   "source": [
    "11. Para cada ticker, calcula la distribución a posteriori de su rendimiento $\\mu_r$ asumiendo una distribución a priori normal y $\\sigma_r$ conocida (asume que $\\sigma_r$ es la desviación estándard muestral)\n",
    "\n",
    "    * Para cada ticker, ¿cuál es la probabilida de que $\\mu_r$ se positivo? ($\\forall r. p(\\mu_r) > 0$)\n",
    "    * Cómo elegiste los hyperparámetros de la distribución a priori?"
   ]
  },
  {
   "cell_type": "code",
   "execution_count": 20,
   "metadata": {},
   "outputs": [
    {
     "name": "stdout",
     "output_type": "stream",
     "text": [
      "Probabilidad (a posteriori) de tener un rendimiento esperado positivo en GOOGL es: 49.381%\n",
      "Probabilidad (a posteriori) de tener un rendimiento esperado positivo en MSFT es: 39.778%\n",
      "Probabilidad (a posteriori) de tener un rendimiento esperado positivo en AAPL es: 47.506%\n",
      "Probabilidad (a posteriori) de tener un rendimiento esperado positivo en TSLA es: 52.77%\n",
      "Probabilidad (a posteriori) de tener un rendimiento esperado positivo en AMZN es: 49.554%\n"
     ]
    }
   ],
   "source": [
    "import scipy.stats\n",
    "from scipy.stats import norm\n",
    "def media_y_var_posteriori(Mp,Vp,Vpob,n):\n",
    "    M=[]\n",
    "    V=[]\n",
    "    for mp,vp,vpob in zip(Mp,Vp,Vpob):\n",
    "        v=(1/vp+n/vpob)**-1\n",
    "        m=v*(mp/vp+n*mp/vpob)\n",
    "        M.append(m)\n",
    "        V.append(v)\n",
    "    return M,V\n",
    "    \n",
    "#Hiperparámetros: media: rendimiento_esperado_anual,varianza: varianza del rendimiento anual\n",
    "M,V=media_y_var_posteriori(mAn,Var,Var,len(rend))\n",
    "#Probabilidad que el rendimiento medio sea positivo:\n",
    "P=[]\n",
    "for m,v,l in zip(M,V,l_tickers):\n",
    "    p=norm.cdf(0,m,v**0.5)\n",
    "    P.append(1-p)\n",
    "    print(f\"Probabilidad (a posteriori) de tener un rendimiento esperado positivo en {l} es: {round(100*(1-p),3)}%\")"
   ]
  }
 ],
 "metadata": {
  "kernelspec": {
   "display_name": "Python 3",
   "language": "python",
   "name": "python3"
  },
  "language_info": {
   "codemirror_mode": {
    "name": "ipython",
    "version": 3
   },
   "file_extension": ".py",
   "mimetype": "text/x-python",
   "name": "python",
   "nbconvert_exporter": "python",
   "pygments_lexer": "ipython3",
   "version": "3.7.4"
  }
 },
 "nbformat": 4,
 "nbformat_minor": 2
}
