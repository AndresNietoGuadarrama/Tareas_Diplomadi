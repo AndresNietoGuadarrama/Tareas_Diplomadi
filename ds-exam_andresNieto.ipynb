{
 "cells": [
  {
   "cell_type": "markdown",
   "metadata": {},
   "source": [
    "# Intro Data Science"
   ]
  },
  {
   "cell_type": "markdown",
   "metadata": {},
   "source": [
    "# Andrés Nieto Guadarrama"
   ]
  },
  {
   "cell_type": "code",
   "execution_count": 2,
   "metadata": {},
   "outputs": [],
   "source": [
    "import os\n",
    "import requests\n",
    "import pandas as pd\n",
    "import matplotlib.pyplot as plt"
   ]
  },
  {
   "cell_type": "markdown",
   "metadata": {},
   "source": [
    "1. Usando el API de `AlphaVantage` descarga la información histórica de precios diaria (`TIME_SERIES_DAILY`) para los siguientes 5 tickers: `[\"GOOGL\", \"MSFT\", \"AAPL\", \"TSLA\", \"AMZN\"]`\n",
    "\n",
    "```\n",
    "{'GOOGL': {'Meta Data': {'1. Information': 'Daily Prices (open, high, low, close) and Volumes', '2. Symbol': 'GOOGL', '3. Last Refreshed': '2020-01-13 14:48:47', '4. Output Size': 'Full size', '5. Time Zone': 'US/Eastern'}, 'Time Series (Daily)': {'2020-01-13': {'1. open': '1435.2500', '2. high': '1439.8900', '3. low': '1425.3700', '4. close': '1437.2850', '5. volume': '782014'}, '2020-01-10': {'1. open': '1429.4700', '2. high': '1434.9400', '3. low': '1419.6000', '4. close': '1428.9600', '5. volume': '1313178'}, '2020-01-09': {'1. open': '1421.9300', '2. high': '1428.6800', '3. low': '1410.2100', '4. close': '1419.7900', '5. volume': '1661438'}, '2020-01-08': {'1. open': '1394.8200', '2. high': '1411.8500', '3. low': '1392.6300', '4. close': '1405.0400...\n",
    "```"
   ]
  },
  {
   "cell_type": "markdown",
   "metadata": {},
   "source": [
    "# Ejs 1 y 2"
   ]
  },
  {
   "cell_type": "code",
   "execution_count": 92,
   "metadata": {},
   "outputs": [
    {
     "name": "stderr",
     "output_type": "stream",
     "text": [
      "C:\\Users\\AN012491\\AppData\\Local\\Continuum\\anaconda3\\lib\\site-packages\\ipykernel_launcher.py:30: FutureWarning: Sorting because non-concatenation axis is not aligned. A future version\n",
      "of pandas will change to not sort by default.\n",
      "\n",
      "To accept the future behavior, pass 'sort=False'.\n",
      "\n",
      "To retain the current behavior and silence the warning, pass 'sort=True'.\n",
      "\n"
     ]
    }
   ],
   "source": [
    "url = \"https://www.alphavantage.co\"\n",
    "base_url = \"https://www.alphavantage.co/query\"\n",
    "# Cargamos el API Key de Alpha Vantage\n",
    "avkey = 'UOGXB0ZV5BN965ES'\n",
    "l_tickers=[\"MSFT\", \"AAPL\", \"TSLA\", \"AMZN\"]\n",
    "\n",
    "day = {\n",
    "    \"function\": \"TIME_SERIES_DAILY\",\n",
    "    \"symbol\":\"GOOGL\",\n",
    "    \"apikey\": avkey\n",
    "}\n",
    "r = requests.get(base_url, params=day)\n",
    "data=r.json()\n",
    "df_close=pd.DataFrame(data['Time Series (Daily)']).T\n",
    "df_close=df_close.rename(columns={'4. close':'GOOGL'})\n",
    "df=df_close['GOOGL']\n",
    "\n",
    "for t in l_tickers:\n",
    "    day = {\n",
    "    \"function\": \"TIME_SERIES_DAILY\",\n",
    "    \"symbol\":t,\n",
    "    \"outputsize\":\"full\",\n",
    "    \"apikey\": avkey\n",
    "    }\n",
    "    r = requests.get(base_url, params=day)\n",
    "    data=r.json()\n",
    "    df_close=pd.DataFrame(data['Time Series (Daily)']).T\n",
    "    df_close=df_close.rename(columns={'4. close':t})\n",
    "    df_aux=df_close[t]\n",
    "    df=pd.concat([df, df_aux], axis=1)"
   ]
  },
  {
   "cell_type": "markdown",
   "metadata": {},
   "source": [
    "2. Con la información descargada previamente, crea un pandas DataFrame de precios de cierre (`4. close`). Cada columna de `df` deberá ser el el nombre de cada ticker.\n",
    "\n",
    "<table border=\"1\" class=\"dataframe\">  <thead>    <tr style=\"text-align: right;\">      <th></th>      <th>GOOGL</th>      <th>MSFT</th>      <th>AAPL</th>      <th>TSLA</th>      <th>AMZN</th>    </tr>  </thead>  <tbody>    <tr>      <th>2020-01-13</th>      <td>1437.2850</td>      <td>162.8700</td>      <td>314.5000</td>      <td>516.9657</td>      <td>1894.2900</td>    </tr>    <tr>      <th>2020-01-10</th>      <td>1428.9600</td>      <td>161.3400</td>      <td>310.3300</td>      <td>478.1500</td>      <td>1883.1600</td>    </tr>    <tr>      <th>2020-01-09</th>      <td>1419.7900</td>      <td>162.0900</td>      <td>309.6300</td>      <td>481.3400</td>      <td>1901.0500</td>    </tr>    <tr>      <th>2020-01-08</th>      <td>1405.0400</td>      <td>160.0900</td>      <td>303.1900</td>      <td>492.1400</td>      <td>1891.9700</td>    </tr>    <tr>      <th>2020-01-07</th>      <td>1395.1100</td>      <td>157.5800</td>      <td>298.3900</td>      <td>469.0600</td>      <td>1906.8600</td>    </tr>  </tbody></table>\n"
   ]
  },
  {
   "cell_type": "code",
   "execution_count": 93,
   "metadata": {},
   "outputs": [
    {
     "data": {
      "text/html": [
       "<div>\n",
       "<style scoped>\n",
       "    .dataframe tbody tr th:only-of-type {\n",
       "        vertical-align: middle;\n",
       "    }\n",
       "\n",
       "    .dataframe tbody tr th {\n",
       "        vertical-align: top;\n",
       "    }\n",
       "\n",
       "    .dataframe thead th {\n",
       "        text-align: right;\n",
       "    }\n",
       "</style>\n",
       "<table border=\"1\" class=\"dataframe\">\n",
       "  <thead>\n",
       "    <tr style=\"text-align: right;\">\n",
       "      <th></th>\n",
       "      <th>MSFT</th>\n",
       "      <th>AAPL</th>\n",
       "      <th>TSLA</th>\n",
       "      <th>AMZN</th>\n",
       "      <th>GOOGL</th>\n",
       "    </tr>\n",
       "  </thead>\n",
       "  <tbody>\n",
       "    <tr>\n",
       "      <th>2020-01-15</th>\n",
       "      <td>163.18</td>\n",
       "      <td>311.34</td>\n",
       "      <td>518.50</td>\n",
       "      <td>1862.02</td>\n",
       "      <td>1439.20</td>\n",
       "    </tr>\n",
       "    <tr>\n",
       "      <th>2020-01-14</th>\n",
       "      <td>162.13</td>\n",
       "      <td>312.68</td>\n",
       "      <td>537.92</td>\n",
       "      <td>1869.44</td>\n",
       "      <td>1430.59</td>\n",
       "    </tr>\n",
       "    <tr>\n",
       "      <th>2020-01-13</th>\n",
       "      <td>163.28</td>\n",
       "      <td>316.96</td>\n",
       "      <td>524.86</td>\n",
       "      <td>1891.30</td>\n",
       "      <td>1440.03</td>\n",
       "    </tr>\n",
       "    <tr>\n",
       "      <th>2020-01-10</th>\n",
       "      <td>161.34</td>\n",
       "      <td>310.33</td>\n",
       "      <td>478.15</td>\n",
       "      <td>1883.16</td>\n",
       "      <td>1428.96</td>\n",
       "    </tr>\n",
       "    <tr>\n",
       "      <th>2020-01-09</th>\n",
       "      <td>162.09</td>\n",
       "      <td>309.63</td>\n",
       "      <td>481.34</td>\n",
       "      <td>1901.05</td>\n",
       "      <td>1419.79</td>\n",
       "    </tr>\n",
       "    <tr>\n",
       "      <th>...</th>\n",
       "      <td>...</td>\n",
       "      <td>...</td>\n",
       "      <td>...</td>\n",
       "      <td>...</td>\n",
       "      <td>...</td>\n",
       "    </tr>\n",
       "    <tr>\n",
       "      <th>2000-01-20</th>\n",
       "      <td>106.00</td>\n",
       "      <td>113.50</td>\n",
       "      <td>NaN</td>\n",
       "      <td>64.75</td>\n",
       "      <td>NaN</td>\n",
       "    </tr>\n",
       "    <tr>\n",
       "      <th>2000-01-19</th>\n",
       "      <td>107.00</td>\n",
       "      <td>106.56</td>\n",
       "      <td>NaN</td>\n",
       "      <td>66.81</td>\n",
       "      <td>NaN</td>\n",
       "    </tr>\n",
       "    <tr>\n",
       "      <th>2000-01-18</th>\n",
       "      <td>115.31</td>\n",
       "      <td>103.94</td>\n",
       "      <td>NaN</td>\n",
       "      <td>64.13</td>\n",
       "      <td>NaN</td>\n",
       "    </tr>\n",
       "    <tr>\n",
       "      <th>2000-01-14</th>\n",
       "      <td>112.25</td>\n",
       "      <td>100.44</td>\n",
       "      <td>NaN</td>\n",
       "      <td>64.25</td>\n",
       "      <td>NaN</td>\n",
       "    </tr>\n",
       "    <tr>\n",
       "      <th>2000-01-13</th>\n",
       "      <td>107.81</td>\n",
       "      <td>96.75</td>\n",
       "      <td>NaN</td>\n",
       "      <td>65.94</td>\n",
       "      <td>NaN</td>\n",
       "    </tr>\n",
       "  </tbody>\n",
       "</table>\n",
       "<p>5033 rows × 5 columns</p>\n",
       "</div>"
      ],
      "text/plain": [
       "              MSFT    AAPL    TSLA     AMZN    GOOGL\n",
       "2020-01-15  163.18  311.34  518.50  1862.02  1439.20\n",
       "2020-01-14  162.13  312.68  537.92  1869.44  1430.59\n",
       "2020-01-13  163.28  316.96  524.86  1891.30  1440.03\n",
       "2020-01-10  161.34  310.33  478.15  1883.16  1428.96\n",
       "2020-01-09  162.09  309.63  481.34  1901.05  1419.79\n",
       "...            ...     ...     ...      ...      ...\n",
       "2000-01-20  106.00  113.50     NaN    64.75      NaN\n",
       "2000-01-19  107.00  106.56     NaN    66.81      NaN\n",
       "2000-01-18  115.31  103.94     NaN    64.13      NaN\n",
       "2000-01-14  112.25  100.44     NaN    64.25      NaN\n",
       "2000-01-13  107.81   96.75     NaN    65.94      NaN\n",
       "\n",
       "[5033 rows x 5 columns]"
      ]
     },
     "execution_count": 93,
     "metadata": {},
     "output_type": "execute_result"
    }
   ],
   "source": [
    "import datetime\n",
    "from datetime import datetime\n",
    "l_tickers.append('GOOGL')\n",
    "date_index=pd.to_datetime(df.index)\n",
    "df.index=date_index\n",
    "df['indice']=df.index\n",
    "df=df.sort_values(by=['indice'],ascending=False)\n",
    "df=df[l_tickers]\n",
    "df=df.astype(float)\n",
    "df"
   ]
  },
  {
   "attachments": {
    "image.png": {
     "image/png": "[encoded data removed]"
    }
   },
   "cell_type": "markdown",
   "metadata": {},
   "source": [
    "3. Crea una gráfica del 2012 a la última observación de los precios de cierre para cada uno de los tickers\n",
    "\n",
    "![image.png](attachment:image.png)"
   ]
  },
  {
   "cell_type": "code",
   "execution_count": 95,
   "metadata": {},
   "outputs": [
    {
     "data": {
      "text/plain": [
       "<matplotlib.axes._subplots.AxesSubplot at 0x170118a5b08>"
      ]
     },
     "execution_count": 95,
     "metadata": {},
     "output_type": "execute_result"
    },
    {
     "data": {
      "image/png": "[encoded data removed]",
      "text/plain": [
       "<Figure size 432x288 with 1 Axes>"
      ]
     },
     "metadata": {
      "needs_background": "light"
     },
     "output_type": "display_data"
    }
   ],
   "source": [
    "df.loc[\"2012\"].plot()"
   ]
  },
  {
   "cell_type": "markdown",
   "metadata": {},
   "source": [
    "**Para los siguientes ejercicios utiliza información del 2018 a la fecha**"
   ]
  },
  {
   "cell_type": "markdown",
   "metadata": {},
   "source": [
    "4. Calcula el rendimiento esperado diario de cada emisora"
   ]
  },
  {
   "cell_type": "code",
   "execution_count": null,
   "metadata": {},
   "outputs": [],
   "source": [
    "df2=df.shift(periods=1)\n",
    "rend=(df-df2)/df\n",
    "md=rend.resample(\"D\").mean()"
   ]
  },
  {
   "cell_type": "markdown",
   "metadata": {},
   "source": [
    "5. Calcula el rendimiento esperado anual de cada emisora"
   ]
  },
  {
   "cell_type": "code",
   "execution_count": null,
   "metadata": {},
   "outputs": [],
   "source": [
    "my=rend.resample(\"Y\").mean()"
   ]
  },
  {
   "cell_type": "markdown",
   "metadata": {},
   "source": [
    "6. Dado los siguientes ponderadores, calcula el rendimiento esperado diario del portafolio"
   ]
  },
  {
   "cell_type": "code",
   "execution_count": null,
   "metadata": {},
   "outputs": [],
   "source": [
    "# Generación de ponderadores aleatorios\n",
    "seed(314)\n",
    "w = np.random.random(size=5)\n",
    "w = w / w.sum()"
   ]
  },
  {
   "cell_type": "code",
   "execution_count": null,
   "metadata": {},
   "outputs": [],
   "source": [
    "rendimiento_esperado_diario=np.dot(w,md)*252"
   ]
  },
  {
   "cell_type": "markdown",
   "metadata": {},
   "source": [
    "7. Dado ponderadores $w$, calcula el rendimiento esperado anual del portafolio"
   ]
  },
  {
   "cell_type": "code",
   "execution_count": null,
   "metadata": {},
   "outputs": [],
   "source": [
    "rendimiento_esperado_anual=np.dot(w,my)*2"
   ]
  },
  {
   "cell_type": "markdown",
   "metadata": {},
   "source": [
    "8. Calcula la matriz de variaza/covarianza"
   ]
  },
  {
   "cell_type": "code",
   "execution_count": null,
   "metadata": {},
   "outputs": [],
   "source": []
  },
  {
   "cell_type": "markdown",
   "metadata": {},
   "source": [
    "9. Calcula la varianza anual del portafolio"
   ]
  },
  {
   "cell_type": "code",
   "execution_count": null,
   "metadata": {},
   "outputs": [],
   "source": []
  },
  {
   "cell_type": "markdown",
   "metadata": {},
   "source": [
    "10. Calcula la desviación estándar anual del portafolio"
   ]
  },
  {
   "cell_type": "code",
   "execution_count": null,
   "metadata": {},
   "outputs": [],
   "source": []
  },
  {
   "cell_type": "markdown",
   "metadata": {},
   "source": [
    "11. Para cada ticker, calcula la distribución a posteriori de su rendimiento $\\mu_r$ asumiendo una distribución a priori normal y $\\sigma_r$ conocida (asume que $\\sigma_r$ es la desviación estándard muestral)\n",
    "\n",
    "    * Para cada ticker, ¿cuál es la probabilida de que $\\mu_r$ se positivo? ($\\forall r. p(\\mu_r) > 0$)\n",
    "    * Cómo elegiste los hyperparámetros de la distribución a priori?"
   ]
  },
  {
   "cell_type": "code",
   "execution_count": 16,
   "metadata": {},
   "outputs": [
    {
     "name": "stdout",
     "output_type": "stream",
     "text": [
      "0.05\n"
     ]
    }
   ],
   "source": [
    "import math\n",
    "from math import exp\n",
    "\n",
    "def factor(x):\n",
    "    f = 1\n",
    "    if x>0:\n",
    "        for i in range(1,x+1):\n",
    "            f=f*i\n",
    "    return f\n",
    "    \n",
    "def poi(x,l):\n",
    "    return exp(-l)*(l**x)/factor(x)\n",
    "\n",
    "print(round(poi(0,3),2))"
   ]
  },
  {
   "cell_type": "code",
   "execution_count": null,
   "metadata": {},
   "outputs": [],
   "source": [
    "import scipy.stats\n",
    "from scipy.stats import norm"
   ]
  },
  {
   "cell_type": "code",
   "execution_count": 18,
   "metadata": {},
   "outputs": [
    {
     "name": "stdout",
     "output_type": "stream",
     "text": [
      "1.959963984540054\n"
     ]
    }
   ],
   "source": [
    "x=.975\n",
    "q=norm.ppf(x, loc=0, scale=1)\n",
    "print(q)"
   ]
  }
 ],
 "metadata": {
  "kernelspec": {
   "display_name": "Python 3",
   "language": "python",
   "name": "python3"
  },
  "language_info": {
   "codemirror_mode": {
    "name": "ipython",
    "version": 3
   },
   "file_extension": ".py",
   "mimetype": "text/x-python",
   "name": "python",
   "nbconvert_exporter": "python",
   "pygments_lexer": "ipython3",
   "version": "3.7.4"
  }
 },
 "nbformat": 4,
 "nbformat_minor": 2
}
