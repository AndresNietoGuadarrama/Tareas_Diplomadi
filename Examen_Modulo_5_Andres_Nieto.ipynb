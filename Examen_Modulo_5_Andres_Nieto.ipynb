{
 "cells": [
  {
   "cell_type": "markdown",
   "metadata": {},
   "source": [
    "# Examen final Módulo 5\n",
    "\n",
    "## Andrés Nieto Guadarrama"
   ]
  },
  {
   "cell_type": "code",
   "execution_count": 173,
   "metadata": {},
   "outputs": [],
   "source": [
    "import pandas as pd\n",
    "import numpy as np\n",
    "import matplotlib.pyplot as plt\n",
    "import seaborn as sns\n",
    "from scipy.optimize import minimize"
   ]
  },
  {
   "cell_type": "code",
   "execution_count": 174,
   "metadata": {},
   "outputs": [],
   "source": [
    "df_precios=pd.read_excel(r\"C:\\Users\\AN012491\\Desktop\\Prueba.xlsx\",\"Precios\",index_col=0)\n",
    "rends=df_precios.pct_change().dropna(axis=0)\n",
    "rends_anual=df_precios.pct_change(periods=252).dropna(axis=0)"
   ]
  },
  {
   "cell_type": "code",
   "execution_count": 175,
   "metadata": {},
   "outputs": [
    {
     "data": {
      "text/html": [
       "<div>\n",
       "<style scoped>\n",
       "    .dataframe tbody tr th:only-of-type {\n",
       "        vertical-align: middle;\n",
       "    }\n",
       "\n",
       "    .dataframe tbody tr th {\n",
       "        vertical-align: top;\n",
       "    }\n",
       "\n",
       "    .dataframe thead th {\n",
       "        text-align: right;\n",
       "    }\n",
       "</style>\n",
       "<table border=\"1\" class=\"dataframe\">\n",
       "  <thead>\n",
       "    <tr style=\"text-align: right;\">\n",
       "      <th></th>\n",
       "      <th>KIMBERA MF Equity</th>\n",
       "      <th>GAPB MF Equity</th>\n",
       "      <th>CEMEXCPO MF Equity</th>\n",
       "      <th>ASURB MF Equity</th>\n",
       "      <th>GFNORTEO MF Equity</th>\n",
       "      <th>KOFUBL MF Equity</th>\n",
       "      <th>AC* MF Equity</th>\n",
       "      <th>LABB MF Equity</th>\n",
       "      <th>FEMSAUBD MF Equity</th>\n",
       "      <th>OMAB MF Equity</th>\n",
       "      <th>...</th>\n",
       "      <th>MEGACPO MF Equity</th>\n",
       "      <th>GCC* MF Equity</th>\n",
       "      <th>BIMBOA MF Equity</th>\n",
       "      <th>GMEXICOB MF Equity</th>\n",
       "      <th>GCARSOA1 MF Equity</th>\n",
       "      <th>TLEVICPO MF Equity</th>\n",
       "      <th>ALFAA MF Equity</th>\n",
       "      <th>BSMXB MF Equity</th>\n",
       "      <th>PINFRA* MF Equity</th>\n",
       "      <th>MEXBOL INDEX</th>\n",
       "    </tr>\n",
       "    <tr>\n",
       "      <th>DATE</th>\n",
       "      <th></th>\n",
       "      <th></th>\n",
       "      <th></th>\n",
       "      <th></th>\n",
       "      <th></th>\n",
       "      <th></th>\n",
       "      <th></th>\n",
       "      <th></th>\n",
       "      <th></th>\n",
       "      <th></th>\n",
       "      <th></th>\n",
       "      <th></th>\n",
       "      <th></th>\n",
       "      <th></th>\n",
       "      <th></th>\n",
       "      <th></th>\n",
       "      <th></th>\n",
       "      <th></th>\n",
       "      <th></th>\n",
       "      <th></th>\n",
       "      <th></th>\n",
       "    </tr>\n",
       "  </thead>\n",
       "  <tbody>\n",
       "    <tr>\n",
       "      <th>2017-06-08</th>\n",
       "      <td>0.021310</td>\n",
       "      <td>-0.006157</td>\n",
       "      <td>0.015489</td>\n",
       "      <td>-0.010401</td>\n",
       "      <td>-0.013458</td>\n",
       "      <td>-0.008074</td>\n",
       "      <td>-0.042311</td>\n",
       "      <td>0.006852</td>\n",
       "      <td>-0.011419</td>\n",
       "      <td>-0.001199</td>\n",
       "      <td>...</td>\n",
       "      <td>-0.002221</td>\n",
       "      <td>0.004935</td>\n",
       "      <td>0.001732</td>\n",
       "      <td>-0.005342</td>\n",
       "      <td>0.008094</td>\n",
       "      <td>-0.007527</td>\n",
       "      <td>0.010765</td>\n",
       "      <td>-0.010177</td>\n",
       "      <td>-0.003959</td>\n",
       "      <td>-0.003805</td>\n",
       "    </tr>\n",
       "    <tr>\n",
       "      <th>2017-06-09</th>\n",
       "      <td>-0.009016</td>\n",
       "      <td>-0.010074</td>\n",
       "      <td>0.025015</td>\n",
       "      <td>0.007274</td>\n",
       "      <td>-0.003226</td>\n",
       "      <td>-0.006642</td>\n",
       "      <td>-0.005936</td>\n",
       "      <td>-0.008082</td>\n",
       "      <td>-0.010631</td>\n",
       "      <td>0.000100</td>\n",
       "      <td>...</td>\n",
       "      <td>0.000974</td>\n",
       "      <td>0.007143</td>\n",
       "      <td>-0.009726</td>\n",
       "      <td>0.006167</td>\n",
       "      <td>-0.012999</td>\n",
       "      <td>-0.002830</td>\n",
       "      <td>-0.004774</td>\n",
       "      <td>-0.002056</td>\n",
       "      <td>-0.004337</td>\n",
       "      <td>-0.000117</td>\n",
       "    </tr>\n",
       "    <tr>\n",
       "      <th>2017-06-12</th>\n",
       "      <td>0.018196</td>\n",
       "      <td>0.017088</td>\n",
       "      <td>0.002381</td>\n",
       "      <td>-0.018617</td>\n",
       "      <td>0.012391</td>\n",
       "      <td>-0.000656</td>\n",
       "      <td>0.001361</td>\n",
       "      <td>-0.011578</td>\n",
       "      <td>-0.004414</td>\n",
       "      <td>-0.001701</td>\n",
       "      <td>...</td>\n",
       "      <td>0.007228</td>\n",
       "      <td>-0.002660</td>\n",
       "      <td>0.024007</td>\n",
       "      <td>-0.013049</td>\n",
       "      <td>0.005939</td>\n",
       "      <td>0.007492</td>\n",
       "      <td>0.004797</td>\n",
       "      <td>0.008831</td>\n",
       "      <td>0.006326</td>\n",
       "      <td>0.000958</td>\n",
       "    </tr>\n",
       "    <tr>\n",
       "      <th>2017-06-13</th>\n",
       "      <td>-0.012254</td>\n",
       "      <td>0.019637</td>\n",
       "      <td>-0.006532</td>\n",
       "      <td>0.006407</td>\n",
       "      <td>0.007581</td>\n",
       "      <td>-0.016006</td>\n",
       "      <td>0.017286</td>\n",
       "      <td>-0.003905</td>\n",
       "      <td>-0.000292</td>\n",
       "      <td>0.013226</td>\n",
       "      <td>...</td>\n",
       "      <td>0.000552</td>\n",
       "      <td>-0.002222</td>\n",
       "      <td>-0.016837</td>\n",
       "      <td>-0.000200</td>\n",
       "      <td>-0.006546</td>\n",
       "      <td>0.003718</td>\n",
       "      <td>-0.005141</td>\n",
       "      <td>0.018675</td>\n",
       "      <td>0.020146</td>\n",
       "      <td>-0.002075</td>\n",
       "    </tr>\n",
       "    <tr>\n",
       "      <th>2017-06-14</th>\n",
       "      <td>0.013699</td>\n",
       "      <td>0.014903</td>\n",
       "      <td>0.000000</td>\n",
       "      <td>0.010676</td>\n",
       "      <td>0.001904</td>\n",
       "      <td>0.001133</td>\n",
       "      <td>-0.007568</td>\n",
       "      <td>0.001307</td>\n",
       "      <td>0.002918</td>\n",
       "      <td>0.024426</td>\n",
       "      <td>...</td>\n",
       "      <td>0.003862</td>\n",
       "      <td>-0.000668</td>\n",
       "      <td>0.013657</td>\n",
       "      <td>0.003005</td>\n",
       "      <td>0.012791</td>\n",
       "      <td>-0.001010</td>\n",
       "      <td>0.001477</td>\n",
       "      <td>0.006875</td>\n",
       "      <td>0.018132</td>\n",
       "      <td>0.005389</td>\n",
       "    </tr>\n",
       "  </tbody>\n",
       "</table>\n",
       "<p>5 rows × 36 columns</p>\n",
       "</div>"
      ],
      "text/plain": [
       "            KIMBERA MF Equity  GAPB MF Equity  CEMEXCPO MF Equity  \\\n",
       "DATE                                                                \n",
       "2017-06-08           0.021310       -0.006157            0.015489   \n",
       "2017-06-09          -0.009016       -0.010074            0.025015   \n",
       "2017-06-12           0.018196        0.017088            0.002381   \n",
       "2017-06-13          -0.012254        0.019637           -0.006532   \n",
       "2017-06-14           0.013699        0.014903            0.000000   \n",
       "\n",
       "            ASURB MF Equity  GFNORTEO MF Equity  KOFUBL MF Equity  \\\n",
       "DATE                                                                \n",
       "2017-06-08        -0.010401           -0.013458         -0.008074   \n",
       "2017-06-09         0.007274           -0.003226         -0.006642   \n",
       "2017-06-12        -0.018617            0.012391         -0.000656   \n",
       "2017-06-13         0.006407            0.007581         -0.016006   \n",
       "2017-06-14         0.010676            0.001904          0.001133   \n",
       "\n",
       "            AC* MF Equity  LABB MF Equity  FEMSAUBD MF Equity  OMAB MF Equity  \\\n",
       "DATE                                                                            \n",
       "2017-06-08      -0.042311        0.006852           -0.011419       -0.001199   \n",
       "2017-06-09      -0.005936       -0.008082           -0.010631        0.000100   \n",
       "2017-06-12       0.001361       -0.011578           -0.004414       -0.001701   \n",
       "2017-06-13       0.017286       -0.003905           -0.000292        0.013226   \n",
       "2017-06-14      -0.007568        0.001307            0.002918        0.024426   \n",
       "\n",
       "            ...  MEGACPO MF Equity  GCC* MF Equity  BIMBOA MF Equity  \\\n",
       "DATE        ...                                                        \n",
       "2017-06-08  ...          -0.002221        0.004935          0.001732   \n",
       "2017-06-09  ...           0.000974        0.007143         -0.009726   \n",
       "2017-06-12  ...           0.007228       -0.002660          0.024007   \n",
       "2017-06-13  ...           0.000552       -0.002222         -0.016837   \n",
       "2017-06-14  ...           0.003862       -0.000668          0.013657   \n",
       "\n",
       "            GMEXICOB MF Equity  GCARSOA1 MF Equity  TLEVICPO MF Equity  \\\n",
       "DATE                                                                     \n",
       "2017-06-08           -0.005342            0.008094           -0.007527   \n",
       "2017-06-09            0.006167           -0.012999           -0.002830   \n",
       "2017-06-12           -0.013049            0.005939            0.007492   \n",
       "2017-06-13           -0.000200           -0.006546            0.003718   \n",
       "2017-06-14            0.003005            0.012791           -0.001010   \n",
       "\n",
       "            ALFAA MF Equity  BSMXB MF Equity  PINFRA* MF Equity  MEXBOL INDEX  \n",
       "DATE                                                                           \n",
       "2017-06-08         0.010765        -0.010177          -0.003959     -0.003805  \n",
       "2017-06-09        -0.004774        -0.002056          -0.004337     -0.000117  \n",
       "2017-06-12         0.004797         0.008831           0.006326      0.000958  \n",
       "2017-06-13        -0.005141         0.018675           0.020146     -0.002075  \n",
       "2017-06-14         0.001477         0.006875           0.018132      0.005389  \n",
       "\n",
       "[5 rows x 36 columns]"
      ]
     },
     "execution_count": 175,
     "metadata": {},
     "output_type": "execute_result"
    }
   ],
   "source": [
    "rends.head()"
   ]
  },
  {
   "cell_type": "markdown",
   "metadata": {},
   "source": [
    "Consideraremos las siguientes acciones: (Aquellas con el mayor rendimiento pormedio del IPyC)"
   ]
  },
  {
   "cell_type": "code",
   "execution_count": 176,
   "metadata": {},
   "outputs": [
    {
     "data": {
      "text/plain": [
       "['ELEKTRA* MF Equity',\n",
       " 'OMAB MF Equity',\n",
       " 'BOLSAA MF Equity',\n",
       " 'WALMEX* MF Equity',\n",
       " 'GAPB MF Equity',\n",
       " 'GCC* MF Equity',\n",
       " 'GMEXICOB MF Equity']"
      ]
     },
     "execution_count": 176,
     "metadata": {},
     "output_type": "execute_result"
    }
   ],
   "source": [
    "acciones = list(rends.mean().sort_values(ascending=False).keys())[0:7]\n",
    "datos=rends[acciones]\n",
    "datos_anual=rends_anual[acciones]\n",
    "acciones"
   ]
  },
  {
   "cell_type": "markdown",
   "metadata": {},
   "source": [
    "y los siguientes parámetros:"
   ]
  },
  {
   "cell_type": "code",
   "execution_count": 177,
   "metadata": {},
   "outputs": [],
   "source": [
    "rf=5/100\n",
    "market_premium=10/100\n",
    "A=3"
   ]
  },
  {
   "cell_type": "markdown",
   "metadata": {},
   "source": [
    "## Pregunta 1 "
   ]
  },
  {
   "cell_type": "markdown",
   "metadata": {},
   "source": [
    "### Modelo de rendimientos constantes"
   ]
  },
  {
   "cell_type": "code",
   "execution_count": 178,
   "metadata": {},
   "outputs": [
    {
     "data": {
      "text/plain": [
       "ELEKTRA* MF Equity    0.000987\n",
       "OMAB MF Equity        0.000648\n",
       "BOLSAA MF Equity      0.000579\n",
       "WALMEX* MF Equity     0.000493\n",
       "GAPB MF Equity        0.000421\n",
       "GCC* MF Equity        0.000262\n",
       "GMEXICOB MF Equity    0.000260\n",
       "dtype: float64"
      ]
     },
     "execution_count": 178,
     "metadata": {},
     "output_type": "execute_result"
    }
   ],
   "source": [
    "#Rendimientos diarios\n",
    "Ep=datos.mean()\n",
    "Ep"
   ]
  },
  {
   "cell_type": "code",
   "execution_count": 179,
   "metadata": {},
   "outputs": [
    {
     "data": {
      "text/plain": [
       "ELEKTRA* MF Equity    0.248633\n",
       "OMAB MF Equity        0.163220\n",
       "BOLSAA MF Equity      0.145841\n",
       "WALMEX* MF Equity     0.124216\n",
       "GAPB MF Equity        0.105969\n",
       "GCC* MF Equity        0.065943\n",
       "GMEXICOB MF Equity    0.065446\n",
       "dtype: float64"
      ]
     },
     "execution_count": 179,
     "metadata": {},
     "output_type": "execute_result"
    }
   ],
   "source": [
    "#Rendimientos anuales\n",
    "Ep_anual=Ep*252\n",
    "Ep_anual"
   ]
  },
  {
   "cell_type": "markdown",
   "metadata": {},
   "source": [
    "### Modelo CAPM"
   ]
  },
  {
   "cell_type": "markdown",
   "metadata": {},
   "source": [
    "Rendimientos esperados:\n",
    "$$r_i\\,=\\,r_f + \\beta_i (r_M - r_f)$$\n",
    "para i in $\\lbrace emisora_1,...,emisora_7 \\rbrace$."
   ]
  },
  {
   "cell_type": "markdown",
   "metadata": {},
   "source": [
    "#### 1. Rendimientos diarios"
   ]
  },
  {
   "cell_type": "code",
   "execution_count": 180,
   "metadata": {},
   "outputs": [
    {
     "data": {
      "text/html": [
       "<div>\n",
       "<style scoped>\n",
       "    .dataframe tbody tr th:only-of-type {\n",
       "        vertical-align: middle;\n",
       "    }\n",
       "\n",
       "    .dataframe tbody tr th {\n",
       "        vertical-align: top;\n",
       "    }\n",
       "\n",
       "    .dataframe thead th {\n",
       "        text-align: right;\n",
       "    }\n",
       "</style>\n",
       "<table border=\"1\" class=\"dataframe\">\n",
       "  <thead>\n",
       "    <tr style=\"text-align: right;\">\n",
       "      <th></th>\n",
       "      <th>emisora</th>\n",
       "      <th>beta</th>\n",
       "      <th>rendimiento esperado diario</th>\n",
       "      <th>Categoría</th>\n",
       "    </tr>\n",
       "  </thead>\n",
       "  <tbody>\n",
       "    <tr>\n",
       "      <th>3</th>\n",
       "      <td>WALMEX* MF Equity</td>\n",
       "      <td>0.294421</td>\n",
       "      <td>0.079442</td>\n",
       "      <td>defensiva</td>\n",
       "    </tr>\n",
       "    <tr>\n",
       "      <th>4</th>\n",
       "      <td>GAPB MF Equity</td>\n",
       "      <td>0.287803</td>\n",
       "      <td>0.078780</td>\n",
       "      <td>defensiva</td>\n",
       "    </tr>\n",
       "    <tr>\n",
       "      <th>1</th>\n",
       "      <td>OMAB MF Equity</td>\n",
       "      <td>0.272023</td>\n",
       "      <td>0.077202</td>\n",
       "      <td>defensiva</td>\n",
       "    </tr>\n",
       "    <tr>\n",
       "      <th>6</th>\n",
       "      <td>GMEXICOB MF Equity</td>\n",
       "      <td>0.265880</td>\n",
       "      <td>0.076588</td>\n",
       "      <td>defensiva</td>\n",
       "    </tr>\n",
       "    <tr>\n",
       "      <th>5</th>\n",
       "      <td>GCC* MF Equity</td>\n",
       "      <td>0.213326</td>\n",
       "      <td>0.071333</td>\n",
       "      <td>defensiva</td>\n",
       "    </tr>\n",
       "    <tr>\n",
       "      <th>2</th>\n",
       "      <td>BOLSAA MF Equity</td>\n",
       "      <td>0.171829</td>\n",
       "      <td>0.067183</td>\n",
       "      <td>defensiva</td>\n",
       "    </tr>\n",
       "    <tr>\n",
       "      <th>0</th>\n",
       "      <td>ELEKTRA* MF Equity</td>\n",
       "      <td>0.093265</td>\n",
       "      <td>0.059326</td>\n",
       "      <td>defensiva</td>\n",
       "    </tr>\n",
       "  </tbody>\n",
       "</table>\n",
       "</div>"
      ],
      "text/plain": [
       "              emisora      beta  rendimiento esperado diario  Categoría\n",
       "3   WALMEX* MF Equity  0.294421                     0.079442  defensiva\n",
       "4      GAPB MF Equity  0.287803                     0.078780  defensiva\n",
       "1      OMAB MF Equity  0.272023                     0.077202  defensiva\n",
       "6  GMEXICOB MF Equity  0.265880                     0.076588  defensiva\n",
       "5      GCC* MF Equity  0.213326                     0.071333  defensiva\n",
       "2    BOLSAA MF Equity  0.171829                     0.067183  defensiva\n",
       "0  ELEKTRA* MF Equity  0.093265                     0.059326  defensiva"
      ]
     },
     "execution_count": 180,
     "metadata": {},
     "output_type": "execute_result"
    }
   ],
   "source": [
    "Phi = datos.values\n",
    "t = rends.iloc[:, [-1]]\n",
    "N, M = Phi.shape\n",
    "\n",
    "I = np.concatenate([np.identity(M)] * 2, axis=1)\n",
    "I = np.concatenate([I] * 2, axis=0)\n",
    "\n",
    "P = np.ones((N, M))\n",
    "P = np.c_[P, Phi]\n",
    "\n",
    "W = np.linalg.inv((P.T @ P) * I) @ P.T @ t\n",
    "W=W.iloc[M:len(W)]\n",
    "W[\"emisora\"]  = np.concatenate([datos.columns])\n",
    "W[\"param\"] = [\"beta\"] * M\n",
    "B = W.pivot_table(index=\"emisora\", columns=\"param\", values=\"MEXBOL INDEX\")\n",
    "betas=[B['beta'][a] for a in acciones]\n",
    "rend_esperado=[rf+b*market_premium for b in betas]\n",
    "categoria=[\"defensiva\" if b<1 else \"agresiva\" for b in betas]\n",
    "resp=pd.DataFrame({\"emisora\":acciones,\"beta\":betas,\"rendimiento esperado diario\":rend_esperado,\"Categoría\":categoria})\n",
    "resp.sort_values(\"beta\", ascending=False)"
   ]
  },
  {
   "cell_type": "markdown",
   "metadata": {},
   "source": [
    "#### 2. Rendimientos anuales"
   ]
  },
  {
   "cell_type": "code",
   "execution_count": 181,
   "metadata": {},
   "outputs": [
    {
     "data": {
      "text/html": [
       "<div>\n",
       "<style scoped>\n",
       "    .dataframe tbody tr th:only-of-type {\n",
       "        vertical-align: middle;\n",
       "    }\n",
       "\n",
       "    .dataframe tbody tr th {\n",
       "        vertical-align: top;\n",
       "    }\n",
       "\n",
       "    .dataframe thead th {\n",
       "        text-align: right;\n",
       "    }\n",
       "</style>\n",
       "<table border=\"1\" class=\"dataframe\">\n",
       "  <thead>\n",
       "    <tr style=\"text-align: right;\">\n",
       "      <th></th>\n",
       "      <th>emisora</th>\n",
       "      <th>beta</th>\n",
       "      <th>rendimiento esperado anual</th>\n",
       "      <th>Categoría</th>\n",
       "    </tr>\n",
       "  </thead>\n",
       "  <tbody>\n",
       "    <tr>\n",
       "      <th>2</th>\n",
       "      <td>BOLSAA MF Equity</td>\n",
       "      <td>0.451818</td>\n",
       "      <td>0.095182</td>\n",
       "      <td>defensiva</td>\n",
       "    </tr>\n",
       "    <tr>\n",
       "      <th>3</th>\n",
       "      <td>WALMEX* MF Equity</td>\n",
       "      <td>0.323488</td>\n",
       "      <td>0.082349</td>\n",
       "      <td>defensiva</td>\n",
       "    </tr>\n",
       "    <tr>\n",
       "      <th>1</th>\n",
       "      <td>OMAB MF Equity</td>\n",
       "      <td>0.298361</td>\n",
       "      <td>0.079836</td>\n",
       "      <td>defensiva</td>\n",
       "    </tr>\n",
       "    <tr>\n",
       "      <th>6</th>\n",
       "      <td>GMEXICOB MF Equity</td>\n",
       "      <td>0.284706</td>\n",
       "      <td>0.078471</td>\n",
       "      <td>defensiva</td>\n",
       "    </tr>\n",
       "    <tr>\n",
       "      <th>4</th>\n",
       "      <td>GAPB MF Equity</td>\n",
       "      <td>0.274412</td>\n",
       "      <td>0.077441</td>\n",
       "      <td>defensiva</td>\n",
       "    </tr>\n",
       "    <tr>\n",
       "      <th>5</th>\n",
       "      <td>GCC* MF Equity</td>\n",
       "      <td>0.133496</td>\n",
       "      <td>0.063350</td>\n",
       "      <td>defensiva</td>\n",
       "    </tr>\n",
       "    <tr>\n",
       "      <th>0</th>\n",
       "      <td>ELEKTRA* MF Equity</td>\n",
       "      <td>-0.023547</td>\n",
       "      <td>0.047645</td>\n",
       "      <td>defensiva</td>\n",
       "    </tr>\n",
       "  </tbody>\n",
       "</table>\n",
       "</div>"
      ],
      "text/plain": [
       "              emisora      beta  rendimiento esperado anual  Categoría\n",
       "2    BOLSAA MF Equity  0.451818                    0.095182  defensiva\n",
       "3   WALMEX* MF Equity  0.323488                    0.082349  defensiva\n",
       "1      OMAB MF Equity  0.298361                    0.079836  defensiva\n",
       "6  GMEXICOB MF Equity  0.284706                    0.078471  defensiva\n",
       "4      GAPB MF Equity  0.274412                    0.077441  defensiva\n",
       "5      GCC* MF Equity  0.133496                    0.063350  defensiva\n",
       "0  ELEKTRA* MF Equity -0.023547                    0.047645  defensiva"
      ]
     },
     "execution_count": 181,
     "metadata": {},
     "output_type": "execute_result"
    }
   ],
   "source": [
    "Phi = datos_anual.values*252\n",
    "t = rends_anual.iloc[:, [-1]]*252\n",
    "N, M = Phi.shape\n",
    "\n",
    "I = np.concatenate([np.identity(M)] * 2, axis=1)\n",
    "I = np.concatenate([I] * 2, axis=0)\n",
    "\n",
    "P = np.ones((N, M))\n",
    "P = np.c_[P, Phi]\n",
    "\n",
    "W = np.linalg.inv((P.T @ P) * I) @ P.T @ t\n",
    "W=W.iloc[M:len(W)]\n",
    "W[\"emisora\"]  = np.concatenate([datos.columns])\n",
    "W[\"param\"] = [\"beta\"] * M\n",
    "B = W.pivot_table(index=\"emisora\", columns=\"param\", values=\"MEXBOL INDEX\")\n",
    "betas=[B['beta'][a] for a in acciones]\n",
    "rend_esperado=[rf+b*market_premium for b in betas]\n",
    "categoria=[\"defensiva\" if b<1 else \"agresiva\" for b in betas]\n",
    "resp=pd.DataFrame({\"emisora\":acciones,\"beta\":betas,\"rendimiento esperado anual\":rend_esperado,\"Categoría\":categoria})\n",
    "resp.sort_values(\"beta\", ascending=False)"
   ]
  },
  {
   "cell_type": "markdown",
   "metadata": {},
   "source": [
    "#### Matriz Varianzas y Covarianzas rendimientos diarios"
   ]
  },
  {
   "cell_type": "code",
   "execution_count": 182,
   "metadata": {},
   "outputs": [
    {
     "data": {
      "text/html": [
       "<div>\n",
       "<style scoped>\n",
       "    .dataframe tbody tr th:only-of-type {\n",
       "        vertical-align: middle;\n",
       "    }\n",
       "\n",
       "    .dataframe tbody tr th {\n",
       "        vertical-align: top;\n",
       "    }\n",
       "\n",
       "    .dataframe thead th {\n",
       "        text-align: right;\n",
       "    }\n",
       "</style>\n",
       "<table border=\"1\" class=\"dataframe\">\n",
       "  <thead>\n",
       "    <tr style=\"text-align: right;\">\n",
       "      <th></th>\n",
       "      <th>ELEKTRA* MF Equity</th>\n",
       "      <th>OMAB MF Equity</th>\n",
       "      <th>BOLSAA MF Equity</th>\n",
       "      <th>WALMEX* MF Equity</th>\n",
       "      <th>GAPB MF Equity</th>\n",
       "      <th>GCC* MF Equity</th>\n",
       "      <th>GMEXICOB MF Equity</th>\n",
       "    </tr>\n",
       "  </thead>\n",
       "  <tbody>\n",
       "    <tr>\n",
       "      <th>ELEKTRA* MF Equity</th>\n",
       "      <td>0.000318</td>\n",
       "      <td>0.000037</td>\n",
       "      <td>0.000004</td>\n",
       "      <td>0.000030</td>\n",
       "      <td>0.000012</td>\n",
       "      <td>0.000007</td>\n",
       "      <td>0.000013</td>\n",
       "    </tr>\n",
       "    <tr>\n",
       "      <th>OMAB MF Equity</th>\n",
       "      <td>0.000037</td>\n",
       "      <td>0.000262</td>\n",
       "      <td>0.000033</td>\n",
       "      <td>0.000065</td>\n",
       "      <td>0.000141</td>\n",
       "      <td>0.000032</td>\n",
       "      <td>0.000075</td>\n",
       "    </tr>\n",
       "    <tr>\n",
       "      <th>BOLSAA MF Equity</th>\n",
       "      <td>0.000004</td>\n",
       "      <td>0.000033</td>\n",
       "      <td>0.000266</td>\n",
       "      <td>0.000027</td>\n",
       "      <td>0.000052</td>\n",
       "      <td>0.000038</td>\n",
       "      <td>0.000053</td>\n",
       "    </tr>\n",
       "    <tr>\n",
       "      <th>WALMEX* MF Equity</th>\n",
       "      <td>0.000030</td>\n",
       "      <td>0.000065</td>\n",
       "      <td>0.000027</td>\n",
       "      <td>0.000219</td>\n",
       "      <td>0.000044</td>\n",
       "      <td>0.000031</td>\n",
       "      <td>0.000053</td>\n",
       "    </tr>\n",
       "    <tr>\n",
       "      <th>GAPB MF Equity</th>\n",
       "      <td>0.000012</td>\n",
       "      <td>0.000141</td>\n",
       "      <td>0.000052</td>\n",
       "      <td>0.000044</td>\n",
       "      <td>0.000238</td>\n",
       "      <td>0.000038</td>\n",
       "      <td>0.000076</td>\n",
       "    </tr>\n",
       "    <tr>\n",
       "      <th>GCC* MF Equity</th>\n",
       "      <td>0.000007</td>\n",
       "      <td>0.000032</td>\n",
       "      <td>0.000038</td>\n",
       "      <td>0.000031</td>\n",
       "      <td>0.000038</td>\n",
       "      <td>0.000171</td>\n",
       "      <td>0.000052</td>\n",
       "    </tr>\n",
       "    <tr>\n",
       "      <th>GMEXICOB MF Equity</th>\n",
       "      <td>0.000013</td>\n",
       "      <td>0.000075</td>\n",
       "      <td>0.000053</td>\n",
       "      <td>0.000053</td>\n",
       "      <td>0.000076</td>\n",
       "      <td>0.000052</td>\n",
       "      <td>0.000318</td>\n",
       "    </tr>\n",
       "  </tbody>\n",
       "</table>\n",
       "</div>"
      ],
      "text/plain": [
       "                    ELEKTRA* MF Equity  OMAB MF Equity  BOLSAA MF Equity  \\\n",
       "ELEKTRA* MF Equity            0.000318        0.000037          0.000004   \n",
       "OMAB MF Equity                0.000037        0.000262          0.000033   \n",
       "BOLSAA MF Equity              0.000004        0.000033          0.000266   \n",
       "WALMEX* MF Equity             0.000030        0.000065          0.000027   \n",
       "GAPB MF Equity                0.000012        0.000141          0.000052   \n",
       "GCC* MF Equity                0.000007        0.000032          0.000038   \n",
       "GMEXICOB MF Equity            0.000013        0.000075          0.000053   \n",
       "\n",
       "                    WALMEX* MF Equity  GAPB MF Equity  GCC* MF Equity  \\\n",
       "ELEKTRA* MF Equity           0.000030        0.000012        0.000007   \n",
       "OMAB MF Equity               0.000065        0.000141        0.000032   \n",
       "BOLSAA MF Equity             0.000027        0.000052        0.000038   \n",
       "WALMEX* MF Equity            0.000219        0.000044        0.000031   \n",
       "GAPB MF Equity               0.000044        0.000238        0.000038   \n",
       "GCC* MF Equity               0.000031        0.000038        0.000171   \n",
       "GMEXICOB MF Equity           0.000053        0.000076        0.000052   \n",
       "\n",
       "                    GMEXICOB MF Equity  \n",
       "ELEKTRA* MF Equity            0.000013  \n",
       "OMAB MF Equity                0.000075  \n",
       "BOLSAA MF Equity              0.000053  \n",
       "WALMEX* MF Equity             0.000053  \n",
       "GAPB MF Equity                0.000076  \n",
       "GCC* MF Equity                0.000052  \n",
       "GMEXICOB MF Equity            0.000318  "
      ]
     },
     "execution_count": 182,
     "metadata": {},
     "output_type": "execute_result"
    }
   ],
   "source": [
    "datos.cov()"
   ]
  },
  {
   "cell_type": "markdown",
   "metadata": {},
   "source": [
    "#### Matriz Varianzas y Covarianzas rendimientos anuales"
   ]
  },
  {
   "cell_type": "code",
   "execution_count": 183,
   "metadata": {},
   "outputs": [
    {
     "data": {
      "text/html": [
       "<div>\n",
       "<style scoped>\n",
       "    .dataframe tbody tr th:only-of-type {\n",
       "        vertical-align: middle;\n",
       "    }\n",
       "\n",
       "    .dataframe tbody tr th {\n",
       "        vertical-align: top;\n",
       "    }\n",
       "\n",
       "    .dataframe thead th {\n",
       "        text-align: right;\n",
       "    }\n",
       "</style>\n",
       "<table border=\"1\" class=\"dataframe\">\n",
       "  <thead>\n",
       "    <tr style=\"text-align: right;\">\n",
       "      <th></th>\n",
       "      <th>ELEKTRA* MF Equity</th>\n",
       "      <th>OMAB MF Equity</th>\n",
       "      <th>BOLSAA MF Equity</th>\n",
       "      <th>WALMEX* MF Equity</th>\n",
       "      <th>GAPB MF Equity</th>\n",
       "      <th>GCC* MF Equity</th>\n",
       "      <th>GMEXICOB MF Equity</th>\n",
       "    </tr>\n",
       "  </thead>\n",
       "  <tbody>\n",
       "    <tr>\n",
       "      <th>ELEKTRA* MF Equity</th>\n",
       "      <td>0.080049</td>\n",
       "      <td>0.009260</td>\n",
       "      <td>0.000966</td>\n",
       "      <td>0.007528</td>\n",
       "      <td>0.003139</td>\n",
       "      <td>0.001810</td>\n",
       "      <td>0.003371</td>\n",
       "    </tr>\n",
       "    <tr>\n",
       "      <th>OMAB MF Equity</th>\n",
       "      <td>0.009260</td>\n",
       "      <td>0.066077</td>\n",
       "      <td>0.008362</td>\n",
       "      <td>0.016330</td>\n",
       "      <td>0.035602</td>\n",
       "      <td>0.008124</td>\n",
       "      <td>0.018850</td>\n",
       "    </tr>\n",
       "    <tr>\n",
       "      <th>BOLSAA MF Equity</th>\n",
       "      <td>0.000966</td>\n",
       "      <td>0.008362</td>\n",
       "      <td>0.066925</td>\n",
       "      <td>0.006733</td>\n",
       "      <td>0.013118</td>\n",
       "      <td>0.009606</td>\n",
       "      <td>0.013381</td>\n",
       "    </tr>\n",
       "    <tr>\n",
       "      <th>WALMEX* MF Equity</th>\n",
       "      <td>0.007528</td>\n",
       "      <td>0.016330</td>\n",
       "      <td>0.006733</td>\n",
       "      <td>0.055269</td>\n",
       "      <td>0.010998</td>\n",
       "      <td>0.007909</td>\n",
       "      <td>0.013334</td>\n",
       "    </tr>\n",
       "    <tr>\n",
       "      <th>GAPB MF Equity</th>\n",
       "      <td>0.003139</td>\n",
       "      <td>0.035602</td>\n",
       "      <td>0.013118</td>\n",
       "      <td>0.010998</td>\n",
       "      <td>0.059913</td>\n",
       "      <td>0.009630</td>\n",
       "      <td>0.019067</td>\n",
       "    </tr>\n",
       "    <tr>\n",
       "      <th>GCC* MF Equity</th>\n",
       "      <td>0.001810</td>\n",
       "      <td>0.008124</td>\n",
       "      <td>0.009606</td>\n",
       "      <td>0.007909</td>\n",
       "      <td>0.009630</td>\n",
       "      <td>0.043118</td>\n",
       "      <td>0.013152</td>\n",
       "    </tr>\n",
       "    <tr>\n",
       "      <th>GMEXICOB MF Equity</th>\n",
       "      <td>0.003371</td>\n",
       "      <td>0.018850</td>\n",
       "      <td>0.013381</td>\n",
       "      <td>0.013334</td>\n",
       "      <td>0.019067</td>\n",
       "      <td>0.013152</td>\n",
       "      <td>0.080108</td>\n",
       "    </tr>\n",
       "  </tbody>\n",
       "</table>\n",
       "</div>"
      ],
      "text/plain": [
       "                    ELEKTRA* MF Equity  OMAB MF Equity  BOLSAA MF Equity  \\\n",
       "ELEKTRA* MF Equity            0.080049        0.009260          0.000966   \n",
       "OMAB MF Equity                0.009260        0.066077          0.008362   \n",
       "BOLSAA MF Equity              0.000966        0.008362          0.066925   \n",
       "WALMEX* MF Equity             0.007528        0.016330          0.006733   \n",
       "GAPB MF Equity                0.003139        0.035602          0.013118   \n",
       "GCC* MF Equity                0.001810        0.008124          0.009606   \n",
       "GMEXICOB MF Equity            0.003371        0.018850          0.013381   \n",
       "\n",
       "                    WALMEX* MF Equity  GAPB MF Equity  GCC* MF Equity  \\\n",
       "ELEKTRA* MF Equity           0.007528        0.003139        0.001810   \n",
       "OMAB MF Equity               0.016330        0.035602        0.008124   \n",
       "BOLSAA MF Equity             0.006733        0.013118        0.009606   \n",
       "WALMEX* MF Equity            0.055269        0.010998        0.007909   \n",
       "GAPB MF Equity               0.010998        0.059913        0.009630   \n",
       "GCC* MF Equity               0.007909        0.009630        0.043118   \n",
       "GMEXICOB MF Equity           0.013334        0.019067        0.013152   \n",
       "\n",
       "                    GMEXICOB MF Equity  \n",
       "ELEKTRA* MF Equity            0.003371  \n",
       "OMAB MF Equity                0.018850  \n",
       "BOLSAA MF Equity              0.013381  \n",
       "WALMEX* MF Equity             0.013334  \n",
       "GAPB MF Equity                0.019067  \n",
       "GCC* MF Equity                0.013152  \n",
       "GMEXICOB MF Equity            0.080108  "
      ]
     },
     "execution_count": 183,
     "metadata": {},
     "output_type": "execute_result"
    }
   ],
   "source": [
    "252*datos.cov()"
   ]
  },
  {
   "cell_type": "markdown",
   "metadata": {},
   "source": [
    "## Pregunta 2"
   ]
  },
  {
   "cell_type": "markdown",
   "metadata": {},
   "source": [
    "### Funciones de rendimiento esperado y volatilidad de un portafolio"
   ]
  },
  {
   "cell_type": "code",
   "execution_count": 184,
   "metadata": {},
   "outputs": [],
   "source": [
    "def mean_port(w,r):\n",
    "    Ep=(np.array(r[\"rendimiento esperado anual\"])@w)\n",
    "    return Ep\n",
    "\n",
    "def ds_port(w,r):\n",
    "    Sp=np.sqrt(w.T@(r.cov()*252)@w)\n",
    "    return Sp"
   ]
  },
  {
   "cell_type": "markdown",
   "metadata": {},
   "source": [
    "## Graficación"
   ]
  },
  {
   "cell_type": "markdown",
   "metadata": {},
   "source": [
    "### Simulación de pesos "
   ]
  },
  {
   "cell_type": "code",
   "execution_count": 185,
   "metadata": {},
   "outputs": [
    {
     "data": {
      "image/png": "[encoded data removed]",
      "text/plain": [
       "<Figure size 432x288 with 1 Axes>"
      ]
     },
     "metadata": {
      "needs_background": "light"
     },
     "output_type": "display_data"
    }
   ],
   "source": [
    "'''\n",
    "_____________________________________ Universo de portafolios simulados ________________________________________________\n",
    "\n",
    "'''\n",
    "rend=rends[acciones]\n",
    "np.random.seed(12345)\n",
    "f,c=rend.shape\n",
    "n_sim=1000\n",
    "w_sim=np.random.rand(n_sim,c)\n",
    "\n",
    "for i in range(n_sim):\n",
    "    w_sim[i]=w_sim[i]/sum(w_sim[i])\n",
    "\n",
    "rend_sim=[mean_port(W,resp) for W in w_sim]\n",
    "ds_sim=[ds_port(W,rend) for W in w_sim]\n",
    "plt.scatter(ds_sim,rend_sim,c=ds_sim, cmap='viridis')\n",
    "plt.title('Universo de portafolios simulados')\n",
    "plt.show()"
   ]
  },
  {
   "cell_type": "markdown",
   "metadata": {},
   "source": [
    "A continuación mostramos como calcular los portafolios de mínima varianza y que maximizan el radio de Sharpe dado un nivel de rendimiento esperado. Se usará éste método para construir la frontera eficiente de portafolios que maximicen el radio para un intervalo de rendimientos esperados."
   ]
  },
  {
   "cell_type": "code",
   "execution_count": 186,
   "metadata": {},
   "outputs": [
    {
     "data": {
      "image/png": "[encoded data removed]",
      "text/plain": [
       "<Figure size 432x288 with 1 Axes>"
      ]
     },
     "metadata": {
      "needs_background": "light"
     },
     "output_type": "display_data"
    }
   ],
   "source": [
    "w0=w_sim[ds_sim.index(min(ds_sim))]\n",
    "pesos_fronteraEf=[]\n",
    "\n",
    "#Paso 1. Portafolio de mínima varianza:\n",
    "def sum_w(w):\n",
    "    return w.sum()-1\n",
    "\n",
    "constrains=[{\"type\":\"eq\",\"fun\":sum_w}]\n",
    "port=minimize(ds_port,x0=w0,constraints=constrains,args=rend)\n",
    "w1=port.x\n",
    "\n",
    "rend_port=mean_port(w1,resp)\n",
    "sigma_port=ds_port(w1,rend)\n",
    "\n",
    "#Paso 2. Portafolio que maximiza el sharpe-ratio dado un rendimiento esperado fijo:\n",
    "\n",
    "def rend_esp(w,E):\n",
    "    return mean_port(w,resp)-E\n",
    "\n",
    "rango_fronteraEf=np.linspace(rend_sim[ds_sim.index(min(ds_sim))],0.1,50)\n",
    "constrains2=[{\"type\":\"eq\",\"fun\":sum_w},{\"type\":\"eq\",\"fun\":lambda w:rend_esp(w,e0)}]\n",
    "\n",
    "for e in rango_fronteraEf:\n",
    "    constrains2=[{\"type\":\"eq\",\"fun\":sum_w},{\"type\":\"eq\",\"fun\":lambda w:rend_esp(w,e)}]\n",
    "    port1=minimize(ds_port,x0=w0,constraints=constrains2,args=rend)\n",
    "    pesos_fronteraEf.append(port1.x)\n",
    "\n",
    "dominio_fronteraEf=[ds_port(p,rend) for p in pesos_fronteraEf]\n",
    "\n",
    "#Paso 3: Portafolio Tangencial (maximiza radio Sharpe)\n",
    "\n",
    "constrains_sharpe=[{\"type\":\"eq\",\"fun\":sum_w},{\"type\":\"ineq\",\"fun\":lambda wx:1-wx},{\"type\":\"ineq\",\"fun\":lambda wx:wx}]\n",
    "\n",
    "def min_func_sharpe(w):\n",
    "    return - (mean_port(w, resp) - rf) / ds_port(w, rend)\n",
    "\n",
    "f_sharpe = minimize(min_func_sharpe, x0=w0, constraints=constrains_sharpe)\n",
    "dominio_fronteraEf=[ds_port(p,rend) for p in pesos_fronteraEf]\n",
    "#Graficación:\n",
    "\n",
    "w_sharpe=f_sharpe.x\n",
    "e_sharpe = mean_port(w_sharpe, resp)\n",
    "vol_sharpe = ds_port(w_sharpe, rend)\n",
    "\n",
    "sigma_c =  np.linspace(-1e-3, 0.3)\n",
    "sharpe = rf + sigma_c * (e_sharpe - rf) / vol_sharpe\n",
    "\n",
    "plt.scatter(ds_sim,rend_sim,c=ds_sim, cmap='viridis')\n",
    "plt.scatter(sigma_port,rend_port,linewidth=5,color='magenta',label=\"Portafolio de mínima varianza\")\n",
    "plt.plot(dominio_fronteraEf,rango_fronteraEf,color=\"red\",linewidth=5,label=\"Frontera Eficiente\")\n",
    "plt.scatter(vol_sharpe,e_sharpe,linewidth=5,color='green',label=\"Portafolio tangencial (optimo)\")\n",
    "plt.plot(sigma_c, sharpe, linestyle=\"--\", c=\"tab:orange\", label=\"Capital Allocation Line\")\n",
    "plt.legend(fontsize=12,bbox_to_anchor =(1.5,.85))\n",
    "plt.show()"
   ]
  },
  {
   "cell_type": "markdown",
   "metadata": {},
   "source": [
    "### Obtención del portafolio óptimo dado el nivel de aversión al riesgo"
   ]
  },
  {
   "cell_type": "code",
   "execution_count": 187,
   "metadata": {},
   "outputs": [
    {
     "name": "stdout",
     "output_type": "stream",
     "text": [
      "Proporción del portafolio en activos de riesgo: 46.67%\n",
      "Proporción del portafolio en activos libres de riesgo: 53.33%\n"
     ]
    },
    {
     "data": {
      "image/png": "[encoded data removed]",
      "text/plain": [
       "<Figure size 432x288 with 1 Axes>"
      ]
     },
     "metadata": {
      "needs_background": "light"
     },
     "output_type": "display_data"
    }
   ],
   "source": [
    "y=(e_sharpe-rf)/(A*vol_sharpe**2)\n",
    "print(f\"Proporción del portafolio en activos de riesgo: {round(100*y,2)}%\")\n",
    "print(f\"Proporción del portafolio en activos libres de riesgo: {round(100*(1-y),2)}%\")\n",
    "e_optm=y*e_sharpe+(1-y)*rf\n",
    "vol_optm=y*vol_sharpe\n",
    "plt.scatter(ds_sim,rend_sim,c=ds_sim, cmap='viridis')\n",
    "plt.scatter(sigma_port,rend_port,linewidth=5,color='magenta',label=\"Portafolio de mínima varianza\")\n",
    "plt.plot(dominio_fronteraEf,rango_fronteraEf,color=\"red\",linewidth=5,label=\"Frontera Eficiente\")\n",
    "plt.scatter(vol_sharpe,e_sharpe,linewidth=5,color='green',label=\"Portafolio tangencial (optimo)\")\n",
    "plt.plot(sigma_c, sharpe, linestyle=\"--\", c=\"tab:orange\", label=\"Capital Allocation Line\")\n",
    "plt.scatter(vol_optm,e_optm,linewidth=5,color='black',label=\"Portafolio óptimo dado nivel de aversión al riesgo\")\n",
    "plt.legend(fontsize=12,bbox_to_anchor =(1.40,.85))\n",
    "plt.show()"
   ]
  },
  {
   "cell_type": "markdown",
   "metadata": {},
   "source": [
    "## Preguntas Deep Learning "
   ]
  },
  {
   "cell_type": "markdown",
   "metadata": {},
   "source": [
    "6. ¿En qué escenarios ocuparías una red neuronal?"
   ]
  },
  {
   "cell_type": "markdown",
   "metadata": {},
   "source": [
    "    a. Detección de patrones\n",
    "\n",
    "    b. Reconocimiento de imágenes\n",
    "\n",
    "En fin, para problemas para los que no se cuenta con un gran número de registros pero se requieran hacer muchas transformaciones intermedias para encontrar el mejor modelo posible (llevando a mayores $R^2$ que los modelos obrenidos mediante otras herramientas)"
   ]
  },
  {
   "cell_type": "markdown",
   "metadata": {},
   "source": [
    "7. ¿En qué escenarios no ocuparías una red neuronal?"
   ]
  },
  {
   "cell_type": "markdown",
   "metadata": {},
   "source": [
    "Donde contemos con una gran cantidad de información, ya que esto exigiría mayor poder de procesamiento y alentaría el código. En estos casos convendría usar otros métodos de aprendizaje de máquina (árboles de decisión, clasificadores, etc.). "
   ]
  },
  {
   "cell_type": "markdown",
   "metadata": {},
   "source": [
    "8. Menciona tres funciones de activación para una red neuronal feed-forward"
   ]
  },
  {
   "cell_type": "markdown",
   "metadata": {},
   "source": [
    "ReLU, Tangente Hiperbólica y Sigmoide."
   ]
  },
  {
   "cell_type": "markdown",
   "metadata": {},
   "source": [
    "9. ¿Qué es el método de backpropagation?"
   ]
  },
  {
   "cell_type": "markdown",
   "metadata": {},
   "source": [
    "Es un algoritmo que permite entrenar a los pesos en cada capa dentro de una red neuronal a través del cómputo más eficiente de las derivadas parciales $\\frac{\\partial C}{\\partial w_j}$ y $\\frac{\\partial C}{\\partial b}$ en términos del cambio de la función de costos respecto al resultado que arroja la activación de las capas anteriores $a_{1},...,a_{j-1}$, donde $C$ es la función de costos, $w$ son los pesos (coeficientes) del modelo y $b$ es el sesgo. En algunos casos se ejecuta más rápido que los métodos de gradiente descendiente por separado."
   ]
  },
  {
   "cell_type": "markdown",
   "metadata": {},
   "source": [
    "10. ¿En qué difiere una red neuronal feed-forward de una red neuronal convolucional?"
   ]
  },
  {
   "cell_type": "markdown",
   "metadata": {},
   "source": [
    "    \n",
    "    a. Red neuronal feed-forward: El output de una capa se usa como input de la siguiente. Esto evita que haya loops de la información, lo que evita que la salida de las capa $j$ se usada en las capas $1,2,...,j-1$.\n",
    "    \n",
    "    b. Red nuronal convolusional: A contrario de una red $feed-forward$, permite que las salidas de las capas posteriores pueda regresar a las primeras capas, creando loops en la información."
   ]
  }
 ],
 "metadata": {
  "kernelspec": {
   "display_name": "Python 3",
   "language": "python",
   "name": "python3"
  },
  "language_info": {
   "codemirror_mode": {
    "name": "ipython",
    "version": 3
   },
   "file_extension": ".py",
   "mimetype": "text/x-python",
   "name": "python",
   "nbconvert_exporter": "python",
   "pygments_lexer": "ipython3",
   "version": "3.7.4"
  }
 },
 "nbformat": 4,
 "nbformat_minor": 2
}
