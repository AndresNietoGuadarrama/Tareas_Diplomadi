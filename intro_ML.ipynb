{
 "cells": [
  {
   "cell_type": "code",
   "execution_count": 99,
   "metadata": {},
   "outputs": [],
   "source": [
    "import pandas as pd\n",
    "import numpy as np\n",
    "import scipy.stats"
   ]
  },
  {
   "cell_type": "code",
   "execution_count": 116,
   "metadata": {},
   "outputs": [],
   "source": [
    "df_port=pd.read_csv('preciosportf.csv')"
   ]
  },
  {
   "cell_type": "code",
   "execution_count": 101,
   "metadata": {},
   "outputs": [],
   "source": [
    "w=np.random.random(5)\n",
    "w=w/np.sum(w)"
   ]
  },
  {
   "cell_type": "code",
   "execution_count": 121,
   "metadata": {},
   "outputs": [
    {
     "data": {
      "text/html": [
       "<div>\n",
       "<style scoped>\n",
       "    .dataframe tbody tr th:only-of-type {\n",
       "        vertical-align: middle;\n",
       "    }\n",
       "\n",
       "    .dataframe tbody tr th {\n",
       "        vertical-align: top;\n",
       "    }\n",
       "\n",
       "    .dataframe thead th {\n",
       "        text-align: right;\n",
       "    }\n",
       "</style>\n",
       "<table border=\"1\" class=\"dataframe\">\n",
       "  <thead>\n",
       "    <tr style=\"text-align: right;\">\n",
       "      <th></th>\n",
       "      <th>ASURB MF Equity</th>\n",
       "      <th>GFNORTEO MF Equity</th>\n",
       "      <th>PE&amp;OLES* MF Equity</th>\n",
       "      <th>WALMEX* MF Equity</th>\n",
       "      <th>IENOVA* MF Equity</th>\n",
       "    </tr>\n",
       "    <tr>\n",
       "      <th>DATE</th>\n",
       "      <th></th>\n",
       "      <th></th>\n",
       "      <th></th>\n",
       "      <th></th>\n",
       "      <th></th>\n",
       "    </tr>\n",
       "  </thead>\n",
       "  <tbody>\n",
       "    <tr>\n",
       "      <th>2016-01-01</th>\n",
       "      <td>NaN</td>\n",
       "      <td>NaN</td>\n",
       "      <td>NaN</td>\n",
       "      <td>NaN</td>\n",
       "      <td>NaN</td>\n",
       "    </tr>\n",
       "    <tr>\n",
       "      <th>2016-04-01</th>\n",
       "      <td>-0.022961</td>\n",
       "      <td>-0.033688</td>\n",
       "      <td>-0.007448</td>\n",
       "      <td>-0.014946</td>\n",
       "      <td>0.008847</td>\n",
       "    </tr>\n",
       "    <tr>\n",
       "      <th>2016-05-01</th>\n",
       "      <td>-0.022074</td>\n",
       "      <td>-0.000763</td>\n",
       "      <td>0.003127</td>\n",
       "      <td>-0.004202</td>\n",
       "      <td>-0.020554</td>\n",
       "    </tr>\n",
       "  </tbody>\n",
       "</table>\n",
       "</div>"
      ],
      "text/plain": [
       "            ASURB MF Equity  GFNORTEO MF Equity  PE&OLES* MF Equity  \\\n",
       "DATE                                                                  \n",
       "2016-01-01              NaN                 NaN                 NaN   \n",
       "2016-04-01        -0.022961           -0.033688           -0.007448   \n",
       "2016-05-01        -0.022074           -0.000763            0.003127   \n",
       "\n",
       "            WALMEX* MF Equity  IENOVA* MF Equity  \n",
       "DATE                                              \n",
       "2016-01-01                NaN                NaN  \n",
       "2016-04-01          -0.014946           0.008847  \n",
       "2016-05-01          -0.004202          -0.020554  "
      ]
     },
     "execution_count": 121,
     "metadata": {},
     "output_type": "execute_result"
    }
   ],
   "source": [
    "df_port2=df_port[df_port.keys()[1:]]\n",
    "date_index = pd.to_datetime(df_port['DATE'])\n",
    "df_port2.index=date_index\n",
    "df3=df_port2.astype('float').pct_change(periods=1)\n",
    "df3.head(3)"
   ]
  },
  {
   "cell_type": "code",
   "execution_count": 122,
   "metadata": {},
   "outputs": [],
   "source": [
    "S=df3.cov()"
   ]
  },
  {
   "cell_type": "code",
   "execution_count": 123,
   "metadata": {},
   "outputs": [
    {
     "name": "stdout",
     "output_type": "stream",
     "text": [
      "0.094933250047614\n"
     ]
    }
   ],
   "source": [
    "rend=df_port\n",
    "rendimiento_esperado_portafolio=np.dot(w,df3.mean())*252\n",
    "print(rendimiento_esperado_portafolio)"
   ]
  },
  {
   "cell_type": "markdown",
   "metadata": {},
   "source": [
    "# Machine Learning"
   ]
  },
  {
   "cell_type": "code",
   "execution_count": 5,
   "metadata": {},
   "outputs": [],
   "source": [
    "import numpy as np\n",
    "import matplotlib.pyplot as plt\n",
    "from numpy.linalg import inv"
   ]
  },
  {
   "cell_type": "code",
   "execution_count": 25,
   "metadata": {},
   "outputs": [],
   "source": [
    "X=np.linspace(-1,1,100)+np.random.uniform(100)*.6\n",
    "y=3*X+1+np.random.randn(100)"
   ]
  },
  {
   "cell_type": "code",
   "execution_count": 13,
   "metadata": {},
   "outputs": [],
   "source": [
    "X=X[:,np.newaxis]\n",
    "y=y[:,np.newaxis]"
   ]
  },
  {
   "cell_type": "code",
   "execution_count": 14,
   "metadata": {},
   "outputs": [
    {
     "data": {
      "text/plain": [
       "array([[178.9132537]])"
      ]
     },
     "execution_count": 14,
     "metadata": {},
     "output_type": "execute_result"
    }
   ],
   "source": [
    "y.T@(inv(X@X.T)@X)"
   ]
  },
  {
   "cell_type": "code",
   "execution_count": 35,
   "metadata": {},
   "outputs": [],
   "source": [
    "import sklearn\n",
    "from sklearn.linear_model import LinearRegression\n",
    "from sklearn.preprocessing import PolynomialFeatures"
   ]
  },
  {
   "cell_type": "code",
   "execution_count": 17,
   "metadata": {},
   "outputs": [
    {
     "data": {
      "text/plain": [
       "LinearRegression(copy_X=True, fit_intercept=True, n_jobs=None, normalize=False)"
      ]
     },
     "execution_count": 17,
     "metadata": {},
     "output_type": "execute_result"
    }
   ],
   "source": [
    "#Siempre instancias la clase LinearRegression primero\n",
    "'''\n",
    "La siguiente linea siempre se escribe cuando trabajamos \n",
    "con regresiones lineares!!!\n",
    "'''\n",
    "lr=LinearRegression()\n",
    "lr.fit(X.reshape(100,1),y)"
   ]
  },
  {
   "cell_type": "code",
   "execution_count": 22,
   "metadata": {},
   "outputs": [
    {
     "data": {
      "image/png": "[encoded data removed]",
      "text/plain": [
       "<Figure size 432x288 with 1 Axes>"
      ]
     },
     "metadata": {
      "needs_background": "light"
     },
     "output_type": "display_data"
    }
   ],
   "source": [
    "xrange=np.linspace(X.max(),X.min(),100).reshape(100,1)\n",
    "yhat=lr.predict(xrange)\n",
    "plt.plot(xrange,yhat,c=\"r\")\n",
    "plt.scatter(X,y)\n",
    "plt.show()"
   ]
  },
  {
   "cell_type": "code",
   "execution_count": null,
   "metadata": {},
   "outputs": [],
   "source": [
    "X=np.linspace(-1,1,100)+np.random.uniform(100)*.6\n",
    "X.reshape(100,1)\n",
    "X=np.c_[X,X**2]"
   ]
  },
  {
   "cell_type": "code",
   "execution_count": 44,
   "metadata": {},
   "outputs": [
    {
     "data": {
      "text/plain": [
       "(100, 2)"
      ]
     },
     "execution_count": 44,
     "metadata": {},
     "output_type": "execute_result"
    }
   ],
   "source": [
    "X.shape"
   ]
  },
  {
   "cell_type": "code",
   "execution_count": 45,
   "metadata": {},
   "outputs": [
    {
     "data": {
      "image/png": "[encoded data removed]",
      "text/plain": [
       "<Figure size 432x288 with 1 Axes>"
      ]
     },
     "metadata": {
      "needs_background": "light"
     },
     "output_type": "display_data"
    }
   ],
   "source": [
    "lr=LinearRegression()\n",
    "lr.fit(X,y)\n",
    "xrange=np.linspace(X.min(),X.max(),100).reshape(100,1)\n",
    "xr=np.c_[xrange,xrange**2]\n",
    "yhat=lr.predict(xr)\n",
    "plt.plot(xrange,yhat,c=\"r\")\n",
    "plt.scatter(X[:,0],X[:,1].reshape(100,1))\n",
    "plt.show()"
   ]
  },
  {
   "cell_type": "code",
   "execution_count": 48,
   "metadata": {},
   "outputs": [],
   "source": [
    "X=np.linspace(-1,1,100)\n",
    "y=6+3*X-5*X**2+2.4*X**3+np.random.randn(100)+0.8"
   ]
  },
  {
   "cell_type": "code",
   "execution_count": 49,
   "metadata": {},
   "outputs": [
    {
     "data": {
      "text/plain": [
       "LinearRegression(copy_X=True, fit_intercept=True, n_jobs=None, normalize=False)"
      ]
     },
     "execution_count": 49,
     "metadata": {},
     "output_type": "execute_result"
    }
   ],
   "source": [
    "poly=PolynomialFeatures(degree=2,include_bias=False)\n",
    "Xt=poly.fit_transform(X[:,np.newaxis])\n",
    "lr=LinearRegression()\n",
    "lr.fit(Xt,y)"
   ]
  },
  {
   "cell_type": "markdown",
   "metadata": {},
   "source": [
    "# Librerías que necesitas para hacer regresiones"
   ]
  },
  {
   "cell_type": "code",
   "execution_count": 50,
   "metadata": {},
   "outputs": [],
   "source": [
    "import sklearn\n",
    "from sklearn.pipeline import Pipeline\n",
    "from sklearn.linear_model import LinearRegression\n",
    "from sklearn.preprocessing import PolynomialFeatures"
   ]
  },
  {
   "cell_type": "code",
   "execution_count": 51,
   "metadata": {},
   "outputs": [],
   "source": [
    "X=np.linspace(-1,1,100)\n",
    "y=6+3*X-5*X**2+2.4*X**3+np.random.randn(100)+0.8"
   ]
  },
  {
   "cell_type": "markdown",
   "metadata": {},
   "source": [
    "Modelo"
   ]
  },
  {
   "cell_type": "code",
   "execution_count": 52,
   "metadata": {},
   "outputs": [
    {
     "data": {
      "text/plain": [
       "Pipeline(memory=None,\n",
       "         steps=[('Polytransform',\n",
       "                 PolynomialFeatures(degree=2, include_bias=False,\n",
       "                                    interaction_only=False, order='C')),\n",
       "                ('linear_model',\n",
       "                 LinearRegression(copy_X=True, fit_intercept=True, n_jobs=None,\n",
       "                                  normalize=False))],\n",
       "         verbose=False)"
      ]
     },
     "execution_count": 52,
     "metadata": {},
     "output_type": "execute_result"
    }
   ],
   "source": [
    "pipe=Pipeline([\n",
    "    (\"Polytransform\",PolynomialFeatures(degree=2,include_bias=False)),\n",
    "    (\"linear_model\",LinearRegression())\n",
    "])\n",
    "pipe.fit(X[:,np.newaxis],y)"
   ]
  },
  {
   "cell_type": "code",
   "execution_count": 77,
   "metadata": {},
   "outputs": [],
   "source": [
    "x_train=np.linspace(-1,1,100)+np.random.uniform(size=100)\n",
    "x_test=np.linspace(-1,1,20)\n",
    "def y_make(x):\n",
    "    n_input=len(x)\n",
    "    y=6+3*x-5*x**2+2.4*x**3+np.random.randn(n_input)+0.8\n",
    "    return y\n",
    "y_train=y_make(x_train)\n",
    "y_test=y_make(x_test)"
   ]
  },
  {
   "cell_type": "code",
   "execution_count": 78,
   "metadata": {},
   "outputs": [
    {
     "data": {
      "text/plain": [
       "Pipeline(memory=None,\n",
       "         steps=[('Polytransform',\n",
       "                 PolynomialFeatures(degree=2, include_bias=False,\n",
       "                                    interaction_only=False, order='C')),\n",
       "                ('linear_model',\n",
       "                 LinearRegression(copy_X=True, fit_intercept=True, n_jobs=None,\n",
       "                                  normalize=False))],\n",
       "         verbose=False)"
      ]
     },
     "execution_count": 78,
     "metadata": {},
     "output_type": "execute_result"
    }
   ],
   "source": [
    "pipe=Pipeline([\n",
    "    (\"Polytransform\",PolynomialFeatures(degree=2,include_bias=False)),\n",
    "    (\"linear_model\",LinearRegression())\n",
    "])\n",
    "pipe.fit(x_train[:,np.newaxis],y_train)"
   ]
  },
  {
   "cell_type": "code",
   "execution_count": 79,
   "metadata": {},
   "outputs": [
    {
     "data": {
      "text/plain": [
       "0.5883386147755549"
      ]
     },
     "execution_count": 79,
     "metadata": {},
     "output_type": "execute_result"
    }
   ],
   "source": [
    "pipe.score(x_train.reshape(100,1),y_train)"
   ]
  },
  {
   "cell_type": "code",
   "execution_count": 59,
   "metadata": {},
   "outputs": [],
   "source": [
    "from sklearn.metrics import mean_squared_error"
   ]
  },
  {
   "cell_type": "code",
   "execution_count": 80,
   "metadata": {},
   "outputs": [],
   "source": [
    "yhat_train=pipe.predict(x_train.reshape(100,1))\n",
    "yhat_test=pipe.predict(x_test.reshape(20,1))"
   ]
  },
  {
   "cell_type": "code",
   "execution_count": 81,
   "metadata": {},
   "outputs": [
    {
     "data": {
      "text/plain": [
       "3.2459609915475043"
      ]
     },
     "execution_count": 81,
     "metadata": {},
     "output_type": "execute_result"
    }
   ],
   "source": [
    "mean_squared_error(y_train,yhat_train)\n",
    "mean_squared_error(y_test,yhat_test)"
   ]
  },
  {
   "cell_type": "code",
   "execution_count": 97,
   "metadata": {},
   "outputs": [
    {
     "data": {
      "image/png": "[encoded data removed]",
      "text/plain": [
       "<Figure size 432x288 with 1 Axes>"
      ]
     },
     "metadata": {
      "needs_background": "light"
     },
     "output_type": "display_data"
    }
   ],
   "source": [
    "def make_pipe(deg,x,y):\n",
    "    pipe=Pipeline([\n",
    "            (\"Polytransform\",PolynomialFeatures(degree=deg,include_bias=False)),\n",
    "            (\"linear_model\",LinearRegression())\n",
    "    ])\n",
    "    \n",
    "    pipe.fit(x[:,np.newaxis],y)\n",
    "    \n",
    "    return pipe\n",
    "J_tr=[]\n",
    "J_tt=[]\n",
    "for g in range(1,30):\n",
    "    pipe=make_pipe(g,x_train,y_train)\n",
    "    yhat_train=pipe.predict(x_train.reshape(100,1))\n",
    "    yhat_test=pipe.predict(x_test.reshape(20,1))\n",
    "    err_tr=mean_squared_error(y_train,yhat_train)\n",
    "    err_tt=mean_squared_error(y_test,yhat_test)\n",
    "    J_tr.append(err_tr)\n",
    "    J_tt.append(err_tt)\n",
    "\n",
    "plt.plot(J_tr)\n",
    "plt.plot(J_tt)\n",
    "plt.ylim(min(J_tr)-1e-1,max(J_tr)+1e-2)\n",
    "plt.xticks(range(30))\n",
    "plt.show()\n",
    "    "
   ]
  }
 ],
 "metadata": {
  "kernelspec": {
   "display_name": "Python 3",
   "language": "python",
   "name": "python3"
  },
  "language_info": {
   "codemirror_mode": {
    "name": "ipython",
    "version": 3
   },
   "file_extension": ".py",
   "mimetype": "text/x-python",
   "name": "python",
   "nbconvert_exporter": "python",
   "pygments_lexer": "ipython3",
   "version": "3.7.3"
  }
 },
 "nbformat": 4,
 "nbformat_minor": 2
}
