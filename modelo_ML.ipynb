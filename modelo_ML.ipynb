{
 "cells": [
  {
   "cell_type": "markdown",
   "metadata": {},
   "source": [
    "# Mejora del modelo ML\n",
    "### Andrés Nieto Guadarrama"
   ]
  },
  {
   "cell_type": "code",
   "execution_count": 34,
   "metadata": {},
   "outputs": [],
   "source": [
    "import matplotlib.pyplot as plt\n",
    "import numpy as np\n",
    "import seaborn as sns\n",
    "import pandas as pd\n",
    "from sklearn.datasets import fetch_california_housing\n",
    "from sklearn.linear_model import Ridge, LinearRegression\n",
    "from sklearn.model_selection import GridSearchCV, cross_val_score, train_test_split,cross_validate\n",
    "from sklearn.metrics import mean_squared_error\n",
    "from ipywidgets import interact,interact_manual\n",
    "from IPython.display import display\n",
    "from numpy.random import seed, randn\n",
    "from sklearn.preprocessing import PolynomialFeatures"
   ]
  },
  {
   "cell_type": "code",
   "execution_count": 35,
   "metadata": {},
   "outputs": [],
   "source": [
    "from sklearn.preprocessing import OneHotEncoder\n",
    "from sklearn.impute import SimpleImputer\n",
    "from sklearn.compose import ColumnTransformer, make_column_selector\n",
    "from sklearn.pipeline import Pipeline\n",
    "from sklearn.linear_model import Lasso\n",
    "from sklearn.model_selection import train_test_split"
   ]
  },
  {
   "cell_type": "markdown",
   "metadata": {},
   "source": [
    "### Base de datos: Casas en Seattle"
   ]
  },
  {
   "cell_type": "code",
   "execution_count": 36,
   "metadata": {},
   "outputs": [],
   "source": [
    "housing=pd.read_csv(r\"train.csv\")"
   ]
  },
  {
   "cell_type": "markdown",
   "metadata": {},
   "source": [
    "Crearemos un pipeline y limpiaremos la base convertiendo a variable categórica 'label_bin'."
   ]
  },
  {
   "cell_type": "markdown",
   "metadata": {},
   "source": [
    "### Modelo ML"
   ]
  },
  {
   "cell_type": "code",
   "execution_count": 37,
   "metadata": {},
   "outputs": [],
   "source": [
    "column_selector = ColumnTransformer(\n",
    "    [(\"label_bin\", OneHotEncoder(sparse=False), [\"MSZoning\", \"SaleCondition\"]),\n",
    "     (\"numeric\", SimpleImputer(), make_column_selector(dtype_include=\"float\"))]\n",
    ")\n",
    "\n",
    "pipe = Pipeline([\n",
    "    (\"select_cols\", column_selector),\n",
    "    (\"lasso\", Lasso(alpha=0.1, tol=0.5))\n",
    "])"
   ]
  },
  {
   "cell_type": "markdown",
   "metadata": {},
   "source": [
    "Tomemos una porción de los datos (20%) para probar el modelo, y el resto para entrenarlo"
   ]
  },
  {
   "cell_type": "code",
   "execution_count": 38,
   "metadata": {},
   "outputs": [],
   "source": [
    "train, test = train_test_split(housing, test_size=0.2, random_state=2718)\n",
    "xtrain, ytrain = train.drop(\"SalePrice\", axis=1), train[\"SalePrice\"]\n",
    "\n",
    "cv = cross_validate(pipe, xtrain, ytrain, cv=5, scoring=[\"r2\", \"neg_mean_absolute_error\"])\n",
    "r2 = cv[\"test_r2\"]\n",
    "mae = -cv[\"test_neg_mean_absolute_error\"]"
   ]
  },
  {
   "cell_type": "markdown",
   "metadata": {},
   "source": [
    "Debemos mejorar la siguietne $R^2$:"
   ]
  },
  {
   "cell_type": "code",
   "execution_count": 39,
   "metadata": {},
   "outputs": [
    {
     "name": "stdout",
     "output_type": "stream",
     "text": [
      "mean r2: 0.44\n",
      "mean MAE : 41749.60\n"
     ]
    }
   ],
   "source": [
    "print(f\"mean r2: {r2.mean():0.2f}\")\n",
    "print(f\"mean MAE : {mae.mean():0.2f}\")"
   ]
  },
  {
   "cell_type": "code",
   "execution_count": 40,
   "metadata": {},
   "outputs": [],
   "source": [
    "from sklearn.model_selection import GridSearchCV\n",
    "\n",
    "alphas = [1/i for i in range(1, 11)]\n",
    "grid = {\n",
    "    \"lasso__alpha\": [0.1 * 10 ** (i/2) for i in range(1, 11)],\n",
    "}"
   ]
  },
  {
   "cell_type": "code",
   "execution_count": 41,
   "metadata": {},
   "outputs": [
    {
     "name": "stdout",
     "output_type": "stream",
     "text": [
      "Wall time: 1.92 s\n"
     ]
    }
   ],
   "source": [
    "%%time\n",
    "gsearch = GridSearchCV(pipe, grid, scoring=\"neg_mean_absolute_error\",\n",
    "                       return_train_score=True, cv=10)\n",
    "gsearch.fit(xtrain, ytrain)\n",
    "cvres = gsearch.cv_results_"
   ]
  },
  {
   "cell_type": "code",
   "execution_count": 42,
   "metadata": {},
   "outputs": [],
   "source": [
    "train_score = np.sqrt(-cvres[\"mean_train_score\"])\n",
    "test_score = np.sqrt(-cvres[\"mean_test_score\"])\n",
    "\n",
    "cv = cross_validate(gsearch.best_estimator_, xtrain, ytrain, cv=5, scoring=[\"r2\", \"neg_mean_absolute_error\"])\n",
    "r2 = cv[\"test_r2\"]\n",
    "mae = -cv[\"test_neg_mean_absolute_error\"]"
   ]
  },
  {
   "cell_type": "markdown",
   "metadata": {},
   "source": [
    "### A superar:"
   ]
  },
  {
   "cell_type": "code",
   "execution_count": 43,
   "metadata": {},
   "outputs": [
    {
     "name": "stdout",
     "output_type": "stream",
     "text": [
      "mean r2: 0.44\n",
      "mean MAE : 41620.65\n"
     ]
    }
   ],
   "source": [
    "print(f\"mean r2: {r2.mean():0.2f}\")\n",
    "print(f\"mean MAE : {mae.mean():0.2f}\")"
   ]
  },
  {
   "cell_type": "markdown",
   "metadata": {},
   "source": [
    "### Mejora del modelo"
   ]
  },
  {
   "cell_type": "markdown",
   "metadata": {},
   "source": [
    "Exploremos un poco la relación entre las variables explicativas y la variable respuesta"
   ]
  },
  {
   "cell_type": "code",
   "execution_count": 44,
   "metadata": {
    "scrolled": true
   },
   "outputs": [
    {
     "data": {
      "image/png": "[encoded data removed]",
      "text/plain": [
       "<Figure size 432x288 with 4 Axes>"
      ]
     },
     "metadata": {
      "needs_background": "light"
     },
     "output_type": "display_data"
    }
   ],
   "source": [
    "X=pd.concat([xtrain,ytrain],axis=1)\n",
    "R2=X.corr()[list(X.keys())[-1]]\n",
    "R2=R2.sort_values(ascending=False)\n",
    "L=R2.index[1:5]\n",
    "fig, ax = plt.subplots(2, 2)\n",
    "plt.title('Window Title')\n",
    "ax=ax.ravel()\n",
    "for axi,l in zip(ax,L):\n",
    "    axi.scatter(xtrain[l],ytrain)\n",
    "    axi.set_title(l)\n",
    "fig.suptitle('Relación entre variables explicativas y respuesta',y=1.09,x=.525)\n",
    "plt.tight_layout()"
   ]
  },
  {
   "cell_type": "markdown",
   "metadata": {},
   "source": [
    "Proponemos una regresión polinomial entre la variable respuesta y GrLivArea, que es la columna con datos continuos para la que ytrain está más correlacionada."
   ]
  },
  {
   "cell_type": "code",
   "execution_count": 51,
   "metadata": {},
   "outputs": [
    {
     "data": {
      "application/vnd.jupyter.widget-view+json": {
       "model_id": "67c2c482c93c4e6582f24e8c995ad103",
       "version_major": 2,
       "version_minor": 0
      },
      "text/plain": [
       "interactive(children=(IntSlider(value=2, continuous_update=False, description='Grado:', max=30, min=1), Button…"
      ]
     },
     "metadata": {},
     "output_type": "display_data"
    },
    {
     "data": {
      "text/plain": [
       "<function __main__.gbase(deg)>"
      ]
     },
     "metadata": {},
     "output_type": "display_data"
    }
   ],
   "source": [
    "import ipywidgets as widgets\n",
    "\n",
    "X_exp=xtrain.copy()\n",
    "X_exp=X[L[1]]\n",
    "\n",
    "\n",
    "def make_pipe(deg,x,y):\n",
    "    pipe=Pipeline([\n",
    "            (\"Polytransform\",PolynomialFeatures(degree=deg,include_bias=False)),\n",
    "            (\"linear_model\",LinearRegression()),\n",
    "    ])\n",
    "    \n",
    "    pipe.fit(x[:,np.newaxis],y)\n",
    "    \n",
    "    return pipe\n",
    "\n",
    "def gbase(deg):\n",
    "    x,y=X_exp,ytrain\n",
    "    pipe=make_pipe(deg,x,y)\n",
    "    rango_x=np.linspace(x.min(),x.max(),len(x))\n",
    "    plt.title(f\"Modelo polinomial de grado {deg}\")\n",
    "    plt.plot(rango_x,pipe.predict(rango_x.reshape(len(x),1)),c='r',label='modelo')\n",
    "    r_cuad=pipe.score(np.array(x).reshape(len(x),1),np.array(y).reshape(len(x),1))\n",
    "    plt.text(x=2250,y=125000,s=f\"{'Coef. de determinación $R^2$'}: {round(r_cuad,2)}\")\n",
    "    plt.legend()\n",
    "    plt.show()\n",
    "\n",
    "slider_deg=widgets.IntSlider(\n",
    "    value=2,\n",
    "    min=1,\n",
    "    max=30,\n",
    "    step=1,\n",
    "    description='Grado:',\n",
    "    height=5,\n",
    "    width=5,\n",
    "    disabled=False,\n",
    "    continuous_update=False,\n",
    "    orientation='horizontal',\n",
    "    readout=True,\n",
    "    readout_format='d',\n",
    ")\n",
    "\n",
    "w=interact_manual(gbase,deg=slider_deg) \n",
    "display(w)\n"
   ]
  },
  {
   "cell_type": "markdown",
   "metadata": {},
   "source": [
    "# Segundo modelo: Regresión logística"
   ]
  },
  {
   "cell_type": "code",
   "execution_count": 46,
   "metadata": {},
   "outputs": [
    {
     "name": "stderr",
     "output_type": "stream",
     "text": [
      "C:\\Users\\AN012491\\AppData\\Local\\Continuum\\anaconda3\\lib\\site-packages\\sklearn\\linear_model\\_logistic.py:939: ConvergenceWarning: lbfgs failed to converge (status=1):\n",
      "STOP: TOTAL NO. of ITERATIONS REACHED LIMIT.\n",
      "\n",
      "Increase the number of iterations (max_iter) or scale the data as shown in:\n",
      "    https://scikit-learn.org/stable/modules/preprocessing.html.\n",
      "Please also refer to the documentation for alternative solver options:\n",
      "    https://scikit-learn.org/stable/modules/linear_model.html#logistic-regression\n",
      "  extra_warning_msg=_LOGISTIC_SOLVER_CONVERGENCE_MSG)\n",
      "C:\\Users\\AN012491\\AppData\\Local\\Continuum\\anaconda3\\lib\\site-packages\\sklearn\\model_selection\\_split.py:667: UserWarning: The least populated class in y has only 1 members, which is less than n_splits=5.\n",
      "  % (min_groups, self.n_splits)), UserWarning)\n",
      "C:\\Users\\AN012491\\AppData\\Local\\Continuum\\anaconda3\\lib\\site-packages\\sklearn\\linear_model\\_logistic.py:939: ConvergenceWarning: lbfgs failed to converge (status=1):\n",
      "STOP: TOTAL NO. of ITERATIONS REACHED LIMIT.\n",
      "\n",
      "Increase the number of iterations (max_iter) or scale the data as shown in:\n",
      "    https://scikit-learn.org/stable/modules/preprocessing.html.\n",
      "Please also refer to the documentation for alternative solver options:\n",
      "    https://scikit-learn.org/stable/modules/linear_model.html#logistic-regression\n",
      "  extra_warning_msg=_LOGISTIC_SOLVER_CONVERGENCE_MSG)\n",
      "C:\\Users\\AN012491\\AppData\\Local\\Continuum\\anaconda3\\lib\\site-packages\\sklearn\\linear_model\\_logistic.py:939: ConvergenceWarning: lbfgs failed to converge (status=1):\n",
      "STOP: TOTAL NO. of ITERATIONS REACHED LIMIT.\n",
      "\n",
      "Increase the number of iterations (max_iter) or scale the data as shown in:\n",
      "    https://scikit-learn.org/stable/modules/preprocessing.html.\n",
      "Please also refer to the documentation for alternative solver options:\n",
      "    https://scikit-learn.org/stable/modules/linear_model.html#logistic-regression\n",
      "  extra_warning_msg=_LOGISTIC_SOLVER_CONVERGENCE_MSG)\n",
      "C:\\Users\\AN012491\\AppData\\Local\\Continuum\\anaconda3\\lib\\site-packages\\sklearn\\linear_model\\_logistic.py:939: ConvergenceWarning: lbfgs failed to converge (status=1):\n",
      "STOP: TOTAL NO. of ITERATIONS REACHED LIMIT.\n",
      "\n",
      "Increase the number of iterations (max_iter) or scale the data as shown in:\n",
      "    https://scikit-learn.org/stable/modules/preprocessing.html.\n",
      "Please also refer to the documentation for alternative solver options:\n",
      "    https://scikit-learn.org/stable/modules/linear_model.html#logistic-regression\n",
      "  extra_warning_msg=_LOGISTIC_SOLVER_CONVERGENCE_MSG)\n",
      "C:\\Users\\AN012491\\AppData\\Local\\Continuum\\anaconda3\\lib\\site-packages\\sklearn\\linear_model\\_logistic.py:939: ConvergenceWarning: lbfgs failed to converge (status=1):\n",
      "STOP: TOTAL NO. of ITERATIONS REACHED LIMIT.\n",
      "\n",
      "Increase the number of iterations (max_iter) or scale the data as shown in:\n",
      "    https://scikit-learn.org/stable/modules/preprocessing.html.\n",
      "Please also refer to the documentation for alternative solver options:\n",
      "    https://scikit-learn.org/stable/modules/linear_model.html#logistic-regression\n",
      "  extra_warning_msg=_LOGISTIC_SOLVER_CONVERGENCE_MSG)\n",
      "C:\\Users\\AN012491\\AppData\\Local\\Continuum\\anaconda3\\lib\\site-packages\\sklearn\\linear_model\\_logistic.py:939: ConvergenceWarning: lbfgs failed to converge (status=1):\n",
      "STOP: TOTAL NO. of ITERATIONS REACHED LIMIT.\n",
      "\n",
      "Increase the number of iterations (max_iter) or scale the data as shown in:\n",
      "    https://scikit-learn.org/stable/modules/preprocessing.html.\n",
      "Please also refer to the documentation for alternative solver options:\n",
      "    https://scikit-learn.org/stable/modules/linear_model.html#logistic-regression\n",
      "  extra_warning_msg=_LOGISTIC_SOLVER_CONVERGENCE_MSG)\n"
     ]
    }
   ],
   "source": [
    "from sklearn.preprocessing import OneHotEncoder\n",
    "from sklearn.impute import SimpleImputer\n",
    "from sklearn.compose import ColumnTransformer, make_column_selector\n",
    "from sklearn.pipeline import Pipeline\n",
    "from sklearn.linear_model import Lasso\n",
    "from sklearn.linear_model import LogisticRegression\n",
    "from sklearn.model_selection import train_test_split\n",
    "\n",
    "#Creamos una variable categórica y nos quedamos con la variable tipo 'float' más correlacionada con la respuesta.\n",
    "\n",
    "column_selector = ColumnTransformer(\n",
    "    [(\"label_bin\", OneHotEncoder(sparse=False), [L[0]]),\n",
    "     (\"numeric\", SimpleImputer(), make_column_selector(pattern=L[1]))]\n",
    ")\n",
    "\n",
    "\n",
    "#Definimos un modelo de regresión logística\n",
    "\n",
    "pipe2 = Pipeline([\n",
    "    (\"select_cols\", column_selector),    \n",
    "    (\"logistic_regression\", LogisticRegression())\n",
    "])\n",
    "\n",
    "#Dividimos la muestra para quedarnos con una parte para entrenar al modelo:\n",
    "\n",
    "train2, test2 = train_test_split(housing, test_size=0.3, random_state=2718)\n",
    "xtrain2,ytrain2 = train2.drop(\"SalePrice\", axis=1),train2[\"SalePrice\"]\n",
    "\n",
    "#Entrenamos al modelo:\n",
    "\n",
    "pipe2.fit(xtrain2, ytrain2)\n",
    "\n",
    "#Veamos qué tal nos fue en términos del coeficiente de determinación R^2\n",
    "\n",
    "cv = cross_validate(pipe2, xtrain2, ytrain2, cv=5, scoring=[\"r2\", \"neg_mean_absolute_error\"])\n",
    "r22 = cv[\"test_r2\"]"
   ]
  },
  {
   "cell_type": "code",
   "execution_count": 47,
   "metadata": {},
   "outputs": [
    {
     "name": "stdout",
     "output_type": "stream",
     "text": [
      "mean r2: 0.46\n",
      "El modelo de regresión logística también mejora un poco el modelo inicial.\n"
     ]
    }
   ],
   "source": [
    "print(f\"mean r2: {r22.mean():0.2f}\")\n",
    "\n",
    "if r22.mean()>r2.mean():\n",
    "    print(\"El modelo de regresión logística también mejora un poco el modelo inicial.\")"
   ]
  },
  {
   "cell_type": "markdown",
   "metadata": {},
   "source": [
    "# Tarea Conceptual:"
   ]
  },
  {
   "cell_type": "markdown",
   "metadata": {},
   "source": [
    "Considerar la función sigmoide: \n",
    "$$\\sigma(a)=\\frac{1}{1+e^{-a}}$$\n",
    "Por demostrar: \n",
    "$$\\frac{d\\sigma(a)}{da}=\\sigma(a)(1-\\sigma(a))$$    "
   ]
  },
  {
   "cell_type": "markdown",
   "metadata": {},
   "source": [
    "### Demostración:"
   ]
  },
  {
   "cell_type": "markdown",
   "metadata": {},
   "source": [
    "Notar que:\n",
    "$$\\frac{d\\sigma(a)}{da}\\,=\\,\\frac{e^{-a}}{(1+e^{-a})^2} \\,=\\, \\frac{e^{-a}}{(1+e^{-a})}\\,\\cdot\\,\\frac{1}{(1+e^{-a})}\\,=\\, \\frac{e^{-a}}{(1+e^{-a})}\\,\\cdot\\,\\sigma(a).$$"
   ]
  },
  {
   "cell_type": "markdown",
   "metadata": {},
   "source": [
    "Sin emabargo, \n",
    "\n",
    "$$(1-\\sigma(a))\\,=\\,1-\\frac{1}{1+e^{-a}}\\,=\\,\\frac{1+e^{-a}-1}{1+e^{-a}}\\,=\\,\\frac{e^{-a}}{1+e^{-a}}.$$\n",
    "Con lo cual, \n",
    "$$\\frac{d\\sigma(a)}{da}\\,=\\,\\frac{e^{-a}}{(1+e^{-a})}\\,\\cdot\\,\\sigma(a)\\,=\\,\\sigma(a)(1-\\sigma(a)). \\,\\,\\,QED.$$ "
   ]
  }
 ],
 "metadata": {
  "kernelspec": {
   "display_name": "Python 3",
   "language": "python",
   "name": "python3"
  },
  "language_info": {
   "codemirror_mode": {
    "name": "ipython",
    "version": 3
   },
   "file_extension": ".py",
   "mimetype": "text/x-python",
   "name": "python",
   "nbconvert_exporter": "python",
   "pygments_lexer": "ipython3",
   "version": "3.7.4"
  },
  "widgets": {
   "application/vnd.jupyter.widget-state+json": {
    "state": {
     "03e7b94ff81b48b790cb71e45151addb": {
      "model_module": "@jupyter-widgets/controls",
      "model_module_version": "1.5.0",
      "model_name": "ButtonModel",
      "state": {
       "description": "Run Interact",
       "layout": "IPY_MODEL_843d6d03a79249d4a58d1c69e50af0d4",
       "style": "IPY_MODEL_2e8c301868234db9b2011f0bd92e415a"
      }
     },
     "0b3aa54f9c94451190618859bcb53f27": {
      "model_module": "@jupyter-widgets/output",
      "model_module_version": "1.0.0",
      "model_name": "OutputModel",
      "state": {
       "layout": "IPY_MODEL_dec837f3d0d04c908c8403d171809b4e"
      }
     },
     "0fcfc3c980d6445c976ffe28623b9ed5": {
      "model_module": "@jupyter-widgets/output",
      "model_module_version": "1.0.0",
      "model_name": "OutputModel",
      "state": {
       "layout": "IPY_MODEL_f288d0021a7649769067581ab54221ef",
       "outputs": [
        {
         "data": {
          "image/png": "iVBORw0KGgoAAAANSUhEUgAAAYkAAAEICAYAAACqMQjAAAAABHNCSVQICAgIfAhkiAAAAAlwSFlzAAALEgAACxIB0t1+/AAAADh0RVh0U29mdHdhcmUAbWF0cGxvdGxpYiB2ZXJzaW9uMy4xLjEsIGh0dHA6Ly9tYXRwbG90bGliLm9yZy8QZhcZAAAgAElEQVR4nO3deXxURbbA8d8hbMouiwJBQWFUEIgQAiIigrLpsPhAYeYJKsq467iM4Ki4MI4zjsswKoqigqKAosJT2RcVZQuCIqASZIsghFXc2Dzvj6pmmtBJOiHJ7e6c7+fTn+6uu53bhD59q+pWiapijDHGRFIq6ACMMcbELksSxhhjcmRJwhhjTI4sSRhjjMmRJQljjDE5siRhjDEmR5YkTJESkfoioiJSOop1rxSR+cURV7bjqog09K+fE5H7Aogh6uOKyDwRuSbKdTuISOaxRVc0Yjk28195/sc1JYeIrAfqAHVUdXtY+XKgOdBAVdcHE13xUNXrStJx45WIvAL8AdgfVlxFVQ8FE1HisisJk906oH/ojYg0BY4LLhwTD6K5UiwC/1TVimEPSxBFwJKEye5VYEDY+4HA2PAVRKSKiIwVkSwR2SAi94pIKb8sSUT+JSLbReRb4OII244WkS0i8p2IDBeRpEiBiEhbEVkiInv8c9ucghaR9SIyVERWicguEXlZRMqHLb9WRDJEZKeITBGROjns5xURGe5fdxCRTBG5Q0S2+ZivivJzuFJEPhGRJ0Vkt4h868/nShHZ5Pc3MIfjVhOR9/x+d/nXyTmde7b4j/P72iUiq4BW2ZbXEZFJft/rROSWXPZVXUT+T0R+8J//8PDqQF9Nd6OIrAHW+LJ/+/P7QUSWish5+YjtTF+VtltEVopIj2jO2RQtSxImu4VAZf8fNgm4HHgt2zr/AaoApwLn45JK6MvzWuAS4GwgFeiTbdsxwEGgoV+nM3BU/bqInAC8D4wAqgNPAO+LSPVcYv8j0AU4DfgdcK/fV0fg78BlQG1gAzA+l/2EO8mfa11gEPCMiFTzy3L7HABaA1/4+F/3x2zlz/1/gadFpGKEY5YCXgZOAU4GfgGejjLeYbjzPw33WYQnolLA/wGf+/PpBNwmIl1y2NczwE/+MxgYvq8wvfx5NvbvlwApwAm4c34zLFnnFlsZH9sMoBZwMzBORE7P5Vxv8El/qYj8Ty7rmWOhqvawB6oKsB64EPfl+negKzAT13alQH0gCdgHNA7b7k/APP96DnBd2LLOftvSwIl+2+PClvcH5vrXVwLz/esrgMXZ4lsAXJlL7OHH7Q6s9a9H46omQssqAgeA+v69Ag3961eA4f51B9wXdOmwbbcBbaL4HK4E1oQta+qPc2JY2Q4gJftxI5xbCrAr7P084Joc1v0W6Br2fjCQ6V+3BjZmW38o8HKE/ST5z+j0sLLhoX+fsM+tYx5/U7uA5lHEdh7wPVAqbPkbwAM57LcFLvmW9v/We4Fzg/4/lIgPa7g2kbwKfAQ0IFtVE1ADKIv7NR6yAffLFFzD96Zsy0JOAcoAW0QkVFYq2/ohdbJtm/04kWQ/bqhKqQ7wWWiBqv4oIjv8vtbnsj+AHap6MOz9z7gkk9fnALA17PUv/tjZy466khCR44EncUk6dNVSSUSSNO9697w+/zoisjusLAn4OMJ+auK+gMP3Fenf6YgyEbkDd2VYB5dEKuM+q7xiqwNsUtXfsi2P+O+tqp+Fvf1ARMYBlwKfRFrfFJxVN5mjqOoGXAN2d+DtbIu3435hnhJWdjLwnX+9BaiXbVnIJtyv7xqqWtU/KqtqkwhhbM52jOzHiST7cTdH2peIVMD9Cs1tX3nJ63M4FncApwOtVbUy0N6XS86bHJbX578u7LOvqqqVVLV7hP1k4aoFw9tC6kVY7/Aw0r794W5ctV41Va0K7AmLO7fYNgP1Qm06Ycuj/TyV6D4fk0+WJExOBuGqEn4KL/S/ZCcCfxORSiJyCnA7/223mAjcIiLJvu5+SNi2W3B1zo+LSGURKSUip4nI+RGO/wHwOxH5g4iUFpHLcfXe7+US843+uCcA9wATfPnrwFUikiIi5YBHgEV6DN15o/gcjkUl3FXGbn8uw/Kx7URgqG/8TsbV7YcsBn4Qkbt9I3KSiJwlIq2y78Sf39vAAyJyvIicwZEdGnKK+yAuwZQWkftxVxLRxLYI1/7xFxEpIyIdgN+TQ9uRiPQRkYr+b6gzro1nSh7xmQKwJGEiUtW1qpqew+Kbcf+hvwXm476EX/LLXgCm4xpHP+PoK5EBuGqaVbj66rdwjcnZj78D1wB+B67u/i/AJRp2/0YEr+OS0Lf+MdzvazZwHzAJ92v2NKBfLvuJVm6fw7F4CtfteDuuI8G0fGz7IK6aZh3us3g1tMB/8f8e18axzu//RVzjeyQ3+WXf+/28gbsSzMl0YCrwjY/hV46sXsottv1AD6Cbj+tZYICqfpXDsW7FXWXsBh4DrlXVebnEZgpIfCOQMXFN3I2A16jqrKBjSVQi8g/gJFWN1MvJJCi7kjDGRCQiZ4hIM3HScFWQ7wQdlyle1rvJGJOTSrgqpjq4rr+PA5MDjcgUO6tuMsYYkyOrbjLGGJOjhKtuqlGjhtavXz/oMIwxJq4sXbp0u6rWzF6ecEmifv36pKfn1HPTGGNMJCKSfYQDwKqbjDHG5MKShDHGmBxZkjDGGJOjhGuTiOTAgQNkZmby66+/Bh1KTCpfvjzJycmUKVMm6FCMMTGmRCSJzMxMKlWqRP369Qkbotrg5hPZsWMHmZmZNGjQIOhwjDExpkRUN/36669Ur17dEkQEIkL16tXtKssYE1GJSBKAJYhc2GdjjMlJiahuMsbEOFX4/ntYvx42bICsLPj5Z/jlFyhfHipWhBNOgNNOg4YNoXpuU52bwmRJIg6FbhisUaPGMa1jTGAOHIBPP4XZs2HxYkhPhx07ot8+ORnatYPzz4eePaH2UVOSmEJiScIYUzx++QUmT4a33oKZM+GHH6BUKTjrLOjVC1JS4NRT4ZRT4MQT4fjj3VXEvn2wdy9s3w5r18I337ik8vHHMH483HCDSxiDBsHll7ttTKGxJFFM1q9fT9euXWnXrh0LFy6kefPmXHXVVQwbNoxt27Yxbtw4GjZsyNVXX823337L8ccfz6hRo2jWrBk7duygf//+ZGVlkZaWRvjIva+99hojRoxg//79tG7dmmeffZakpKQjjv3EE0/w0ktuwrRrrrmG2267rVjP3ZRwixbBCy/Am2+6xFCnjvsy79YNOnWCypVz3/6449yjVi1o3Pi/5aqwahVMmgSvvw5XXgl33QU33wy33QaVKhXpaZUUJS9J3HYbLF9euPtMSYGnnspztYyMDN58801GjRpFq1ateP3115k/fz5TpkzhkUceoV69epx99tm8++67zJkzhwEDBrB8+XIefPBB2rVrx/3338/777/PqFGjAFi9ejUTJkzgk08+oUyZMtxwww2MGzeOAQP+OxXx0qVLefnll1m0aBGqSuvWrTn//PM5++yzC/czMCbcwYPw7rvw5JOuWqlCBejbFwYMcFVEpQqhz4wINGniHvfd56qu/v1vuP9++M9/4N573VVG6ZL3NVeY7NMrRg0aNKBp06YANGnShE6dOiEiNG3alPXr17NhwwYmTZoEQMeOHdmxYwd79uzho48+4u233VTRF198MdWqVQNg9uzZLF26lFat3Dz2v/zyC7Vq1TrimPPnz6d3795UqFABgEsvvZSPP/7YkoQpGgcPwmuvwUMPwbp1rvpoxAj3K78of9mLwIUXusfixXDPPXDrrTBmjLuKadGi6I6d4EpekojiF39RKVeu3OHXpUqVOvy+VKlSHDx4kNIRfvGEuqdG6qaqqgwcOJC///3vOR7TJpUyxeK331x10rBh8PXX0LIlPP449OgB2ao/i1xammvzmDTJVT2lpbmri7/+tfhjSQBRX/OJSJKILBOR9/z7V0RknYgs948UXy4iMkJEMkTkCxFpEbaPgSKyxj8GhpW3FJEVfpsR4r8RReQEEZnp158pItUK79RjT/v27Rk3bhwA8+bNo0aNGlSuXPmI8qlTp7Jr1y4AOnXqxFtvvcW2bdsA2LlzJxs2bDhqn++++y4///wzP/30E++88w7nnXdeMZ6VSXgLF7ov4n79XNXO22/DkiXQu3dwX8oi0KePa7Po188lry5dYOvWYOKJY/mpGLwVWJ2t7C5VTfGPUEV/N6CRfwwGRoL7wgeGAa2BNGBY2Jf+SL9uaLuuvnwIMFtVGwGz/fuE9cADD5Cenk6zZs0YMmQIY8aMAWDYsGF89NFHtGjRghkzZnDyyScD0LhxY4YPH07nzp1p1qwZF110EVu2bDliny1atODKK68kLS2N1q1bc80111hVkykc33/vqpHOOQe2bIGxY+Hzz11yiJUbNKtVg1dfhdGj4ZNPIDUVVqwIOqr4oqp5PoBk3Jd0R+A9X/YK0CfCus8D/cPefw3UBvoDz2dfzy/7Kqz88Hqhbf3r2sDXecXasmVLzW7VqlVHlZkj2WdkonbokOp//qNaubJqmTKqd9+tundv0FHlbdky1Tp1VCtVUp0xI+hoYg6QrhG+U6O9kngK+AvwW7byv/kqpSdFJFThXhfYFLZOpi/LrTwzQjnAiaq6BcA/H9kq64nIYBFJF5H0rKysKE/JGJNva9ZAhw6urr9NG/jyS3j0UXdHdKxLSXHdcRs0gO7d4Z13go4oLuSZJETkEmCbqi7NtmgocAbQCjgBuDu0SYTdaAHKo6aqo1Q1VVVTa9Y8aopWY8yxOnQInngCmjWDL76Al1+GadPgd78LOrL8SU6Gjz6CVq3gsstc+4nJVTRXEucCPURkPTAe6Cgir6nqFn+Vsg94GdfOAO5KoF7Y9snA5jzKkyOUA2wVkdoA/nlbPs7tCGq9fHJkn43J1YYN7t6GO+5wXUxXrXJtEbHS7pBfVaq4BJeW5hLFlClBRxTT8kwSqjpUVZNVtT7QD5ijqv8b9uUtQC/gS7/JFGCA7+XUBtjjq4qmA51FpJpvsO4MTPfL9opIG7+vAcDksH2FekENDCvPl/Lly7Njxw77MoxA/XwS5W0oAxPJm29C8+bu6mHsWPeFWqdO0FEdu8qVXaJo2dLd/b1gQdARxaxjuU9inIjUxFUXLQeu8+UfAN2BDOBn4CoAVd0pIg8DS/x6D6nqTv/6elxD+HHAVP8AeBSYKCKDgI1A34IEmpycTGZmJtZeEVloZjpjDvvpJ/jzn92NaK1bu2EvTj016KgKV6VK8N570LYtXHKJuzP89NODjirmSKL9uk5NTdX09PSgwzAmfq1a5e4x+OorGDIEHnwQEnlq27VrXTfeSpXcwIHVEvp2rByJyFJVTc1eXmImHTLGROHNN11d/c6d7q7lRx5J7AQBbo6Kd9+FTZvgj390jfTmMEsSxhg35tJdd7mG3GbN4LPP3AitJUXbtm5wwKlT4YEHgo4mpliSMKaky8qCzp3hX/9yo6bOm5cYjdP5dd11cPXVMHw4zJgRdDQxw5KEMSXZsmWuh8+CBfDKK/DMM1C2bNBRBUMEnn7azVkxcKCb5MhYkjCmxJo82c3oBm5co4EDc1+/JDjuONeTa+dON9NdgnXsKQhLEsaUNKquaql3bzd16OLFNt9CuObN3VAjU6a4gQFLOEsSxpQk+/fDtde6Ruo+fVz7w0knBR1V7Ln1VrjgArjzTti8Oe/1E5glCWNKip07oWtX9+v43nth/HhXvWKOVqoUPP887NvnBjMswSxJGFMSbNgA557r2h7GjoWHHy6ceaYTWaNGrjvs22+X6IEA7a/EmES3YoW7D2DLFneD3BVXBB1R/Lj9djfE+E03wQ8/BB1NICxJGJPIPvwQQtPVfvwxtG8fbDzxpkwZGDXKJdi//S3oaAJhScKYRDVpkpvXuXZtdx9E06ZBRxSfWrVyQ6M/9RRkZAQdTbGzJGFMInr2Wejb13VtnT8f/LzopoAeecTdZHjnnUFHUuwsSRiTSFThvvvgxhvd8NezZkH16kFHFf9q14Z77nE3IM6aFXQ0xcqShDGJ4rff4JZb3NhDgwa5HjnHHx90VInjz39282Pfeaf7rEuIqJOEiCSJyDIRec+/byAii0RkjYhMEJGyvrycf5/hl9cP28dQX/61iHQJK+/qyzJEZEhYecRjGGOyOXjQJYann3bTjL7wApQ+ljnFzFHKl4eHHoLPP4e33go6mmKTnyuJW4HVYe//ATypqo2AXcAgXz4I2KWqDYEn/XqISGPc9KdNgK7Asz7xJAHPAN2AxkB/v25uxzDGhOzfD/37uwH6HngAHnssfuefjnX9+7sBAO+/3yXmEiCqJCEiycDFwIv+vQAdgVA6HYOb5xqgp3+PX97Jr98TGK+q+1R1HW560zT/yFDVb1V1PzAe6JnHMYwxAL/8Ar16uV+2jz8Ow4ZZgihKSUmuOu/rr+G114KOplhEeyXxFPAXIFQRVx3YraqhVJoJ1PWv6wKbAPzyPX79w+XZtsmpPLdjGGP27oVu3WDaNNeX//bbg46oZOjVC1JT3VXbvn1BR1Pk8kwSInIJsE1Vl4YXR1hV81hWWOWRYhwsIukikp6VlRVpFWMSy86dcOGFrnvruHFu0D5TPETc1cSGDTBmTN7rx7loriTOBXqIyHpcVVBH3JVFVREJtYwlA6GhEjOBegB+eRVgZ3h5tm1yKt+eyzGOoKqjVDVVVVNr1qwZxSkZE8eysqBDB1i+3PVg6t8/6IhKns6d3U12//xnwrdN5JkkVHWoqiaran1cw/McVf0jMBfo41cbCEz2r6f49/jlc1RVfXk/3/upAdAIWAwsARr5nkxl/TGm+G1yOoYxJdPWrW4I64wMeP996NEj6IhKJhEYOhTWroU33ww6miJ1LPdJ3A3cLiIZuPaD0Owco4Hqvvx2YAiAqq4EJgKrgGnAjap6yLc53ARMx/WemujXze0YxpQ833/vEsS6dS5BXHhh0BGVbD17wplnugmKEngGO9EEO7nU1FRNT08POgxjCteWLdCxI2zcCB98AOefH3REBtyw6wMHwnvvwcUXBx3NMRGRpaqamr3c7rg2JtZt3uzaIDZtcj2ZLEHEjv794ZRT4O9/DzqSImNJwphY9t13LkFs3gzTp/932G8TG8qUcV2PP/kEliwJOpoiYUnCmFiVmekSxPffuwRx7rlBR2QiufJKqFQJ/v3voCMpEpYkjIlFGze6aqVt22DGDDeznIlNlSvDVVfBxImu7SjBWJIwJtZs2OCuIHbscNONtmkTdEQmLzff7O6XeO65oCMpdJYkjIklmZmum+uuXS5BpKUFHZGJRsOGrnfTc88l3FAdliSMiRVbt0KnTu4KYsYMd0eviR+33OKqB8ePDzqSQmVJwphYsGOHuzkuM9PdB2EJIv5ceCGcfjo8/3zQkRQqSxLGBG33bjcW0Jo18H//Z72Y4pUIDB4MCxbAl18GHU2hsSRhTJB+/BG6d4cVK9xgfR07Bh2RORYDBkDZsm5mwARhScKYoPzyixugb/FieOMNlyxMfKtRAy69FF591f37JgBLEsYEYd8+92Uyb56bk+B//ifoiExhufZa1ztt0qSgIykUliSMKW4HD7oxf0Izyv3xj0FHZApThw6uS2yCVDlZkjCmOB065EYNfecdN4zDNdcEHZEpbKVKuX/Xjz6Cb74JOppjZknCmOLy22/wpz/B66+7OQhuuSXoiExRueIKlyxefTXoSI6ZJQljioMq3HorjB4N990Hd98ddESmKNWp4+6beO019+MgjuWZJESkvIgsFpHPRWSliDzoy18RkXUistw/Uny5iMgIEckQkS9EpEXYvgaKyBr/GBhW3lJEVvhtRoiI+PITRGSmX3+miFQr/I/AmCKmCkOGwNNPwx13wIMPBh2RKQ5XXAHr17thxONYNFcS+4COqtocSAG6ikhoxLG7VDXFP5b7sm64+asbAYOBkeC+8IFhQGsgDRgW9qU/0q8b2q6rLx8CzFbVRsBs/96Y+PLww/DPf8L118Njj7mbrkzi690bKlRws9fFsTyThDo/+rdl/CO3OU97AmP9dguBqiJSG+gCzFTVnaq6C5iJSzi1gcqqukDdXKpjgV5h+xrjX48JKzcmPjz2GAwb5uYcePppSxAlSYUKrmvzm2/Cr78GHU2BRdUmISJJIrIc2Ib7ol/kF/3NVyk9KSLlfFldYFPY5pm+LLfyzAjlACeq6hYA/1wrh/gGi0i6iKRnZWVFc0rGFL1nnoG//AUuvxxefNE1ZJqS5YorYM8eN9xKnIrqr1ZVD6lqCpAMpInIWcBQ4AygFXACEGqJi/RTSQtQHjVVHaWqqaqaWrNmzfxsakzRePlluOkm6NnT9XBJSgo6IhOECy6AunXjupdTvn7aqOpuYB7QVVW3+CqlfcDLuHYGcFcC9cI2SwY251GeHKEcYKuvjsI/b8tPvMYE4o03YNAgN2jfhAluHmRTMiUluSvJ6dPdQI5xKJreTTVFpKp/fRxwIfBV2Je34NoKQsMeTgEG+F5ObYA9vqpoOtBZRKr5BuvOwHS/bK+ItPH7GgBMDttXqBfUwLByY2LTu++6KobzznM3zJUrl/c2JrFddhns3w9TpgQdSYGUjmKd2sAYEUnCJZWJqvqeiMwRkZq46qLlwHV+/Q+A7kAG8DNwFYCq7hSRh4Elfr2HVHWnf3098ApwHDDVPwAeBSaKyCBgI9C3oCdqTJGbNs39akxNhffeg+OPDzoiEwvS0uDkk10D9oABQUeTb+I6FCWO1NRUTU9PDzoMU9LMmwfdusGZZ8KcOVC1atARmVhy111uGJZt22L2b0NElqpqavZy625hzLFasAAuuQROPdVNOxqjXwImQH37woEDMDn+aswtSRhzLD77zF1B1K4Ns2a5+QSMya5VKzjlFJg4MehI8s2ShDEF9eWXrgdT1aowe7ZLFMZEIuIasGfMcHNNxBFLEsYUxDffuAHcypVzCeLkk4OOyMS6yy5zc4m8+27QkeSLJQlj8mv9eujUyY3uOXs2nHZa0BGZeNCyJdSvH3cz1lmSMCY/vvsOOnaEn36CmTPhjDOCjsjECxF3B/7s2e7vJ05YkjAmWlu3uiuI7dvdHbTNmwcdkYk3PXu6wf5mzAg6kqhZkjAmGjt3wkUXwaZN8MEHrreKMfl13nlQrVpcdYW1JGFMXvbsgS5dXGP1lCnQrl3QEZl4Vbo0XHyxuyP/4MGgo4mKJQljcvPjj9C9O3z+uWtw7NQp6IhMvOvRA3bsgE8/DTqSqFiSMCYnv/zi6pAXLnQju158cdARmUTQtSuULRs3A/5ZkjAmkv37oU8fmDsXxoxxM4wZUxgqVXI95CZPdvOfxzhLEsZkd/Ag9O/vGqifew7+93+Djsgkmp49ISMDVq8OOpI8WZIwJtyhQ24+6rffhqeegsGDg47IJKIePdxzHFQ5WZIwJkQVrrsOxo2DRx6BW28NOiKTqOrUgZQUmDo173UDZknCGHAJ4rbb4MUX4d57YejQoCMyia5bN9fDac+eoCPJVTTTl5YXkcUi8rmIrBSRB315AxFZJCJrRGSCiJT15eX8+wy/vH7Yvob68q9FpEtYeVdfliEiQ8LKIx7DmEKlCvfcAyNGwO23w0MPBR2RKQm6dnXtX7NnBx1JrqK5ktgHdFTV5kAK0NXPXf0P4ElVbQTsAgb59QcBu1S1IfCkXw8RaQz0A5oAXYFnRSTJT4v6DNANaAz09+uSyzGMKTx/+xs8+qiravrXv9wYO8YUtXPOgcqVY77KKc8koc6P/m0Z/1CgI/CWLx8D9PKve/r3+OWdRER8+XhV3aeq63BzYKf5R4aqfquq+4HxQE+/TU7HMKZwPP443HcfDBwIzzxjCcIUnzJl3HDz06bFdFfYqNok/C/+5cA2YCawFtitqqH7yjOBuv51XWATgF++B6geXp5tm5zKq+dyjOzxDRaRdBFJz8rKiuaUjIGRI+HOO904/y++CKWsic4Us27dIDMTVq4MOpIcRfW/QlUPqWoKkIz75X9mpNX8c6SfYlqI5ZHiG6WqqaqaWrNmzUirGHOkMWPghhtcV8TXXnNj6hhT3Lp2dc8xXOWUr59OqrobmAe0AaqKSOh/VjKw2b/OBOoB+OVVgJ3h5dm2yal8ey7HMKbgJkyAq692o7pOmOAu+40JQnIynHWWq3KKUdH0bqopIlX96+OAC4HVwFygj19tIBAa+3aKf49fPkdV1Zf3872fGgCNgMXAEqCR78lUFte4PcVvk9MxjCmYyZPdHdTt2rlpJMuXDzoiU9J16wYffwx79wYdSUTRXEnUBuaKyBe4L/SZqvoecDdwu4hk4NoPRvv1RwPVffntwBAAVV0JTARWAdOAG3011kHgJmA6LvlM9OuSyzGMyb/p0137Q8uWbqjm448POiJjXJXTgQNunLAYJBrDreoFkZqaqunp6UGHYWLNhx+6X2ynnw5z5riJX4yJBfv2ub/Ha65x9+oERESWqmpq9nLrzmES38KFcMkl0KCBmzbSEoSJJeXKuRnrYvSmOksSJrEtW+Yu5086CWbNAuv9ZmJRp06wahVs2RJ0JEexJGES18qV0LkzVKnifqXVrh10RMZEFprxcM6cYOOIwJKESUxr1ri7WcuUcf/xTj456IiMyVlKiqsGjcEqJ7uDyCSe9evdL7NDh1yD9WmnBR2RMblLSoILLnBJQjWmhoexKwmTWDIz3dSQP/4IM2fCmZEGBzAmBnXqBBs3wtq1QUdyBEsSJnF8/737j7Zjh7snonnzoCMyJnqhdokYq3KyJGESw/btrg3iu+/c3NStWgUdkTH587vfuWE6LEkYU8h273a9mNaudXMGn3tu0BEZk38i7mpizhz47begoznMkoSJb3v3ujupv/wS3nnHtUcYE69C1aVffBF0JIdZkjDx6+ef3Z3US5bAxIn/HXbZmHjVoYN7/uijQMMIZ0nCxKdff4WePWH+fBg3DnrZpIUmAdSrB/XrW5Iw5pjs3w99+rhhNl56CS6/POiIjCk87du7JBEjg69akjDx5eBB+MMf4P333fSjAwfmvY0x8aR9e8jKgq+/DjoSwPyNsUAAABkhSURBVJKEiSeHDsGVV8KkSfDkk3DddUFHZEzha9/ePcdIlZMlCRMffvsN/vQn1/7wt7/BbbcFHZExRaNhQzdqcbwkCRGpJyJzRWS1iKwUkVt9+QMi8p2ILPeP7mHbDBWRDBH5WkS6hJV39WUZIjIkrLyBiCwSkTUiMsFPY4qf6nSCX3+RiNQvzJM3cUIVbr0VRo+Ge++Fe+4JOiJjio6Iu5r48MOYaJeI5kriIHCHqp4JtAFuFJHGftmTqpriHx8A+GX9gCZAV+BZEUkSkSTgGaAb0BjoH7aff/h9NQJ2AYN8+SBgl6o2BJ7065mSRBXuvhuefhruuAMeeijoiIwpeu3bu3HI1q8POpK8k4SqblHVz/zrvbh5qOvmsklPYLyq7lPVdUAGkOYfGar6raruB8YDPUVEgI7AW377MUCvsH2N8a/fAjr59U1J8cAD8NhjcMMN7tn++U1JEEPtEvlqk/DVPWcDi3zRTSLyhYi8JCKhOSHrApvCNsv0ZTmVVwd2q+rBbOVH7Msv3+PXzx7XYBFJF5H0rKys/JySiWWPPuquHK6+Gv7zH0sQpuRo0gROOCG+koSIVAQmAbep6g/ASOA0IAXYAjweWjXC5lqA8tz2dWSB6ihVTVXV1Jo2PWVi+Pe/YehQ6N8fRo2CUtbHwpQgpUq5ea/jJUmISBlcghinqm8DqOpWVT2kqr8BL+Cqk8BdCdQL2zwZ2JxL+XagqoiUzlZ+xL788irAzvycoIlDo0a53ku9e8OYMW5CFmNKmvPOg4yMwOe9jqZ3kwCjgdWq+kRYefiEwb2BL/3rKUA/3zOpAdAIWAwsARr5nkxlcY3bU1RVgblAH7/9QGBy2L5Cd0v1Aeb49U2iGjvW3f/QvTuMH++mHzWmJAqNZrxgQaBhRDN96bnAFcAKEVnuy+7B9U5KwVX/rAf+BKCqK0VkIrAK1zPqRlU9BCAiNwHTgSTgJVVd6fd3NzBeRIYDy3BJCf/8qohk4K4g+h3DuZpYN2ECXHWVG8l10iQoWzboiIwJztlnQ7ly8OmncOmlgYUhifbDPDU1VdPT04MOw+TXpEluDKa2bWHqVKhQIeiIjAle6Grik0+K/FAislRVU7OXW2ugCd7kydCvH7Ru7cZksgRhjNO2LaSnw759gYVgScIE6/33oW9faNHCXUFUqhR0RMbEjrZt3ajHn30WWAiWJExwpk93da1Nm7rXlSsHHZExseWcc9xzgI3XliRMMGbPdhMFnXkmzJwJVasGHZExseekk6BBA9d4HRBLEqb4ffgh/P73brTLWbPcnaXGmMjatnVJIqBORpYkTPGaPx8uvthN0Th7NtSoEXRExsS2c85xN9Rt3BjI4S1JmOKzcCF06wZ167oEUatW0BEZE/vatnXPAVU5WZIwxSM9Hbp0gRNPhDlzoHbtvLcxxriOHRUqWJIwCWzZMrjoItf2MGeOu5IwxkSndGlISwush5MlCVO0vvgCLrzQdW+dOxdOPjnoiIyJP+ecA8uXw88/F/uhLUmYorNyJXTqBMcd564g6tcPOiJj4lNaGhw65BJFMbMkYYrGV1+5BFGmjLuCOO20oCMyJn6l+ZkYliwp9kNbkjCFb80aN5IruCuIRo2CjceYeFe7NiQnw+LFxX7oaIYKNyZ6337rEsSBAzBvHpxxRtARGZMYWrUKJEnYlYQpPOvXwwUXuMa1WbPcPL3GmMKRluZmqttZvJNzWpIwhWPDBncF8cMPbiym5s2DjsiYxBJqlyjm+XKimb60nojMFZHVIrJSRG715SeIyEwRWeOfq/lyEZERIpIhIl+ISIuwfQ30668RkYFh5S1FZIXfZoSfMjXHY5gYs2GDu4LYudMliBYt8t7GGJM/LVu652KucormSuIgcIeqngm0AW4UkcbAEGC2qjYCZvv3AN1w81o3AgYDI8F94QPDgNZAGjAs7Et/pF83tF1XX57TMUysCE8Qs2ZB6lETWxljCkOVKq6Nr5h7OOWZJFR1i6p+5l/vBVYDdYGewBi/2higl3/dExirzkKgqojUBroAM1V1p6ruAmYCXf2yyqq6QN1cqmOz7SvSMUws2LjREoQxxSktDRYtKtYRYfPVJiEi9YGzgUXAiaq6BVwiAUKjtdUFNoVtlunLcivPjFBOLsfIHtdgEUkXkfSsrKz8nJIpqI0boUMHSxDGFKdWrWDrVsjMzHvdQhJ1khCRisAk4DZV/SG3VSOUaQHKo6aqo1Q1VVVTa9asmZ9NTUGEJ4iZMy1BGFNcAripLqokISJlcAlinKq+7Yu3+qoi/PM2X54J1AvbPBnYnEd5coTy3I5hgpI9QbRqFXRExpQczZu7UQyKsfE6mt5NAowGVqvqE2GLpgChHkoDgclh5QN8L6c2wB5fVTQd6Cwi1XyDdWdgul+2V0Ta+GMNyLavSMcwQQhvg7AEYUzxK1fOJYpiTBLR3HF9LnAFsEJEQqNL3QM8CkwUkUHARqCvX/YB0B3IAH4GrgJQ1Z0i8jAQuk56SFVDd4VcD7wCHAdM9Q9yOYYpbqEEsWMHzJhhCcKYoKSmwhtvuMZriVRbX7hEA5o3taikpqZqejHfbJLwsieIUL2oMab4vfACDB4Ma9fCqacW2m5FZKmqHtXAaHdcm9xt2mQJwphYErpZ9bPPiuVwliRMzjZtco3U27dbgjAmVpx1lputzpKECVR4gpg50xKEMbGiXDmXKCxJmMBYgjAmtrVo4ZJEMbQpW5IwR1q/Htq3twRhTCw7+2zIyoLNm/Ne9xhZkjD/tXatSxC7d8Ps2ZYgjIlVxdh4bUnCOF9/7RLEzz+7KUdtqA1jYlfz5u4eiWJIEjZ9qYFVq6BTJzh0CObOhaZNg47IGJObChXcsOF2JWGK3IoVrpEa3JzUliCMiQ+hxusiZkmiJFu2zN0oV7YsfPghNG4cdETGmGi1aOGGDN9WtOOeWpIoqZYscXNSV6jgEsTvfhd0RMYUqnfffZdrr72Wnj17MmPGjKDDKXyhxutly4r0MJYkSqIFC+DCC6FqVZcgTjst6IiMKXS9evXihRde4JVXXmHChAlRbTNt2jROP/10GjZsyKOPPhpxnfr169O0aVNSUlJI9R08fv31V9LS0mjevDlNmjRh2LBhhXYeOUpJcc9FnCSs4bqkmT8funWDE090jdT16uW9jTFx6NChQyQlJTF8+HBuvPHGqNa/8cYbmTlzJsnJybRq1YoePXrQOEI17Ny5c6lRo8bh9+XKlWPOnDlUrFiRAwcO0K5dO7p160abNm0K9ZyOULWqG+CviNslLEmUJPPmwcUXu8QwezbUrZvnJsbEk759+1KvXj2WLVtGx44d+fHHH+nWrRstQlUzuVi8eDENGzbkVD+yar9+/Zg8eXLEJJGdiFCxYkUADhw4wIEDB5BiGMabFi1g6dIiPYRVN5UUM2ZA9+5Qv75LFpYgTAJasWIFFStWZO7cuVSpUoVZs2bx1ltv8dxzzx1ep3v37myOcKfyd999R72wK+vk5GS+++67o9YTETp37kzLli0ZNWrU4fJDhw6RkpJCrVq1uOiii2jdunUhn10EKSnw7bfwQ24zSh8bu5IoCd5+G/r1c72XZsyAWrWCjsiYQvfrr7+yc+dO7r//fgBuueUWbrnllqPW++CDDyJuH2lunUhXA5988gl16tRh27ZtXHTRRZxxxhm0b9+epKQkli9fzu7du+nduzdffvklZ5111jGeVR6aN3fPK1bAuecWySGimb70JRHZJiJfhpU9ICLfichy/+getmyoiGSIyNci0iWsvKsvyxCRIWHlDURkkYisEZEJIlLWl5fz7zP88vqFddIlyquvwmWXuTuo5861BGES1sqVK2ndujWlSxfst29ycjKbNm06/D4zM5M6deoctV6orFatWvTu3ZvF2aYSrVq1Kh06dGDatGkFiiNfQkniiy+K7BDRVDe9AnSNUP6kqqb4xwcAItIY6Ac08ds8KyJJIpIEPAN0AxoD/f26AP/w+2oE7AIG+fJBwC5VbQg86dcz+TFyJAwYAOef764gqlULOiJjisyKFSto1qxZgbdv1aoVa9asYd26dezfv5/x48fTo0ePI9b56aef2Lt37+HXM2bM4KyzziIrK4vdu3cD8MsvvzBr1izOOOOMgp9MtJKT3f/rzz8vskPkmSRU9SNgZ17reT2B8aq6T1XX4ea5TvOPDFX9VlX3A+OBnuKu5ToCb/ntxwC9wvY1xr9+C+gkxdISlCAeewxuuAF+/3t4/33wjWrGJKpok0RObRKlS5fm6aefpkuXLpx55plcdtllNGnS5Ihttm7dSrt27WjevDlpaWlcfPHFdO3alS1btnDBBRfQrFkzWrVqxUUXXcQll1xS6Od4FBFo1qxIk0RUc1z7qp73VPUs//4B4ErgByAduENVd4nI08BCVX3NrzcamOp301VVr/HlVwCtgQf8+g19eT1gqqqe5au3uqpqpl+2FmitqtsjxDcYGAxw8sknt9ywYUO+P4iEoQr33w/Dh8Pll7vqpjJlgo7KGFNUbr0VRo92jdelCt4XqbDnuB4JnAakAFuAx0PHibCuFqA8t30dXag6SlVTVTW1Zs2aucWd2H77DW67zSWIQYNg3DhLEMYkuubN4aefXC+nIlCgJKGqW1X1kKr+BryAq04CyATC785KBjbnUr4dqCoipbOVH7Evv7wK0Vd7lTyHDsG118KIES5RvPACJCUFHZUxpqiFqtiKqMqpQElCRGqHve0NhHo+TQH6+Z5JDYBGwGJgCdDI92Qqi2vcnqKurmsu0MdvPxCYHLavgf51H2CORlM3VhLt3w9/+AO89JKranriCVdXaYxJfE2auGqmIurhlGdfMRF5A+gA1BCRTGAY0EFEUnDVP+uBPwGo6koRmQisAg4CN6rqIb+fm4DpQBLwkqqu9Ie4GxgvIsOBZcBoXz4aeFVEMnBXEP2O+WwT0U8/QZ8+MG2aa6y+886gIzLGFKfjjoPTTy+yK4moGq7jSWpqqqanpwcdRvHYscMNs7FkCTz/PFxzTdARGWOC0K8fLFoE69YVeBeF3XBtgrZpE5x3HixfDpMmWYIwpiRr3hzWr4c9ewp915Yk4tHq1dC2LXz3HUyfDr165b2NMSZxhQ/PUchs7KZ4s2iRG6ivTBk3F0RoTHljTMnVooW7ebYIRlWwJBFPpk+HSy+F2rXdMBt+SGNjTAl30knwzDNFsmurbooXr78Ol1ziphmdP98ShDGmWFiSiHWq8K9/wR//CO3aubkgTjop6KiMMSWEJYlYdugQ3Hwz3HUX9O0LU6dClSpBR2WMKUEsScSqn36C3r1dPeNdd8H48VC+fNBRGWNKGGu4jkXff++G+P7sM5ckbrgh6IiMMSWUJYlYs3q16+K6bRu8+65LFsYYExBLErHko4/cjXFly7p7IFKPukPeGGOKlbVJxIqXX4YLL4QTT4SFCy1BGGNigiWJoB06BHfcAVdf7eai/vRTqF8/6KiMMQawJBGsPXugRw83/8PNN7surkVwW70xxhSUtUkEZe1a1yi9Zg089xz86U9BR2SMMUfJ80pCRF4SkW0i8mVY2QkiMlNE1vjnar5cRGSEiGSIyBci0iJsm4F+/TUiMjCsvKWIrPDbjBBxU6rldIyEMG8epKXB1q1uDCZLEMaYGBVNddMrQNdsZUOA2araCJjt3wN0w01Z2ggYDIwE94WPm9GuNW4+7GFhX/oj/bqh7brmcYz4pQpPPvnfBurFi+GCC4KOyhhjcpRnklDVj3DTh4brCYzxr8cAvcLKx6qzEKjq58PuAsxU1Z2quguYCXT1yyqr6gI/f/XYbPuKdIz49OOPbvao22937RALFsBppwUdlTHG5KqgDdcnquoWAP9cy5fXBTaFrZfpy3Irz4xQntsxjiIig0UkXUTSs7KyCnhKReirr1z10ltvwT/+4WaSszGYjDFxoLB7N0mEMi1Aeb6o6ihVTVXV1Jo1a+Z386I1aRK0agXbt8PMmfCXv4BEOm1jjIk9BU0SW31VEf55my/PBOqFrZcMbM6jPDlCeW7HiA/79sGf/wx9+kCTJrB0KXTsGHRUxhiTLwVNElOAUA+lgcDksPIBvpdTG2CPryqaDnQWkWq+wbozMN0v2ysibXyvpgHZ9hXpGLHvm2/gnHPgqafgppvcEBv16uW9nTHGxJg875MQkTeADkANEcnE9VJ6FJgoIoOAjUBfv/oHQHcgA/gZuApAVXeKyMPAEr/eQ6oaagy/HteD6jhgqn+QyzFilyqMGeMSQ/nyMGWKDdBnjIlr4joVJY7U1FRNT08v/gPv2QPXXw9vvAEdOsBrr0HdunluZowxsUBElqrqUYPG2bAchWHGDDjrLJg4EYYPh1mzLEEYYxKCJYljsXcvXHcddOkCFSu6wfn++ldISgo6MmOMKRSWJApqzhxo2hRGjYI774Rly9y9EMYYk0AsSeTX1q1wxRXQqZObHGj+fHjsMZt/2hiTkCxJROu33+D55+GMM2DCBFet9Pnn0LZt0JEZY0yRsaHCo/Hpp27MpUWLXM+lkSNdsjDGmARnVxK5yciAvn3h3HNh40YYO9a1RViCMMaUEHYlEcnmzW4gvpEjXbvDgw+6KUYrVAg6MmOMKVaWJMJt2uSSw4svwsGDcNVV8NBDULt20JEZY0wgLEmEPPywe6jClVfC0KFw6qlBR2WMMYGyJBFSvz4MGgRDhsAppwQdjTHGxARLEiFXXOEexhhjDrPeTcYYY3JkScIYY0yOLEkYY4zJkSUJY4wxOTqmJCEi60VkhYgsF5F0X3aCiMwUkTX+uZovFxEZISIZIvKFiLQI289Av/4aERkYVt7S7z/DbyvHEq8xxpj8KYwriQtUNSVsRqMhwGxVbQTM9u8BugGN/GMwMBJcUsFNidoaSAOGhRKLX2dw2HZdCyFeY4wxUSqK6qaewBj/egzQK6x8rDoLgaoiUhvoAsxU1Z2quguYCXT1yyqr6gJ1c6yODduXMcaYYnCsSUKBGSKyVEQG+7ITVXULgH+u5cvrApvCts30ZbmVZ0YoP4qIDBaRdBFJz8rKOsZTMsYYE3KsN9Odq6qbRaQWMFNEvspl3UjtCVqA8qMLVUcBowBEJEtENuQedtypAWwPOohiUBLO084xcSTaeUYcauKYkoSqbvbP20TkHVybwlYRqa2qW3yV0Ta/eiZQL2zzZGCzL++QrXyeL0+OsH5eMdUs0MnEMBFJD2vzSVgl4TztHBNHSTnPAlc3iUgFEakUeg10Br4EpgChHkoDgcn+9RRggO/l1AbY46ujpgOdRaSab7DuDEz3y/aKSBvfq2lA2L6MMcYUg2O5kjgReMf3Si0NvK6q00RkCTBRRAYBG4G+fv0PgO5ABvAzcBWAqu4UkYeBJX69h1R1p399PfAKcBww1T+MMcYUE3Edh0wsE5HBvt0loZWE87RzTBwl5jwtSRhjjMmJDcthjDEmR5YkjDHG5MiSREBE5CUR2SYiX4aVFdq4V7FAROqJyFwRWS0iK0XkVl+eMOcpIuVFZLGIfO7P8UFf3kBEFvl4J4hIWV9ezr/P8Mvrh+1rqC//WkS6BHNGORORJBFZJiLv+feJeI5FOh5dXFJVewTwANoDLYAvw8r+CQzxr4cA//Cvu+N6dgnQBljky08AvvXP1fzrakGfW9j51AZa+NeVgG+Axol0nj7Wiv51GWCRj30i0M+XPwdc71/fADznX/cDJvjXjYHPgXJAA2AtkBT0+WU719uB14H3/PtEPMf1QI1sZQnz91qgzyToAEryA6ifLUl8DdT2r2sDX/vXzwP9s68H9AeeDys/Yr1Ye+Duc7koUc8TOB74DDdY5XagtC8/B3fvD7j7gs7xr0v79QQYCgwN29fh9WLhgbuZdTbQEXjPx5xQ5+hjipQkEvLvNdqHVTfFlsIa9yrm+CqHs3G/tBPqPH01zHLc6AIzcb+Qd6vqQb9KeLyHz8Uv3wNUJ8bPEXgK+Avwm39fncQ7Ryja8eji0rGO3WSKxzGPbxUkEakITAJuU9UfJOdpQeLyPFX1EJAiIlWBd4AzI63mn+PuHEXkEmCbqi4VkQ6h4girxu05hinK8ejikl1JxJat4sa7QqIf9ypSecwQkTK4BDFOVd/2xQl3ngCquhs37lgb3FD4oR9h4fEePhe/vAqwk9g+x3OBHiKyHhiPq3J6isQ6R+DI8ehwCf/weHSQWH+v0bIkEVsKZdyr4g46J+IuGUYDq1X1ibBFCXOeIlLTX0EgIscBFwKrgblAH79a9nMMnXsfYI66iuspQD/fM6gBbpKtxcVzFrlT1aGqmqyq9XEN0XNU9Y8k0DlC0Y9HV4ynUriCbhQpqQ/gDWALcAD3y2MQrt52NrDGP5/g1xXgGVxd9wogNWw/V+PGw8oArgr6vLKdYzvcZfYXwHL/6J5I5wk0A5b5c/wSuN+Xn4r7AswA3gTK+fLy/n2GX35q2L7+6s/9a6Bb0OeWw/l24L+9mxLqHP35fO4fK4G/+vKE+XstyMOG5TDGGJMjq24yxhiTI0sSxhhjcmRJwhhjTI4sSRhjjMmRJQljjDE5siRhjDEmR5YkjDHG5Oj/AThYx939T/YFAAAAAElFTkSuQmCC\n",
          "text/plain": "<Figure size 432x288 with 1 Axes>"
         },
         "metadata": {
          "needs_background": "light"
         },
         "output_type": "display_data"
        }
       ]
      }
     },
     "1257b28aa2144de3aa45990d8fb71219": {
      "model_module": "@jupyter-widgets/controls",
      "model_module_version": "1.5.0",
      "model_name": "IntSliderModel",
      "state": {
       "continuous_update": false,
       "description": "Grado:",
       "layout": "IPY_MODEL_6ddffda1f09641579ee06aa4c2b77eab",
       "max": 30,
       "min": 1,
       "style": "IPY_MODEL_7abdf6affec64f51b696cd3cf0633055",
       "value": 2
      }
     },
     "137606ce6e2c4469a74897f0aeaef053": {
      "model_module": "@jupyter-widgets/output",
      "model_module_version": "1.0.0",
      "model_name": "OutputModel",
      "state": {
       "layout": "IPY_MODEL_c5d35b7dcf74476cac0a62808e8f4f7a",
       "outputs": [
        {
         "data": {
          "image/png": "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\n",
          "text/plain": "<Figure size 432x288 with 1 Axes>"
         },
         "metadata": {
          "needs_background": "light"
         },
         "output_type": "display_data"
        }
       ]
      }
     },
     "13d2d51a3dbd4cd7ba54198b5007303c": {
      "model_module": "@jupyter-widgets/controls",
      "model_module_version": "1.5.0",
      "model_name": "SliderStyleModel",
      "state": {
       "description_width": ""
      }
     },
     "14ae9c100f3a4f519315789c9762ae0d": {
      "model_module": "@jupyter-widgets/controls",
      "model_module_version": "1.5.0",
      "model_name": "SliderStyleModel",
      "state": {
       "description_width": ""
      }
     },
     "14faac62d2d74ac7bd542f3d15168204": {
      "model_module": "@jupyter-widgets/controls",
      "model_module_version": "1.5.0",
      "model_name": "VBoxModel",
      "state": {
       "_dom_classes": [
        "widget-interact"
       ],
       "children": [
        "IPY_MODEL_e09af01497fa40bc819ecdb7d125416f",
        "IPY_MODEL_7eb023267aae42bab5b26d47d1c16b2b",
        "IPY_MODEL_63ce405b0936442b912425e9ffdd15bf"
       ],
       "layout": "IPY_MODEL_540ad7ac2205494d80c5be2f94a82aec"
      }
     },
     "15d0c96603334802b2840a8256699f34": {
      "model_module": "@jupyter-widgets/controls",
      "model_module_version": "1.5.0",
      "model_name": "ButtonStyleModel",
      "state": {}
     },
     "182b3306a41648eea7cba278f9da51ba": {
      "model_module": "@jupyter-widgets/output",
      "model_module_version": "1.0.0",
      "model_name": "OutputModel",
      "state": {
       "layout": "IPY_MODEL_e8f456e9b783408bb4d81c8e61a3124f",
       "outputs": [
        {
         "data": {
          "image/png": "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\n",
          "text/plain": "<Figure size 432x288 with 1 Axes>"
         },
         "metadata": {
          "needs_background": "light"
         },
         "output_type": "display_data"
        }
       ]
      }
     },
     "1e9d6ab5bba54f4ba7cc52aaba2efbcf": {
      "model_module": "@jupyter-widgets/controls",
      "model_module_version": "1.5.0",
      "model_name": "IntSliderModel",
      "state": {
       "continuous_update": false,
       "description": "Grado:",
       "layout": "IPY_MODEL_fceb9fdf106e4ef0b7de148b5fad1085",
       "max": 30,
       "min": 1,
       "style": "IPY_MODEL_13d2d51a3dbd4cd7ba54198b5007303c",
       "value": 5
      }
     },
     "206d2742ba464759a75f0ac6dc32538f": {
      "model_module": "@jupyter-widgets/base",
      "model_module_version": "1.2.0",
      "model_name": "LayoutModel",
      "state": {}
     },
     "224732ca1c2e48aaac30711ff7ad8cc1": {
      "model_module": "@jupyter-widgets/controls",
      "model_module_version": "1.5.0",
      "model_name": "ButtonStyleModel",
      "state": {}
     },
     "240fa682ebf749659e9e4c32d51d19f5": {
      "model_module": "@jupyter-widgets/controls",
      "model_module_version": "1.5.0",
      "model_name": "SliderStyleModel",
      "state": {
       "description_width": ""
      }
     },
     "27cc39a3042441c1b638ee85d10550f8": {
      "model_module": "@jupyter-widgets/output",
      "model_module_version": "1.0.0",
      "model_name": "OutputModel",
      "state": {
       "layout": "IPY_MODEL_ee067f6e094c45198115d9556bd25207"
      }
     },
     "2ca3fb86080844289c60882ad36b16bd": {
      "model_module": "@jupyter-widgets/controls",
      "model_module_version": "1.5.0",
      "model_name": "ButtonStyleModel",
      "state": {}
     },
     "2e8c301868234db9b2011f0bd92e415a": {
      "model_module": "@jupyter-widgets/controls",
      "model_module_version": "1.5.0",
      "model_name": "ButtonStyleModel",
      "state": {}
     },
     "308c4d5405394aa586b5039e35ef7ac2": {
      "model_module": "@jupyter-widgets/base",
      "model_module_version": "1.2.0",
      "model_name": "LayoutModel",
      "state": {}
     },
     "309d0c3b192f450f806e9ebc935fc040": {
      "model_module": "@jupyter-widgets/base",
      "model_module_version": "1.2.0",
      "model_name": "LayoutModel",
      "state": {}
     },
     "383e52cf02754426859b562f74be8a30": {
      "model_module": "@jupyter-widgets/controls",
      "model_module_version": "1.5.0",
      "model_name": "IntSliderModel",
      "state": {
       "continuous_update": false,
       "description": "Grado:",
       "layout": "IPY_MODEL_e3e5b6057bfc4c00ac9b2438ae704734",
       "max": 30,
       "min": 1,
       "style": "IPY_MODEL_9b14f30e50134d9db1e0ea4936b80f4e",
       "value": 5
      }
     },
     "399563e23e5c4c559167c3044e9ada36": {
      "model_module": "@jupyter-widgets/base",
      "model_module_version": "1.2.0",
      "model_name": "LayoutModel",
      "state": {}
     },
     "3a163b7fcc1b4bc0add8acb9ca36d589": {
      "model_module": "@jupyter-widgets/controls",
      "model_module_version": "1.5.0",
      "model_name": "VBoxModel",
      "state": {
       "_dom_classes": [
        "widget-interact"
       ],
       "children": [
        "IPY_MODEL_1e9d6ab5bba54f4ba7cc52aaba2efbcf",
        "IPY_MODEL_edda74c7abab4b6dbb43fa9308980fc9",
        "IPY_MODEL_426e64b9b1364997be5f1a6fdc084823"
       ],
       "layout": "IPY_MODEL_c3b249cc675e4ec99884f785323d0f64"
      }
     },
     "426e64b9b1364997be5f1a6fdc084823": {
      "model_module": "@jupyter-widgets/output",
      "model_module_version": "1.0.0",
      "model_name": "OutputModel",
      "state": {
       "layout": "IPY_MODEL_66e29a45c3d445279e4100f2ca2c7602",
       "outputs": [
        {
         "data": {
          "image/png": "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\n",
          "text/plain": "<Figure size 432x288 with 1 Axes>"
         },
         "metadata": {
          "needs_background": "light"
         },
         "output_type": "display_data"
        }
       ]
      }
     },
     "43578f492c144ee3a0b01d9238682f97": {
      "model_module": "@jupyter-widgets/base",
      "model_module_version": "1.2.0",
      "model_name": "LayoutModel",
      "state": {}
     },
     "48aadb7aa71f4a3e8156f0044e7755a3": {
      "model_module": "@jupyter-widgets/base",
      "model_module_version": "1.2.0",
      "model_name": "LayoutModel",
      "state": {}
     },
     "4e4533400c934eb49d17c8eb5d6cec53": {
      "model_module": "@jupyter-widgets/controls",
      "model_module_version": "1.5.0",
      "model_name": "ButtonStyleModel",
      "state": {}
     },
     "4f845c59e2204d7eb382f12b1bdff503": {
      "model_module": "@jupyter-widgets/controls",
      "model_module_version": "1.5.0",
      "model_name": "ButtonModel",
      "state": {
       "description": "Run Interact",
       "layout": "IPY_MODEL_f51ff6a34c894009a47a7b67ac34c413",
       "style": "IPY_MODEL_d2a4be8fd45a4e1495d72d3e775ddd20"
      }
     },
     "5142a0b9e33941c88635f94699a275cf": {
      "model_module": "@jupyter-widgets/controls",
      "model_module_version": "1.5.0",
      "model_name": "ButtonModel",
      "state": {
       "description": "Run Interact",
       "layout": "IPY_MODEL_66804846c92747f9b534474cd1fede34",
       "style": "IPY_MODEL_4e4533400c934eb49d17c8eb5d6cec53"
      }
     },
     "52256b8896f64e5eb36c5297baaae465": {
      "model_module": "@jupyter-widgets/base",
      "model_module_version": "1.2.0",
      "model_name": "LayoutModel",
      "state": {}
     },
     "540ad7ac2205494d80c5be2f94a82aec": {
      "model_module": "@jupyter-widgets/base",
      "model_module_version": "1.2.0",
      "model_name": "LayoutModel",
      "state": {}
     },
     "585133e75b08445dbc6668d47fc30370": {
      "model_module": "@jupyter-widgets/base",
      "model_module_version": "1.2.0",
      "model_name": "LayoutModel",
      "state": {}
     },
     "5b55d7ffc0884c83bcd646537affa7b0": {
      "model_module": "@jupyter-widgets/controls",
      "model_module_version": "1.5.0",
      "model_name": "IntSliderModel",
      "state": {
       "continuous_update": false,
       "description": "Grado:",
       "layout": "IPY_MODEL_b08f6c33ffab438a88fdb56c5a3e782d",
       "max": 30,
       "min": 1,
       "style": "IPY_MODEL_9e9608bc9ead4c92b5a3b2b170e0d559",
       "value": 5
      }
     },
     "636b4ce14d644a30824cd6ba1fe9055b": {
      "model_module": "@jupyter-widgets/output",
      "model_module_version": "1.0.0",
      "model_name": "OutputModel",
      "state": {
       "layout": "IPY_MODEL_99c68dfbf1f4488f85d09ca19b2b4629",
       "outputs": [
        {
         "data": {
          "image/png": "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\n",
          "text/plain": "<Figure size 432x288 with 1 Axes>"
         },
         "metadata": {
          "needs_background": "light"
         },
         "output_type": "display_data"
        }
       ]
      }
     },
     "636fa82a825a4303bec5c23619bc6cd1": {
      "model_module": "@jupyter-widgets/controls",
      "model_module_version": "1.5.0",
      "model_name": "SliderStyleModel",
      "state": {
       "description_width": ""
      }
     },
     "63ce405b0936442b912425e9ffdd15bf": {
      "model_module": "@jupyter-widgets/output",
      "model_module_version": "1.0.0",
      "model_name": "OutputModel",
      "state": {
       "layout": "IPY_MODEL_dee31f5e55164e20861eda2960badc44",
       "outputs": [
        {
         "data": {
          "image/png": "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\n",
          "text/plain": "<Figure size 432x288 with 1 Axes>"
         },
         "metadata": {
          "needs_background": "light"
         },
         "output_type": "display_data"
        }
       ]
      }
     },
     "65e5ae13cbb64014960db42f1e0b697d": {
      "model_module": "@jupyter-widgets/base",
      "model_module_version": "1.2.0",
      "model_name": "LayoutModel",
      "state": {}
     },
     "66804846c92747f9b534474cd1fede34": {
      "model_module": "@jupyter-widgets/base",
      "model_module_version": "1.2.0",
      "model_name": "LayoutModel",
      "state": {}
     },
     "66e29a45c3d445279e4100f2ca2c7602": {
      "model_module": "@jupyter-widgets/base",
      "model_module_version": "1.2.0",
      "model_name": "LayoutModel",
      "state": {}
     },
     "67c2c482c93c4e6582f24e8c995ad103": {
      "model_module": "@jupyter-widgets/controls",
      "model_module_version": "1.5.0",
      "model_name": "VBoxModel",
      "state": {
       "_dom_classes": [
        "widget-interact"
       ],
       "children": [
        "IPY_MODEL_b0c180d6b37d4660a48a0ad95b4cde21",
        "IPY_MODEL_a866f95ae615443ea8e6203d36816696",
        "IPY_MODEL_ad1547e4c3a74d47bd84d9c7e71114ca"
       ],
       "layout": "IPY_MODEL_9d4d75e0cf7b4d219f649b6b9e095d21"
      }
     },
     "6ddffda1f09641579ee06aa4c2b77eab": {
      "model_module": "@jupyter-widgets/base",
      "model_module_version": "1.2.0",
      "model_name": "LayoutModel",
      "state": {}
     },
     "6e63fa0b4b06476aafd0359f1303336f": {
      "model_module": "@jupyter-widgets/output",
      "model_module_version": "1.0.0",
      "model_name": "OutputModel",
      "state": {
       "layout": "IPY_MODEL_ccef0b908b2c4441b3ef5405d8effe1c",
       "outputs": [
        {
         "data": {
          "image/png": "iVBORw0KGgoAAAANSUhEUgAAAYkAAAEICAYAAACqMQjAAAAABHNCSVQICAgIfAhkiAAAAAlwSFlzAAALEgAACxIB0t1+/AAAADh0RVh0U29mdHdhcmUAbWF0cGxvdGxpYiB2ZXJzaW9uMy4xLjEsIGh0dHA6Ly9tYXRwbG90bGliLm9yZy8QZhcZAAAgAElEQVR4nO3deXgUVdbA4d9hFwRBRGVTVhWCJEAIiIoIyqYD4qDC+Akqiusoo6OCjoLrOOOMC6OiOC6gKKDIMm7sDOIgEAQBUSRsEkEIqwjIer4/7m1sQifphCTV6Zz3efrp7lu3qk51oE/XvVX3iqpijDHGRFIi6ACMMcbELksSxhhjsmRJwhhjTJYsSRhjjMmSJQljjDFZsiRhjDEmS5YkTIESkToioiJSKoq614vInMKIK9N+VUQa+NeviMjDAcQQ9X5FZJaI3BRl3XYikn580RWMWI7N/CbH/7im+BCRtUANoIaqbgkrXwwkAnVVdW0w0RUOVb21OO23qBKRt4A/APvDik9S1UPBRBS/7EzCZLYG6B16IyLnAicEF44pCqI5UywAf1fVE8MeliAKgCUJk9nbQJ+w932BkeEVROQkERkpIhkisk5E/iIiJfyykiLyDxHZIiKrgcsirPu6iGwUkR9F5AkRKRkpEBFpIyILRGSnf26TVdAislZEBonIchHZLiJviki5sOU3i0iaiGwTkUkiUiOL7bwlIk/41+1EJF1E7hWRzT7mG6L8HK4XkS9E5DkR2SEiq/3xXC8i6/32+max3yoi8pHf7nb/ulZWx54p/hP8traLyHKgZablNURknN/2GhG5K5ttVRWR/4jIz/7zfyK8OdA3090hIiuBlb7sBX98P4vIQhG5MBexNfJNaTtE5BsR6RbNMZuCZUnCZPYlUMn/hy0JXAO8k6nOv4CTgHrARbikEvryvBm4HGgGJAM9M607AjgINPB1OgLHtK+LyMnAx8BQoCrwLPCxiFTNJvZrgU5AfeAs4C9+W+2BvwJXA9WBdcDobLYT7nR/rDWBfsBLIlLFL8vucwBoBSzx8b/r99nSH/v/AS+KyIkR9lkCeBM4EzgD2Au8GGW8g3HHXx/3WYQnohLAf4Cv/fF0AAaISKcstvUSsNt/Bn3DtxXmCn+cjf37BUAScDLumN8PS9bZxVbaxzYFOBX4IzBKRM7O5lhv90l/oYj8Ppt65nioqj3sgaoCrAUuwX25/hXoDEzF9V0pUAcoCewDGoetdwswy7+eAdwatqyjX7cUcJpf94Sw5b2Bmf719cAc//o6YH6m+OYC12cTe/h+uwKr/OvXcU0ToWUnAgeAOv69Ag3867eAJ/zrdrgv6FJh624GWkfxOVwPrAxbdq7fz2lhZVuBpMz7jXBsScD2sPezgJuyqLsa6Bz2vj+Q7l+3An7IVH8Q8GaE7ZT0n9HZYWVPhP4+YZ9b+xz+TW0HEqOI7ULgJ6BE2PL3gCFZbLc5LvmW8n/rXcD5Qf8fiseHdVybSN4GZgN1ydTUBJwClMH9Gg9Zh/tlCq7je32mZSFnAqWBjSISKiuRqX5IjUzrZt5PJJn3G2pSqgF8FVqgqr+IyFa/rbXZbA9gq6oeDHu/B5dkcvocADaFvd7r95257JgzCREpDzyHS9Khs5aKIlJSc253z+nzryEiO8LKSgKfR9hONdwXcPi2Iv2djioTkXtxZ4Y1cEmkEu6zyim2GsB6VT2caXnEv7eqfhX29hMRGQVcCXwRqb7JO2tuMsdQ1XW4DuyuwIeZFm/B/cI8M6zsDOBH/3ojUDvTspD1uF/fp6hqZf+opKoJEcLYkGkfmfcTSeb9boi0LRGpgPsVmt22cpLT53A87gXOBlqpaiWgrS+XrFc5IqfPf03YZ19ZVSuqatcI28nANQuG94XUjlDvyDDSvv/hAVyzXhVVrQzsDIs7u9g2ALVDfTphy6P9PJXoPh+TS5YkTFb64ZoSdocX+l+yY4EnRaSiiJwJ3MNv/RZjgbtEpJZvux8Ytu5GXJvzP0WkkoiUEJH6InJRhP1/ApwlIn8QkVIicg2u3fujbGK+w+/3ZOBBYIwvfxe4QUSSRKQs8BQwT4/jct4oPofjURF3lrHDH8vgXKw7FhjkO79r4dr2Q+YDP4vIA74TuaSINBGRlpk34o/vQ2CIiJQXkXM4+oKGrOI+iEswpUTkEdyZRDSxzcP1f9wvIqVFpB3wO7LoOxKRniJyov831BHXxzMph/hMHliSMBGp6ipVTc1i8R9x/6FXA3NwX8Jv+GWvAZNxnaNfceyZSB9cM81yXHv1B7jO5Mz734rrAL8X13Z/P3C5ht2/EcG7uCS02j+e8NuaDjwMjMP9mq0P9MpmO9HK7nM4Hs/jLjvegruQ4LNcrPsorplmDe6zeDu0wH/x/w7Xx7HGb//fuM73SO70y37y23kPdyaYlcnAp8D3PoZfObp5KbvY9gPdgC4+rpeBPqr6XRb7uht3lrEDeAa4WVVnZRObySPxnUDGFGnibgS8SVWnBR1LvBKRvwGnq2qkq5xMnLIzCWNMRCJyjog0FScF1wQ5Pui4TOGyq5uMMVmpiGtiqoG79PefwMRAIzKFzpqbjDHGZMmam4wxxmQp7pqbTjnlFK1Tp07QYRhjTJGycOHCLapaLXN53CWJOnXqkJqa1ZWbxhhjIhGRzCMcANbcZIwxJhuWJIwxxmTJkoQxxpgsxV2fRCQHDhwgPT2dX3/9NehQYlK5cuWoVasWpUuXDjoUY0yMKRZJIj09nYoVK1KnTh3Chqg2uPlEtm7dSnp6OnXr1g06HGNMjCkWzU2//vorVatWtQQRgYhQtWpVO8syxkRULJIEYAkiG/bZGGOyUiyam4wxMU4VfvoJ1q6FdesgIwP27IG9e6FcOTjxRDj5ZKhfHxo0gKrZTXVu8pMliSIodMPgKaecclx1jAnMgQPwv//B9Okwfz6kpsLWrdGvX6sWXHABXHQRdO8O1Y+ZksTkE0sSxpjCsXcvTJwIH3wAU6fCzz9DiRLQpAlccQUkJUG9enDmmXDaaVC+vDuL2LcPdu2CLVtg1Sr4/nuXVD7/HEaPhttvdwmjXz+45hq3jsk3liQKydq1a+ncuTMXXHABX375JYmJidxwww0MHjyYzZs3M2rUKBo0aMCNN97I6tWrKV++PMOHD6dp06Zs3bqV3r17k5GRQUpKCuEj977zzjsMHTqU/fv306pVK15++WVKlix51L6fffZZ3njDTZh20003MWDAgEI9dlPMzZsHr70G77/vEkONGu7LvEsX6NABKlXKfv0TTnCPU0+Fxo1/K1eF5cth3Dh49124/nq47z744x9hwACoWLFAD6u4KH5JYsAAWLw4f7eZlATPP59jtbS0NN5//32GDx9Oy5Yteffdd5kzZw6TJk3iqaeeonbt2jRr1owJEyYwY8YM+vTpw+LFi3n00Ue54IILeOSRR/j4448ZPnw4AN9++y1jxozhiy++oHTp0tx+++2MGjWKPn1+m4p44cKFvPnmm8ybNw9VpVWrVlx00UU0a9Ysfz8DY8IdPAgTJsBzz7lmpQoV4KqroE8f10RUIh+umRGBhAT3ePhh13T1wgvwyCPwr3/BX/7izjJKFb+vufxkn14hqlu3Lueeey4ACQkJdOjQARHh3HPPZe3ataxbt45x48YB0L59e7Zu3crOnTuZPXs2H37opoq+7LLLqFKlCgDTp09n4cKFtGzp5rHfu3cvp5566lH7nDNnDj169KBChQoAXHnllXz++eeWJEzBOHgQ3nkHHnsM1qxxzUdDh7pf+QX5y14ELrnEPebPhwcfhLvvhhEj3FlM8+YFt+84V/ySRBS/+AtK2bJlj7wuUaLEkfclSpTg4MGDlIrwiyd0eWqky1RVlb59+/LXv/41y33apFKmUBw+7JqTBg+GFSugRQv45z+hWzfI1PxZ4FJSXJ/HuHGu6SklxZ1dPPRQ4ccSB6I+5xORkiKySEQ+8u/fEpE1IrLYP5J8uYjIUBFJE5ElItI8bBt9RWSlf/QNK28hIkv9OkPFfyOKyMkiMtXXnyoiVfLv0GNP27ZtGTVqFACzZs3ilFNOoVKlSkeVf/rpp2zfvh2ADh068MEHH7B582YAtm3bxrp1647Z5oQJE9izZw+7d+9m/PjxXHjhhYV4VCbuffml+yLu1cs17Xz4ISxYAD16BPelLAI9e7o+i169XPLq1Ak2bQomniIsNw2DdwPfZiq7T1WT/CPU0N8FaOgf/YFh4L7wgcFAKyAFGBz2pT/M1w2t19mXDwSmq2pDYLp/H7eGDBlCamoqTZs2ZeDAgYwYMQKAwYMHM3v2bJo3b86UKVM444wzAGjcuDFPPPEEHTt2pGnTplx66aVs3LjxqG02b96c66+/npSUFFq1asVNN91kTU0mf/z0k2tGOu882LgRRo6Er792ySFWbtCsUgXefhtefx2++AKSk2Hp0qCjKlpUNccHUAv3Jd0e+MiXvQX0jFD3VaB32PsVQHWgN/Bq5np+2Xdh5Ufqhdb1r6sDK3KKtUWLFprZ8uXLjykzR7PPyETt0CHVf/1LtVIl1dKlVR94QHXXrqCjytmiRao1aqhWrKg6ZUrQ0cQcIFUjfKdGeybxPHA/cDhT+ZO+Sek5EQk1uNcE1ofVSfdl2ZWnRygHOE1VNwL456N7ZT0R6S8iqSKSmpGREeUhGWNybeVKaNfOtfW3bg3LlsHTT7s7omNdUpK7HLduXejaFcaPDzqiIiHHJCEilwObVXVhpkWDgHOAlsDJwAOhVSJsRvNQHjVVHa6qyaqaXK3aMVO0GmOO16FD8Oyz0LQpLFkCb74Jn30GZ50VdGS5U6sWzJ4NLVvC1Ve7/hOTrWjOJM4HuonIWmA00F5E3lHVjf4sZR/wJq6fAdyZQO2w9WsBG3IorxWhHGCTiFQH8M+bc3FsR1G7yidL9tmYbK1b5+5tuPded4np8uWuLyJW+h1y66STXIJLSXGJYtKkoCOKaTkmCVUdpKq1VLUO0AuYoar/F/blLcAVwDK/yiSgj7/KqTWw0zcVTQY6ikgV32HdEZjsl+0SkdZ+W32AiWHbCl0F1TesPFfKlSvH1q1b7cswAvXzSZSzoQxMJO+/D4mJ7uxh5Ej3hVqjRtBRHb9KlVyiaNHC3f09d27QEcWs47lPYpSIVMM1Fy0GbvXlnwBdgTRgD3ADgKpuE5HHgQW+3mOqus2/vg3XEX4C8Kl/ADwNjBWRfsAPwFV5CbRWrVqkp6dj/RWRhWamM+aI3bvhT39yN6K1auWGvahXL+io8lfFivDRR9CmDVx+ubsz/Oyzg44q5ki8/bpOTk7W1NTUoMMwpuhavtzdY/DddzBwIDz6KMTz1LarVrnLeCtWdAMHVonr27GyJCILVTU5c3mxmXTIGBOF9993bfXbtrm7lp96Kr4TBLg5KiZMgPXr4dprXSe9OcKShDHGjbl0332uI7dpU/jqKzdCa3HRpo0bHPDTT2HIkKCjiSmWJIwp7jIyoGNH+Mc/3Kips2bFR+d0bt16K9x4IzzxBEyZEnQ0McOShDHF2aJF7gqfuXPhrbfgpZegTJmgowqGCLz4opuzom9fN8mRsSRhTLE1caKb0Q3cuEZ9+2Zfvzg44QR3Jde2bW6muzi7sCcvLEkYU9youqalHj3c1KHz59t8C+ESE91QI5MmuYEBizlLEsYUJ/v3w803u07qnj1d/8PppwcdVey5+264+GL4859hw4ac68cxSxLGFBfbtkHnzu7X8V/+AqNHu+YVc6wSJeDVV2HfPjeYYTFmScKY4mDdOjj/fNf3MHIkPP54/swzHc8aNnSXw374YbEeCND+lRgT75YudfcBbNzobpC77rqgIyo67rnHDTF+553w889BRxMISxLGxLP//hdC09V+/jm0bRtsPEVN6dIwfLhLsE8+GXQ0gbAkYUy8GjfOzetcvbq7D+Lcc4OOqGhq2dINjf7885CWFnQ0hc6ShDHx6OWX4aqr3KWtc+aAnxfd5NFTT7mbDP/856AjKXSWJIyJJ6rw8MNwxx1u+Otp06Bq1aCjKvqqV4cHH3Q3IE6bFnQ0hcqShDHx4vBhuOsuN/ZQv37uipzy5YOOKn786U9ufuw//9l91sVE1ElCREqKyCIR+ci/rysi80RkpYiMEZEyvrysf5/ml9cJ28YgX75CRDqFlXf2ZWkiMjCsPOI+jDGZHDzoEsOLL7ppRl97DUodz5xi5hjlysFjj8HXX8MHHwQdTaHJzZnE3cC3Ye//Bjynqg2B7UA/X94P2K6qDYDnfD1EpDFu+tMEoDPwsk88JYGXgC5AY6C3r5vdPowxIfv3Q+/eboC+IUPgmWeK7vzTsa53bzcA4COPuMRcDESVJESkFnAZ8G//XoD2QCidjsDNcw3Q3b/HL+/g63cHRqvqPlVdg5veNMU/0lR1taruB0YD3XPYhzEGYO9euOIK98v2n/+EwYMtQRSkkiVdc96KFfDOO0FHUyiiPZN4HrgfCDXEVQV2qGoolaYDNf3rmsB6AL98p69/pDzTOlmVZ7cPY8yuXdClC3z2mbuW/557go6oeLjiCkhOdmdt+/YFHU2ByzFJiMjlwGZVXRheHKGq5rAsv8ojxdhfRFJFJDUjIyNSFWPiy7ZtcMkl7vLWUaPcoH2mcIi4s4l162DEiJzrF3HRnEmcD3QTkbW4pqD2uDOLyiIS6hmrBYSGSkwHagP45ScB28LLM62TVfmWbPZxFFUdrqrJqppcrVq1KA7JmCIsIwPatYPFi90VTL17Bx1R8dOxo7vJ7u9/j/u+iRyThKoOUtVaqloH1/E8Q1WvBWYCPX21vsBE/3qSf49fPkNV1Zf38lc/1QUaAvOBBUBDfyVTGb+PSX6drPZhTPG0aZMbwjotDT7+GLp1Czqi4kkEBg2CVavg/feDjqZAHc99Eg8A94hIGq7/IDQ7x+tAVV9+DzAQQFW/AcYCy4HPgDtU9ZDvc7gTmIy7emqsr5vdPowpfn76ySWINWtcgrjkkqAjKt66d4dGjdwERXE8g51onB1ccnKypqamBh2GMflr40Zo3x5++AE++QQuuijoiAy4Ydf79oWPPoLLLgs6muMiIgtVNTlzud1xbUys27DB9UGsX++uZLIEETt694Yzz4S//jXoSAqMJQljYtmPP7oEsWEDTJ7827DfJjaULu0uPf7iC1iwIOhoCoQlCWNiVXq6SxA//eQSxPnnBx2RieT666FiRXjhhaAjKRCWJIyJRT/84JqVNm+GKVPczHImNlWqBDfcAGPHur6jOGNJwphYs26dO4PYutVNN9q6ddARmZz88Y/ufolXXgk6knxnScKYWJKe7i5z3b7dJYiUlKAjMtFo0MBd3fTKK3E3VIclCWNixaZN0KGDO4OYMsXd0WuKjrvucs2Do0cHHUm+siRhTCzYutXdHJee7u6DsARR9FxyCZx9Nrz6atCR5CtLEsYEbccONxbQypXwn//YVUxFlQj07w9z58KyZUFHk28sSRgTpF9+ga5dYelSN1hf+/ZBR2SOR58+UKaMmxkwTliSMCYoe/e6Afrmz4f33nPJwhRtp5wCV14Jb7/t/r5xwJKEMUHYt899mcya5eYk+P3vg47I5Jebb3ZXp40bF3Qk+cKShDGF7eBBN+ZPaEa5a68NOiKTn9q1c5fExkmTkyUJYwrToUNu1NDx490wDjfdFHREJr+VKOH+rrNnw/ffBx3NcbMkYUxhOXwYbrkF3n3XzUFw111BR2QKynXXuWTx9ttBR3LcLEkYUxhU4e674fXX4eGH4YEHgo7IFKQaNdx9E++8434cFGE5JgkRKSci80XkaxH5RkQe9eVvicgaEVnsH0m+XERkqIikicgSEWketq2+IrLSP/qGlbcQkaV+naEiIr78ZBGZ6utPFZEq+f8RGFPAVGHgQHjxRbj3Xnj00aAjMoXhuutg7Vo3jHgRFs2ZxD6gvaomAklAZxEJjTh2n6om+cdiX9YFN391Q6A/MAzcFz4wGGgFpACDw770h/m6ofU6+/KBwHRVbQhM9++NKVoefxz+/ne47TZ45hl305WJfz16QIUKbva6IizHJKHOL/5taf/Ibs7T7sBIv96XQGURqQ50Aqaq6jZV3Q5MxSWc6kAlVZ2rbi7VkcAVYdsa4V+PCCs3pmh45hkYPNjNOfDii5YgipMKFdylze+/D7/+GnQ0eRZVn4SIlBSRxcBm3Bf9PL/oSd+k9JyIlPVlNYH1Yaun+7LsytMjlAOcpqobAfzzqVnE119EUkUkNSMjI5pDMqbgvfQS3H8/XHMN/PvfriPTFC/XXQc7d7rhVoqoqP7VquohVU0CagEpItIEGAScA7QETgZCPXGRfippHsqjpqrDVTVZVZOrVauWm1WNKRhvvgl33gndu7srXEqWDDoiE4SLL4aaNYv0VU65+mmjqjuAWUBnVd3om5T2AW/i+hnAnQnUDlutFrAhh/JaEcoBNvnmKPzz5tzEa0wg3nsP+vVzg/aNGePmQTbFU8mS7kxy8mQ3kGMRFM3VTdVEpLJ/fQJwCfBd2Je34PoKQsMeTgL6+KucWgM7fVPRZKCjiFTxHdYdgcl+2S4Rae231QeYGLat0FVQfcPKjYlNEya4JoYLL3Q3zJUtm/M6Jr5dfTXs3w+TJgUdSZ6UiqJOdWCEiJTEJZWxqvqRiMwQkWq45qLFwK2+/idAVyAN2APcAKCq20TkcWCBr/eYqm7zr28D3gJOAD71D4CngbEi0g/4AbgqrwdqTIH77DP3qzE5GT76CMqXDzoiEwtSUuCMM1wHdp8+QUeTa+IuKIofycnJmpqaGnQYpriZNQu6dIFGjWDGDKhcOeiITCy57z43DMvmzTH7b0NEFqpqcuZyu9zCmOM1dy5cfjnUq+emHY3RLwEToKuuggMHYGLRazG3JGHM8fjqK3cGUb06TJvm5hMwJrOWLeHMM2Hs2KAjyTVLEsbk1bJl7gqmypVh+nSXKIyJRMR1YE+Z4uaaKEIsSRiTF99/7wZwK1vWJYgzzgg6IhPrrr7azSUyYULQkeSKJQljcmvtWujQwY3uOX061K8fdESmKGjRAurUKXIz1lmSMCY3fvwR2reH3bth6lQ455ygIzJFhYi7A3/6dPfvp4iwJGFMtDZtcmcQW7a4O2gTE4OOyBQ13bu7wf6mTAk6kqhZkjAmGtu2waWXwvr18Mkn7moVY3LrwguhSpUidSmsJQljcrJzJ3Tq5DqrJ02CCy4IOiJTVJUqBZdd5u7IP3gw6GiiYknCmOz88gt07Qpff+06HDt0CDoiU9R16wZbt8L//hd0JFGxJGFMVvbudW3IX37pRna97LKgIzLxoHNnKFOmyAz4Z0nCmEj274eePWHmTBgxws0wZkx+qFjRXSE3caKb/zzGWZIwJrODB6F3b9dB/cor8H//F3REJt507w5pafDtt0FHkiNLEsaEO3TIzUf94Yfw/PPQv3/QEZl41K2bey4CTU6WJIwJUYVbb4VRo+Cpp+Duu4OOyMSrGjUgKQk+/TTnugGzJGEMuAQxYAD8+9/wl7/AoEFBR2TiXZcu7gqnnTuDjiRb0UxfWk5E5ovI1yLyjYg86svrisg8EVkpImNEpIwvL+vfp/nldcK2NciXrxCRTmHlnX1ZmogMDCuPuA9j8pUqPPggDB0K99wDjz0WdESmOOjc2fV/TZ8edCTZiuZMYh/QXlUTgSSgs5+7+m/Ac6raENgO9PP1+wHbVbUB8Jyvh4g0BnoBCUBn4GURKemnRX0J6AI0Bnr7umSzD2Pyz5NPwtNPu6amf/zDjbFjTEE77zyoVCnmm5xyTBLq/OLflvYPBdoDH/jyEcAV/nV3/x6/vIOIiC8frar7VHUNbg7sFP9IU9XVqrofGA109+tktQ9j8sc//wkPPwx9+8JLL1mCMIWndGk33Pxnn8X0pbBR9Un4X/yLgc3AVGAVsENVQ/eVpwM1/euawHoAv3wnUDW8PNM6WZVXzWYfmePrLyKpIpKakZERzSEZA8OGwZ//7Mb5//e/oYR10ZlC1qULpKfDN98EHUmWovpfoaqHVDUJqIX75d8oUjX/HOmnmOZjeaT4hqtqsqomV6tWLVIVY442YgTcfru7FPGdd9yYOsYUts6d3XMMNznl6qeTqu4AZgGtgcoiEvqfVQvY4F+nA7UB/PKTgG3h5ZnWyap8Szb7MCbvxoyBG290o7qOGeNO+40JQq1a0KSJa3KKUdFc3VRNRCr71ycAlwDfAjOBnr5aXyA09u0k/x6/fIaqqi/v5a9+qgs0BOYDC4CG/kqmMrjO7Ul+naz2YUzeTJzo7qC+4AI3jWS5ckFHZIq7Ll3g889h166gI4komjOJ6sBMEVmC+0KfqqofAQ8A94hIGq7/4HVf/3Wgqi+/BxgIoKrfAGOB5cBnwB2+GesgcCcwGZd8xvq6ZLMPY3Jv8mTX/9CihRuquXz5oCMyxjU5HTjgxgmLQaIx3KueF8nJyZqamhp0GCbW/Pe/7hfb2WfDjBlu4hdjYsG+fe7f4003uXt1AiIiC1U1OXO5Xc5h4t+XX8Lll0Pdum7aSEsQJpaULetmrIvRm+osSZj4tmiRO50//XSYNg3s6jcTizp0gOXLYePGoCM5hiUJE7+++QY6doSTTnK/0qpXDzoiYyILzXg4Y0awcURgScLEp5Ur3d2spUu7/3hnnBF0RMZkLSnJNYPGYJOT3UFk4s/ate6X2aFDrsO6fv2gIzImeyVLwsUXuyShGlPDw9iZhIkv6eluashffoGpU6FRpMEBjIlBHTrADz/AqlVBR3IUSxImfvz0k/uPtnWruyciMTHoiIyJXqhfIsaanCxJmPiwZYvrg/jxRzc3dcuWQUdkTO6cdZYbpsOShDH5bMcOdxXTqlVuzuDzzw86ImNyT8SdTcyYAYcPBx3NEZYkTNG2a5e7k3rZMhg/3vVHGFNUhZpLlywJOpIjLEmYomvPHncn9YIFMHbsb8MuG1NUtWvnnmfPDjSMcJYkTNH066/QvTvMmQOjRsEVNmmhiQO1a0OdOpYkjDku+/dDz55umI033oBrrgk6ImPyT9u2LknEyOCrliRM0XLwIPzhD/Dxx2760b59c17HmKKkbVvIyLGGtHoAAB20SURBVIAVK4KOBLAkYYqSQ4fg+uth3Dh47jm49dagIzIm/7Vt655jpMnJkoQpGg4fhltucf0PTz4JAwYEHZExBaNBAzdqcVFJEiJSW0Rmisi3IvKNiNzty4eIyI8istg/uoatM0hE0kRkhYh0Civv7MvSRGRgWHldEZknIitFZIyfxhQ/1ekYX3+eiNTJz4M3RYQq3H03vP46/OUv8OCDQUdkTMERcWcT//1vTPRLRHMmcRC4V1UbAa2BO0SksV/2nKom+ccnAH5ZLyAB6Ay8LCIlRaQk8BLQBWgM9A7bzt/8thoC24F+vrwfsF1VGwDP+XqmOFGFBx6AF1+Ee++Fxx4LOiJjCl7btm4csrVrg44k5yShqhtV9Sv/ehduHuqa2azSHRitqvtUdQ2QBqT4R5qqrlbV/cBooLuICNAe+MCvPwK4ImxbI/zrD4AOvr4pLoYMgWeegdtvd8/25zfFQQz1S+SqT8I39zQD5vmiO0VkiYi8ISKhOSFrAuvDVkv3ZVmVVwV2qOrBTOVHbcsv3+nrZ46rv4ikikhqRkZGbg7JxLKnn3ZnDjfeCP/6lyUIU3wkJMDJJxetJCEiJwLjgAGq+jMwDKgPJAEbgX+GqkZYXfNQnt22ji5QHa6qyaqaXM2mp4wPL7wAgwZB794wfDiUsGssTDFSooSb97qoJAkRKY1LEKNU9UMAVd2kqodU9TDwGq45CdyZQO2w1WsBG7Ip3wJUFpFSmcqP2pZffhKwLTcHaIqg4cPd1Us9esCIEW5CFmOKmwsvhLS0wOe9jubqJgFeB75V1WfDysMnDO4BLPOvJwG9/JVJdYGGwHxgAdDQX8lUBte5PUlVFZgJ9PTr9wUmhm0rdLdUT2CGr2/i1ciR7v6Hrl1h9Gg3/agxxVFoNOO5cwMNI5rpS88HrgOWishiX/Yg7uqkJFzzz1rgFgBV/UZExgLLcVdG3aGqhwBE5E5gMlASeENVv/HbewAYLSJPAItwSQn//LaIpOHOIHodx7GaWDdmDNxwgxvJddw4KFMm6IiMCU6zZlC2LPzvf3DllYGFIfH2wzw5OVlTU1ODDsPk1rhxbgymNm3g00+hQoWgIzImeKGziS++KPBdichCVU3OXG69gSZ4EydCr17QqpUbk8kShDFOmzaQmgr79gUWgiUJE6yPP4arroLmzd0ZRMWKQUdkTOxo08aNevzVV4GFYEnCBGfyZNfWeu657nWlSkFHZExsOe889xxg57UlCROM6dPdREGNGsHUqVC5ctARGRN7Tj8d6tZ1ndcBsSRhCt9//wu/+50b7XLaNHdnqTEmsjZtXJII6CIjSxKmcM2ZA5dd5qZonD4dTjkl6IiMiW3nneduqPvhh0B2b0nCFJ4vv4QuXaBmTZcgTj016IiMiX1t2rjngJqcLEmYwpGaCp06wWmnwYwZUL16zusYY9yFHRUqWJIwcWzRIrj0Utf3MGOGO5MwxkSnVClISQnsCidLEqZgLVkCl1ziLm+dORPOOCPoiIwpes47DxYvhj17Cn3XliRMwfnmG+jQAU44wZ1B1KkTdETGFE0pKXDokEsUhcyShCkY333nEkTp0u4Mon79oCMypuhK8TMxLFhQ6Lu2JGHy38qVbiRXcGcQDRsGG48xRV316lCrFsyfX+i7jmaocGOit3q1SxAHDsCsWXDOOUFHZEx8aNkykCRhZxIm/6xdCxdf7DrXpk1z8/QaY/JHSoqbqW5b4U7OaUnC5I9169wZxM8/u7GYEhODjsiY+BLqlyjk+XKimb60tojMFJFvReQbEbnbl58sIlNFZKV/ruLLRUSGikiaiCwRkeZh2+rr668Ukb5h5S1EZKlfZ6ifMjXLfZgYs26dO4PYts0liObNc17HGJM7LVq450JucormTOIgcK+qNgJaA3eISGNgIDBdVRsC0/17gC64ea0bAv2BYeC+8IHBQCsgBRgc9qU/zNcNrdfZl2e1DxMrwhPEtGmQfMzEVsaY/HDSSa6Pr5CvcMoxSajqRlX9yr/eBXwL1AS6AyN8tRHAFf51d2CkOl8ClUWkOtAJmKqq21R1OzAV6OyXVVLVuermUh2ZaVuR9mFiwQ8/WIIwpjClpMC8eYU6Imyu+iREpA7QDJgHnKaqG8ElEiA0WltNYH3Yaum+LLvy9AjlZLOPzHH1F5FUEUnNyMjIzSGZvPrhB2jXzhKEMYWpZUvYtAnS03Oum0+iThIiciIwDhigqj9nVzVCmeahPGqqOlxVk1U1uVq1arlZ1eRFeIKYOtUShDGFJYCb6qJKEiJSGpcgRqnqh754k28qwj9v9uXpQO2w1WsBG3IorxWhPLt9mKBkThAtWwYdkTHFR2KiG8WgEDuvo7m6SYDXgW9V9dmwRZOA0BVKfYGJYeV9/FVOrYGdvqloMtBRRKr4DuuOwGS/bJeItPb76pNpW5H2YYIQ3gdhCcKYwle2rEsUhZgkornj+nzgOmCpiIRGl3oQeBoYKyL9gB+Aq/yyT4CuQBqwB7gBQFW3icjjQOg86TFVDd0VchvwFnAC8Kl/kM0+TGELJYitW2HKFEsQxgQlORnee891Xkuk1vr8JRrQvKkFJTk5WVML+WaTuJc5QYTaRY0xhe+116B/f1i1CurVy7fNishCVT2mg9HuuDbZW7/eEoQxsSR0s+pXXxXK7ixJmKytX+86qbdssQRhTKxo0sTNVmdJwgQqPEFMnWoJwphYUbasSxSWJExgLEEYE9uaN3dJohD6lC1JmKOtXQtt21qCMCaWNWsGGRmwYUPOdY+TJQnzm1WrXILYsQOmT7cEYUysKsTOa0sSxlmxwiWIPXvclKM21IYxsSsx0d0jUQhJwqYvNbB8OXToAIcOwcyZcO65QUdkjMlOhQpu2HA7kzAFbulS10kNbk5qSxDGFA2hzusCZkmiOFu0yN0oV6YM/Pe/0Lhx0BEZY6LVvLkbMnxzwY57akmiuFqwwM1JXaGCSxBnnRV0RMaY3Ah1Xi9aVKC7sSRRHM2dC5dcApUruwRRv37QERljcispyT1bkjD5as4c6NgRqlWD2bOhTp2gIzLG5EXlym6AvwLul7AkUZzMmgWdOkHNmu4MonbtHFcxxsSw5s1h4cIC3YUlieJiyhTo2tWdOcya5RKFMaZoS0qC1avh5+xmlD4+liSKgw8/hMsvd53TM2fC6acHHZExJj8kJrrnpUsLbBfRTF/6hohsFpFlYWVDRORHEVnsH13Dlg0SkTQRWSEincLKO/uyNBEZGFZeV0TmichKERkjImV8eVn/Ps0vr5NfB12svP02XH21u4N65kw49dSgIzLG5JdQkliypMB2Ec2ZxFtA5wjlz6lqkn98AiAijYFeQIJf52URKSkiJYGXgC5AY6C3rwvwN7+thsB2oJ8v7wdsV9UGwHO+nsmNYcOgTx+46CLX3FSlStARGWPyU61a7v/1118X2C5yTBKqOhvYllM9rzswWlX3qeoa3DzXKf6RpqqrVXU/MBroLiICtAc+8OuPAK4I29YI//oDoIOvb6LxzDNw++3wu9/Bxx/DiScGHZExJr+JQNOmwSaJbNwpIkt8c1ToJ2pNYH1YnXRfllV5VWCHqh7MVH7Utvzynb7+MUSkv4ikikhqRkbGcRxSHFCFhx+G+++Ha66BceOgXLmgozKmSJo8eTKLFy/O121OmDCBm2++me7duzNlypTj32BiouuTOHz4+LcVQV6TxDCgPpAEbAT+6csj/dLXPJRnt61jC1WHq2qyqiZXq1Ytu7jj2+HDMGAAPPEE9OsHo0ZB6dJBR2Ui+Omnn+jVqxf169encePGdO3ale+//z5P2xo6dCiNGjXi2muvjXqdIUOG8I9//CNP+4tm3R07dvDyyy/nafvRatOmTYFub8aMGUyePJnEULt/Lrz66qucfvrpJCYmUr9+fUaOHHlk2RVXXMFrr73GW2+9xZgxY3Lc1meffcbZZ59NgwYNePrpp4+tkJhInd27ObdRI5KSkkgOG8H5119/JSUlhcTERBISEhg8eHCujwVVzfEB1AGW5bQMGAQMCls2GTjPPyaHlQ/yDwG2AKV8+ZF6oXX961K+nuQUa4sWLbRYOnhQ9cYbVUF1wADVw4eDjshk4fDhw9q6dWsdNmzYkbJFixbp7Nmz87S9s88+W1evXp2rdQYPHqzPPPNMnvYXzbpr1qzRhISEXG338OHDeujQoTzFFGtuv/32I3/fefPmadWqVY+pc8899+jChQuz3c7Bgwe1Xr16umrVKt23b582bdpUv/nmm6MrLVigZ4JmvPHGMesfPnxYd+3apaqq+/fv15SUFJ07d27EfQGpGuE7NU9nEiJSPextDyB05dMkoJe/Mqku0BCYDywAGvormcrgOrcn+cBmAj39+n2BiWHb6utf9wRm+Poms/374Q9/gDfegEcegWefdW2VJibNnDmT0qVLc+uttx4pS0pK4sILL+TZZ5+lSZMmNGnShOeff/6o9d555x1SUlJISkrilltu4dChQ9x6662sXr2abt268dxzz2W73yeffJKzzz6bSy65hBUrVmS73WjXzWr9gQMHsmrVKpKSkrjvvvuyrLd27VoaNWrE7bffTvPmzfn8888555xzuOmmm2jSpAnXXnst06ZN4/zzz6dhw4bMnz//yH5P9P1soW3cfPPNJCQk0LFjR/bu3Qu4X+0tWrQgISGB4cOHH1l35MiRNG3alMTERK677rqjtgdE/Dtkt5/Mli5dytlnnw1A3bp1KVOmzJFlqsoDDzxAly5daB4afykL8+fPp0GDBtSrV48yZcrQq1cvJk6ceHSlhAT3vHz5MeuLyJHjOnDgAAcOHCDXXbuRMkf4A3gP16R0ANdn0A94G1gKLMF9mVcPq/8QsApYAXQJK+8KfO+XPRRWXg+XSNKA94Gyvrycf5/ml9fLKVYtjmcSv/yi2rmzO4PI4y9DU7heeOEFHTBgwDHlqamp2qRJE/3ll190165d2rhxY/3qq69UVXX58uV6+eWX6/79+1VV9bbbbtMRI0aoquqZZ56pGRkZ2e4ztO3du3frzp07tX79+vrMM89ku92c1s0ursxnEtnVE5Ejv27XrFmjJUuW1CVLluihQ4e0efPmesMNN+jhw4d1woQJ2r179yPbrFChwlHrLFq0SFVVr7rqKn377bdVVXXr1q2qqrpnzx5NSEjQLVu26LJly/Sss8468pmF6oS2l9XfIbv9ZFa5cmX98ccf9fDhw/rII4/oG2G/8l944QVt3ry53nLLLUfONrp06aI//vjjMdt5//33tV+/fkfejxw5Uu+4445j6tUpXVqbnXSSNm/eXF999dWjlh08eFATExO1QoUKev/990eMVzXrM4kcJx1S1d4Ril/Ppv6TwJMRyj8BPolQvhp39VPm8l+Bq3KKr1jbuhUuu8yN6Praa3DTTUFHZI7DnDlz6NGjBxUqVADgyiuv5PPPP6dZs2ZMnz6dhQsX0rJlSwD27t3Lqbm45+Xzzz+nR48elC9fHoBu3boBRLXdrNbNbv22bdsetY3s6p155pm0bt36SN26detyrp/XJCEhgQ4dOiAinHvuuaxduzbi8dWtW5ckP+BdixYtjtQbOnQo48ePB2D9+vWsXLmSBQsW0LNnT0455RQATj755KO2ldXfoVu3blnuJ9z69evZtWsXXbt25ccff6Rp06YMGTLkyPK77rqLu+6666h1PvnkmK9GgNAP6aNEOhP4oksXaixZwuZPP+XSSy/lnHPOOfI3KFmyJIsXL2bHjh306NGDZcuW0aRJk4j7i8Rmpiuq1q934zCtXu2uYLriipzXMTEhISGBDz744JjySF8I4cv69u3LX//61zzvN9KXS7TbzaqJIqv1M395Zlcv9GUcUrZs2SOvS5QoceR9iRIlOHjwIJGEr1OyZEn27t3LrFmzmDZtGnPnzqV8+fK0a9eOX3/9FVXNtsklu79DpP1ktmTJEtq2bcuMGTPYvn07TZo0Ye7cuXnqaK9Vqxbr1/92YWh6ejo1atQ4pl6N1q1h0iROLVuWHj16MH/+/GMSdeXKlWnXrh2fffZZrpKEDctRFH37LbRpAz/+CJMnW4IoYtq3b8++fft47bXXjpQtWLCAZs2aMWHCBPbs2cPu3bsZP348F154IQAdOnTggw8+YLOfYGbbtm2sW7cu6n22bduW8ePHs3fvXnbt2sV//vOfqLeb1brZrV+xYkV27dqVY72CtHPnTqpUqUL58uX57rvv+PLLL4/EMnbsWLZu3XoklszHm9XfIRpLly6lWbNmAFSpUoU//OEPfPzxx3k6hpYtW7Jy5UrWrFnD/v37GT169FFncgC7d+9mV8OG7vX8+UyZMuVIEsjIyGDHjh2AO3ubNm0a55xzTq5isCRR1MybBxdcAAcOuJFcL7oo6IhMLokI48ePZ+rUqdSvX5+EhASGDBlCjRo1uP7660lJSaFVq1bcdNNNR75sGjduzBNPPEHHjh1p2rQpl156KRs3bjxm2127dmXDhg3HlDdv3pxrrrmGpKQkfv/73x/50otmu1mtm936VatW5fzzz6dJkybcd999Ucefnzp37szBgwdp2rQpDz/88JEmrYSEBB566CEuuugiEhMTueeee4453qz+DtEITxIAv/vd77JsTgrJ6u9WqlQpXnzxRTp16kSjRo24+uqrSfAd1aF1Nm3axAWDB5NYtSopt93GZZddRufObpCMjRs3cvHFF9O0aVNatmzJpZdeyuWXXx71sYC/pDSeJCcna2pqatBhFIzJk+HKK6F6dTfMRr16QUdkjIkTIrJQVZMzl9uZRFHx7ru/jeQ6Z44lCGNMobAkEetU4R//gGuvdc1Ms2bZUN/GmEJjSSKWHToEf/wj3HcfXHUVfPopnHRS0FEZY4oRSxKxavdu6NEDXnrJJYnRo22gPmNMobP7JGLRTz+5Ib6/+solidtvDzoiY0wxZUki1nz7rZuLevNmmDDBJQtjjAmIJYlYMnu2uzGuTBl3D0TyMVejGWNMobI+iVjx5ptwySVw2mnw5ZeWIIwxMcGSRNAOHYJ774Ubb3R3T//vf1CnTtBRGWMMYEkiWDt3Qrdubv6HP/7RXeJapUrO6xljTCGxPomgrFrlOqVXroRXXoFbbgk6ImOMOUaOZxIi8oaIbBaRZWFlJ4vIVBFZ6Z+r+HIRkaEikiYiS0Skedg6fX39lSLSN6y8hYgs9esMFT+Gb1b7iAuzZkFKCmza5MZgsgRhjIlR0TQ3vQV0zlQ2EJiuqg2B6f49QBfclKUNgf7AMHBf+MBgoBVugqHBYV/6w3zd0Hqdc9hH0aUKzz33Wwf1/Plw8cVBR2WMMVnKMUmo6mxgW6bi7sAI/3oEcEVY+Ug/G96XQGU/H3YnYKqqblPV7cBUoLNfVklV5/rp80Zm2lakfRRNv/wCvXrBPfe4foi5c6F+/aCjMsaYbOW14/o0Vd0I4J9D8x3WBNaH1Uv3ZdmVp0coz24fxxCR/iKSKiKpGRkZeTykAvTdd6556YMP4G9/czPJ2RhMxpgiIL+vboo0J6DmoTxXVHW4qiaranK1atVyu3rBGjcOWraELVtg6lS4/37IZupEY4yJJXlNEpt8UxH+ebMvTwdqh9WrBWzIobxWhPLs9lE07NsHf/oT9OwJCQmwcCG0bx90VMYYkyt5TRKTgNAVSn2BiWHlffxVTq2Bnb6paDLQUUSq+A7rjsBkv2yXiLT2VzX1ybStSPuIfd9/D+edB88/D3fe6YbYqF075/WMMSbG5HifhIi8B7QDThGRdNxVSk8DY0WkH/ADcJWv/gnQFUgD9gA3AKjqNhF5HFjg6z2mqqHO8NtwV1CdAHzqH2Szj9ilCiNGuMRQrhxMmmQD9BljijSb4zq/7NwJt90G770H7drBO+9AzZo5rmaMMbHA5rguSFOmQJMmMHYsPPEETJtmCcIYExcsSRyPXbvg1luhUyc48UQ3ON9DD0HJkkFHZowx+cKSRF7NmAHnngvDh8Of/wyLFrl7IYwxJo5YksitTZvguuugQwc3OdCcOfDMMzb/tDEmLlmSiNbhw/Dqq3DOOTBmjGtW+vpraNMm6MiMMabA2FDh0fjf/9yYS/PmuSuXhg1zycIYY+KcnUlkJy0NrroKzj8ffvgBRo50fRGWIIwxxYSdSUSyYYMbiG/YMNfv8OijborRChWCjswYYwqVJYlw69e75PDvf8PBg3DDDfDYY1C9etCRGWNMICxJhDz+uHuowvXXw6BBUK9e0FEZY0ygLEmE1KkD/frBwIFw5plBR2OMMTHBkkTIdde5hzHGmCPs6iZjjDFZsiRhjDEmS5YkjDHGZMmShDHGmCwdV5IQkbUislREFotIqi87WUSmishK/1zFl4uIDBWRNBFZIiLNw7bT19dfKSJ9w8pb+O2n+XXleOI1xhiTO/lxJnGxqiaFzWg0EJiuqg2B6f49QBegoX/0B4aBSyq4KVFbASnA4FBi8XX6h63XOR/iNcYYE6WCaG7qDozwr0cAV4SVj1TnS6CyiFQHOgFTVXWbqm4HpgKd/bJKqjpX3RyrI8O2ZYwxphAcb5JQYIqILBSR/r7sNFXdCOCfT/XlNYH1Yeum+7LsytMjlB9DRPqLSKqIpGZkZBznIRljjAk53pvpzlfVDSJyKjBVRL7Lpm6k/gTNQ/mxharDgeEAIpIhIuuyD7vIOQXYEnQQhaA4HKcdY/yIt+OMONTEcSUJVd3gnzeLyHhcn8ImEamuqht9k9FmXz0dqB22ei1ggy9vl6l8li+vFaF+TjFVy9PBxDARSQ3r84lbxeE47RjjR3E5zjw3N4lIBRGpGHoNdASWAZOA0BVKfYGJ/vUkoI+/yqk1sNM3R00GOopIFd9h3RGY7JftEpHW/qqmPmHbMsYYUwiO50ziNGC8vyq1FPCuqn4mIguAsSLSD/gBuMrX/wToCqQBe4AbAFR1m4g8Dizw9R5T1W3+9W3AW8AJwKf+YYwxppCIu3DIxDIR6e/7XeJacThOO8b4UWyO05KEMcaYrNiwHMYYY7JkScIYY0yWLEkERETeEJHNIrIsrCzfxr2KBSJSW0Rmisi3IvKNiNzty+PmOEWknIjMF5Gv/TE+6svrisg8H+8YESnjy8v692l+eZ2wbQ3y5StEpFMwR5Q1ESkpIotE5CP/Ph6PsUDHoyuSVNUeATyAtkBzYFlY2d+Bgf71QOBv/nVX3JVdArQG5vnyk4HV/rmKf10l6GMLO57qQHP/uiLwPdA4no7Tx3qif10amOdjHwv08uWvALf517cDr/jXvYAx/nVj4GugLFAXWAWUDPr4Mh3rPcC7wEf+fTwe41rglExlcfPvNU+fSdABFOcHUCdTklgBVPevqwMr/OtXgd6Z6wG9gVfDyo+qF2sP3H0ul8brcQLlga9wg1VuAUr58vNw9/6Auy/oPP+6lK8nwCBgUNi2jtSLhQfuZtbpQHvgIx9zXB2jjylSkojLf6/RPqy5Kbbk17hXMcc3OTTD/dKOq+P0zTCLcaMLTMX9Qt6hqgd9lfB4jxyLX74TqEqMHyPwPHA/cNi/r0r8HSMU7Hh0RdLxjt1kCsdxj28VJBE5ERgHDFDVnyXraUGK5HGq6iEgSUQqA+OBRpGq+ecid4wicjmwWVUXiki7UHGEqkX2GMMU5Hh0RZKdScSWTeLGu0KiH/cqUnnMEJHSuAQxSlU/9MVxd5wAqroDN+5Ya9xQ+KEfYeHxHjkWv/wkYBuxfYznA91EZC0wGtfk9DzxdYzA0ePR4RL+kfHoIL7+vUbLkkRsyZdxrwo76KyIO2V4HfhWVZ8NWxQ3xyki1fwZBCJyAnAJ8C0wE+jpq2U+xtCx9wRmqGu4ngT08lcG1cVNsjW/cI4ie6o6SFVrqWodXEf0DFW9ljg6Rij48egK8VDyV9CdIsX1AbwHbAQO4H559MO1204HVvrnk31dAV7CtXUvBZLDtnMjbjysNOCGoI8r0zFegDvNXgIs9o+u8XScQFNgkT/GZcAjvrwe7gswDXgfKOvLy/n3aX55vbBtPeSPfQXQJehjy+J42/Hb1U1xdYz+eL72j2+Ah3x53Px7zcvDhuUwxhiTJWtuMsYYkyVLEsYYY7JkScIYY0yWLEkYY4zJkiUJY4wxWbIkYYwxJkuWJIwxxmTp/wG+0rha4ZtV7AAAAABJRU5ErkJggg==\n",
          "text/plain": "<Figure size 432x288 with 1 Axes>"
         },
         "metadata": {
          "needs_background": "light"
         },
         "output_type": "display_data"
        }
       ]
      }
     },
     "71b271ecd746416094dc099dbb638bcd": {
      "model_module": "@jupyter-widgets/base",
      "model_module_version": "1.2.0",
      "model_name": "LayoutModel",
      "state": {}
     },
     "7abdf6affec64f51b696cd3cf0633055": {
      "model_module": "@jupyter-widgets/controls",
      "model_module_version": "1.5.0",
      "model_name": "SliderStyleModel",
      "state": {
       "description_width": ""
      }
     },
     "7ac7fcce16804780a3ebc9a73e2b6989": {
      "model_module": "@jupyter-widgets/controls",
      "model_module_version": "1.5.0",
      "model_name": "ButtonModel",
      "state": {
       "description": "Run Interact",
       "layout": "IPY_MODEL_a2529d84e6614a1eb01beea237238432",
       "style": "IPY_MODEL_2ca3fb86080844289c60882ad36b16bd"
      }
     },
     "7b27babf0a404aeda1b50d53ed3ed435": {
      "model_module": "@jupyter-widgets/controls",
      "model_module_version": "1.5.0",
      "model_name": "ButtonModel",
      "state": {
       "description": "Run Interact",
       "layout": "IPY_MODEL_48aadb7aa71f4a3e8156f0044e7755a3",
       "style": "IPY_MODEL_224732ca1c2e48aaac30711ff7ad8cc1"
      }
     },
     "7dd504df84644742801cf7d7bb3c52a7": {
      "model_module": "@jupyter-widgets/controls",
      "model_module_version": "1.5.0",
      "model_name": "SliderStyleModel",
      "state": {
       "description_width": ""
      }
     },
     "7e859858a07e4d2db0fe3fbb96b9b8da": {
      "model_module": "@jupyter-widgets/base",
      "model_module_version": "1.2.0",
      "model_name": "LayoutModel",
      "state": {}
     },
     "7eb023267aae42bab5b26d47d1c16b2b": {
      "model_module": "@jupyter-widgets/controls",
      "model_module_version": "1.5.0",
      "model_name": "ButtonModel",
      "state": {
       "description": "Run Interact",
       "layout": "IPY_MODEL_308c4d5405394aa586b5039e35ef7ac2",
       "style": "IPY_MODEL_bc77ef15c39343b6a83678cb8f1f3533"
      }
     },
     "805756d088374909b9107f5b8c57cc33": {
      "model_module": "@jupyter-widgets/controls",
      "model_module_version": "1.5.0",
      "model_name": "IntSliderModel",
      "state": {
       "continuous_update": false,
       "description": "Grado del polinomio:",
       "layout": "IPY_MODEL_eefe6d1e02ef4e08b2139f7f8e1673de",
       "max": 30,
       "min": 1,
       "style": "IPY_MODEL_14ae9c100f3a4f519315789c9762ae0d",
       "value": 5
      }
     },
     "81c0eb75e1f945d494e81da90ffc6987": {
      "model_module": "@jupyter-widgets/controls",
      "model_module_version": "1.5.0",
      "model_name": "VBoxModel",
      "state": {
       "_dom_classes": [
        "widget-interact"
       ],
       "children": [
        "IPY_MODEL_383e52cf02754426859b562f74be8a30",
        "IPY_MODEL_c16444aeefe54d6b9747d1922312b57f",
        "IPY_MODEL_6e63fa0b4b06476aafd0359f1303336f"
       ],
       "layout": "IPY_MODEL_c1535a3f58af415e8068e852fe8489c1"
      }
     },
     "82ef166e0d484bbb860aa81caa5faf31": {
      "model_module": "@jupyter-widgets/output",
      "model_module_version": "1.0.0",
      "model_name": "OutputModel",
      "state": {
       "layout": "IPY_MODEL_9c0dc47b990944dca112c2661d2e462e",
       "outputs": [
        {
         "data": {
          "image/png": "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\n",
          "text/plain": "<Figure size 432x288 with 1 Axes>"
         },
         "metadata": {
          "needs_background": "light"
         },
         "output_type": "display_data"
        }
       ]
      }
     },
     "8385a2a4361d45f698b00fdebf2c2d84": {
      "model_module": "@jupyter-widgets/base",
      "model_module_version": "1.2.0",
      "model_name": "LayoutModel",
      "state": {}
     },
     "843d6d03a79249d4a58d1c69e50af0d4": {
      "model_module": "@jupyter-widgets/base",
      "model_module_version": "1.2.0",
      "model_name": "LayoutModel",
      "state": {}
     },
     "84d4e8d0af0b415f87c460eb56615d14": {
      "model_module": "@jupyter-widgets/base",
      "model_module_version": "1.2.0",
      "model_name": "LayoutModel",
      "state": {}
     },
     "87aa0fe0978d4b8e9dcdeda885c8630e": {
      "model_module": "@jupyter-widgets/controls",
      "model_module_version": "1.5.0",
      "model_name": "IntSliderModel",
      "state": {
       "continuous_update": false,
       "description": "Grado:",
       "layout": "IPY_MODEL_9bf75d200007474b8410d267134fcf2c",
       "max": 30,
       "min": 1,
       "style": "IPY_MODEL_7dd504df84644742801cf7d7bb3c52a7",
       "value": 2
      }
     },
     "91c6b9faab294feaaded1f2a3107e27a": {
      "model_module": "@jupyter-widgets/controls",
      "model_module_version": "1.5.0",
      "model_name": "IntSliderModel",
      "state": {
       "continuous_update": false,
       "description": "Grado del polinomio:",
       "layout": "IPY_MODEL_71b271ecd746416094dc099dbb638bcd",
       "max": 30,
       "min": 1,
       "style": "IPY_MODEL_ff21d12d5ab24b44bce12ecb01d8c66c",
       "value": 5
      }
     },
     "9991e0b213df4d58821ba25049a407d3": {
      "model_module": "@jupyter-widgets/controls",
      "model_module_version": "1.5.0",
      "model_name": "VBoxModel",
      "state": {
       "_dom_classes": [
        "widget-interact"
       ],
       "children": [
        "IPY_MODEL_b36d976f6b3645dbb2567812bc098a48",
        "IPY_MODEL_7b27babf0a404aeda1b50d53ed3ed435",
        "IPY_MODEL_0b3aa54f9c94451190618859bcb53f27"
       ],
       "layout": "IPY_MODEL_43578f492c144ee3a0b01d9238682f97"
      }
     },
     "99c68dfbf1f4488f85d09ca19b2b4629": {
      "model_module": "@jupyter-widgets/base",
      "model_module_version": "1.2.0",
      "model_name": "LayoutModel",
      "state": {}
     },
     "9b14f30e50134d9db1e0ea4936b80f4e": {
      "model_module": "@jupyter-widgets/controls",
      "model_module_version": "1.5.0",
      "model_name": "SliderStyleModel",
      "state": {
       "description_width": ""
      }
     },
     "9b17173837544ea1898e05d838e36900": {
      "model_module": "@jupyter-widgets/controls",
      "model_module_version": "1.5.0",
      "model_name": "VBoxModel",
      "state": {
       "_dom_classes": [
        "widget-interact"
       ],
       "children": [
        "IPY_MODEL_fd4fefdcf2554c339d3bb00b9e6de48b",
        "IPY_MODEL_a2c327db9e404c028f71e034d1eb80ab",
        "IPY_MODEL_636b4ce14d644a30824cd6ba1fe9055b"
       ],
       "layout": "IPY_MODEL_65e5ae13cbb64014960db42f1e0b697d"
      }
     },
     "9bf75d200007474b8410d267134fcf2c": {
      "model_module": "@jupyter-widgets/base",
      "model_module_version": "1.2.0",
      "model_name": "LayoutModel",
      "state": {}
     },
     "9c0dc47b990944dca112c2661d2e462e": {
      "model_module": "@jupyter-widgets/base",
      "model_module_version": "1.2.0",
      "model_name": "LayoutModel",
      "state": {}
     },
     "9d4d75e0cf7b4d219f649b6b9e095d21": {
      "model_module": "@jupyter-widgets/base",
      "model_module_version": "1.2.0",
      "model_name": "LayoutModel",
      "state": {}
     },
     "9d55f35c671442c182f890342ff66549": {
      "model_module": "@jupyter-widgets/base",
      "model_module_version": "1.2.0",
      "model_name": "LayoutModel",
      "state": {}
     },
     "9e6855e2da5949da8604b22a9c39481b": {
      "model_module": "@jupyter-widgets/controls",
      "model_module_version": "1.5.0",
      "model_name": "VBoxModel",
      "state": {
       "_dom_classes": [
        "widget-interact"
       ],
       "children": [
        "IPY_MODEL_87aa0fe0978d4b8e9dcdeda885c8630e",
        "IPY_MODEL_5142a0b9e33941c88635f94699a275cf",
        "IPY_MODEL_137606ce6e2c4469a74897f0aeaef053"
       ],
       "layout": "IPY_MODEL_b27a06caaf724cb1a96890ae202b340d"
      }
     },
     "9e9608bc9ead4c92b5a3b2b170e0d559": {
      "model_module": "@jupyter-widgets/controls",
      "model_module_version": "1.5.0",
      "model_name": "SliderStyleModel",
      "state": {
       "description_width": ""
      }
     },
     "9fcb037b3d1f4f219657944da17311bf": {
      "model_module": "@jupyter-widgets/controls",
      "model_module_version": "1.5.0",
      "model_name": "ButtonModel",
      "state": {
       "description": "Run Interact",
       "layout": "IPY_MODEL_dae5ebe5129e4cafa0e8e632805d2735",
       "style": "IPY_MODEL_cd45e2c631f64927905f3ee73e925a55"
      }
     },
     "a1298c9c93da462fab73c03663f967e5": {
      "model_module": "@jupyter-widgets/controls",
      "model_module_version": "1.5.0",
      "model_name": "VBoxModel",
      "state": {
       "_dom_classes": [
        "widget-interact"
       ],
       "children": [
        "IPY_MODEL_805756d088374909b9107f5b8c57cc33",
        "IPY_MODEL_4f845c59e2204d7eb382f12b1bdff503",
        "IPY_MODEL_182b3306a41648eea7cba278f9da51ba"
       ],
       "layout": "IPY_MODEL_c8a13c40ecfb4d019f4ff37154bffbb5"
      }
     },
     "a2529d84e6614a1eb01beea237238432": {
      "model_module": "@jupyter-widgets/base",
      "model_module_version": "1.2.0",
      "model_name": "LayoutModel",
      "state": {}
     },
     "a2c327db9e404c028f71e034d1eb80ab": {
      "model_module": "@jupyter-widgets/controls",
      "model_module_version": "1.5.0",
      "model_name": "ButtonModel",
      "state": {
       "description": "Run Interact",
       "layout": "IPY_MODEL_ccb8888f676f4b218dae03e2f22de720",
       "style": "IPY_MODEL_bbf835f0f73d41b09ede8620e72df3f0"
      }
     },
     "a866f95ae615443ea8e6203d36816696": {
      "model_module": "@jupyter-widgets/controls",
      "model_module_version": "1.5.0",
      "model_name": "ButtonModel",
      "state": {
       "description": "Run Interact",
       "layout": "IPY_MODEL_84d4e8d0af0b415f87c460eb56615d14",
       "style": "IPY_MODEL_fff66842bb8b48dc862e794c8eb4925d"
      }
     },
     "ad1547e4c3a74d47bd84d9c7e71114ca": {
      "model_module": "@jupyter-widgets/output",
      "model_module_version": "1.0.0",
      "model_name": "OutputModel",
      "state": {
       "layout": "IPY_MODEL_585133e75b08445dbc6668d47fc30370",
       "outputs": [
        {
         "data": {
          "image/png": "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\n",
          "text/plain": "<Figure size 432x288 with 1 Axes>"
         },
         "metadata": {
          "needs_background": "light"
         },
         "output_type": "display_data"
        }
       ]
      }
     },
     "b08f6c33ffab438a88fdb56c5a3e782d": {
      "model_module": "@jupyter-widgets/base",
      "model_module_version": "1.2.0",
      "model_name": "LayoutModel",
      "state": {}
     },
     "b0c180d6b37d4660a48a0ad95b4cde21": {
      "model_module": "@jupyter-widgets/controls",
      "model_module_version": "1.5.0",
      "model_name": "IntSliderModel",
      "state": {
       "continuous_update": false,
       "description": "Grado:",
       "layout": "IPY_MODEL_309d0c3b192f450f806e9ebc935fc040",
       "max": 30,
       "min": 1,
       "style": "IPY_MODEL_240fa682ebf749659e9e4c32d51d19f5",
       "value": 5
      }
     },
     "b1e11a9e4fe8416ca26ced141c67434d": {
      "model_module": "@jupyter-widgets/controls",
      "model_module_version": "1.5.0",
      "model_name": "VBoxModel",
      "state": {
       "_dom_classes": [
        "widget-interact"
       ],
       "children": [
        "IPY_MODEL_91c6b9faab294feaaded1f2a3107e27a",
        "IPY_MODEL_9fcb037b3d1f4f219657944da17311bf",
        "IPY_MODEL_82ef166e0d484bbb860aa81caa5faf31"
       ],
       "layout": "IPY_MODEL_8385a2a4361d45f698b00fdebf2c2d84"
      }
     },
     "b27a06caaf724cb1a96890ae202b340d": {
      "model_module": "@jupyter-widgets/base",
      "model_module_version": "1.2.0",
      "model_name": "LayoutModel",
      "state": {}
     },
     "b36d976f6b3645dbb2567812bc098a48": {
      "model_module": "@jupyter-widgets/controls",
      "model_module_version": "1.5.0",
      "model_name": "IntSliderModel",
      "state": {
       "continuous_update": false,
       "description": "Grado del polinomio:",
       "layout": "IPY_MODEL_206d2742ba464759a75f0ac6dc32538f",
       "max": 30,
       "min": 1,
       "style": "IPY_MODEL_636fa82a825a4303bec5c23619bc6cd1",
       "value": 2
      }
     },
     "bbf835f0f73d41b09ede8620e72df3f0": {
      "model_module": "@jupyter-widgets/controls",
      "model_module_version": "1.5.0",
      "model_name": "ButtonStyleModel",
      "state": {}
     },
     "bc77ef15c39343b6a83678cb8f1f3533": {
      "model_module": "@jupyter-widgets/controls",
      "model_module_version": "1.5.0",
      "model_name": "ButtonStyleModel",
      "state": {}
     },
     "c1535a3f58af415e8068e852fe8489c1": {
      "model_module": "@jupyter-widgets/base",
      "model_module_version": "1.2.0",
      "model_name": "LayoutModel",
      "state": {}
     },
     "c16444aeefe54d6b9747d1922312b57f": {
      "model_module": "@jupyter-widgets/controls",
      "model_module_version": "1.5.0",
      "model_name": "ButtonModel",
      "state": {
       "description": "Run Interact",
       "layout": "IPY_MODEL_52256b8896f64e5eb36c5297baaae465",
       "style": "IPY_MODEL_15d0c96603334802b2840a8256699f34"
      }
     },
     "c2e1ca15636c4feda1f1512d57eebfec": {
      "model_module": "@jupyter-widgets/controls",
      "model_module_version": "1.5.0",
      "model_name": "ButtonStyleModel",
      "state": {}
     },
     "c3b249cc675e4ec99884f785323d0f64": {
      "model_module": "@jupyter-widgets/base",
      "model_module_version": "1.2.0",
      "model_name": "LayoutModel",
      "state": {}
     },
     "c5d35b7dcf74476cac0a62808e8f4f7a": {
      "model_module": "@jupyter-widgets/base",
      "model_module_version": "1.2.0",
      "model_name": "LayoutModel",
      "state": {}
     },
     "c8a13c40ecfb4d019f4ff37154bffbb5": {
      "model_module": "@jupyter-widgets/base",
      "model_module_version": "1.2.0",
      "model_name": "LayoutModel",
      "state": {}
     },
     "ccb8888f676f4b218dae03e2f22de720": {
      "model_module": "@jupyter-widgets/base",
      "model_module_version": "1.2.0",
      "model_name": "LayoutModel",
      "state": {}
     },
     "ccef0b908b2c4441b3ef5405d8effe1c": {
      "model_module": "@jupyter-widgets/base",
      "model_module_version": "1.2.0",
      "model_name": "LayoutModel",
      "state": {}
     },
     "cd45e2c631f64927905f3ee73e925a55": {
      "model_module": "@jupyter-widgets/controls",
      "model_module_version": "1.5.0",
      "model_name": "ButtonStyleModel",
      "state": {}
     },
     "d021d196f7244a15a492d60c419f2a31": {
      "model_module": "@jupyter-widgets/controls",
      "model_module_version": "1.5.0",
      "model_name": "VBoxModel",
      "state": {
       "_dom_classes": [
        "widget-interact"
       ],
       "children": [
        "IPY_MODEL_5b55d7ffc0884c83bcd646537affa7b0",
        "IPY_MODEL_7ac7fcce16804780a3ebc9a73e2b6989",
        "IPY_MODEL_0fcfc3c980d6445c976ffe28623b9ed5"
       ],
       "layout": "IPY_MODEL_399563e23e5c4c559167c3044e9ada36"
      }
     },
     "d0c3dc1c937d4554b049955ff5a08494": {
      "model_module": "@jupyter-widgets/base",
      "model_module_version": "1.2.0",
      "model_name": "LayoutModel",
      "state": {}
     },
     "d2a4be8fd45a4e1495d72d3e775ddd20": {
      "model_module": "@jupyter-widgets/controls",
      "model_module_version": "1.5.0",
      "model_name": "ButtonStyleModel",
      "state": {}
     },
     "d6dec2aa7a0548b0a04b9c8a566593e6": {
      "model_module": "@jupyter-widgets/controls",
      "model_module_version": "1.5.0",
      "model_name": "SliderStyleModel",
      "state": {
       "description_width": ""
      }
     },
     "dae5ebe5129e4cafa0e8e632805d2735": {
      "model_module": "@jupyter-widgets/base",
      "model_module_version": "1.2.0",
      "model_name": "LayoutModel",
      "state": {}
     },
     "db6cb75ab063454395c6cc8785c8e15b": {
      "model_module": "@jupyter-widgets/controls",
      "model_module_version": "1.5.0",
      "model_name": "VBoxModel",
      "state": {
       "_dom_classes": [
        "widget-interact"
       ],
       "children": [
        "IPY_MODEL_1257b28aa2144de3aa45990d8fb71219",
        "IPY_MODEL_03e7b94ff81b48b790cb71e45151addb",
        "IPY_MODEL_27cc39a3042441c1b638ee85d10550f8"
       ],
       "layout": "IPY_MODEL_e4311972ee244a87828c76fdeab1a49c"
      }
     },
     "dce96f2d503147e399c2d2db88c8d77d": {
      "model_module": "@jupyter-widgets/controls",
      "model_module_version": "1.5.0",
      "model_name": "SliderStyleModel",
      "state": {
       "description_width": ""
      }
     },
     "dec837f3d0d04c908c8403d171809b4e": {
      "model_module": "@jupyter-widgets/base",
      "model_module_version": "1.2.0",
      "model_name": "LayoutModel",
      "state": {}
     },
     "dee31f5e55164e20861eda2960badc44": {
      "model_module": "@jupyter-widgets/base",
      "model_module_version": "1.2.0",
      "model_name": "LayoutModel",
      "state": {}
     },
     "e09af01497fa40bc819ecdb7d125416f": {
      "model_module": "@jupyter-widgets/controls",
      "model_module_version": "1.5.0",
      "model_name": "IntSliderModel",
      "state": {
       "continuous_update": false,
       "description": "Grado:",
       "layout": "IPY_MODEL_7e859858a07e4d2db0fe3fbb96b9b8da",
       "max": 30,
       "min": 1,
       "style": "IPY_MODEL_dce96f2d503147e399c2d2db88c8d77d",
       "value": 2
      }
     },
     "e3e5b6057bfc4c00ac9b2438ae704734": {
      "model_module": "@jupyter-widgets/base",
      "model_module_version": "1.2.0",
      "model_name": "LayoutModel",
      "state": {}
     },
     "e4311972ee244a87828c76fdeab1a49c": {
      "model_module": "@jupyter-widgets/base",
      "model_module_version": "1.2.0",
      "model_name": "LayoutModel",
      "state": {}
     },
     "e8f456e9b783408bb4d81c8e61a3124f": {
      "model_module": "@jupyter-widgets/base",
      "model_module_version": "1.2.0",
      "model_name": "LayoutModel",
      "state": {}
     },
     "edda74c7abab4b6dbb43fa9308980fc9": {
      "model_module": "@jupyter-widgets/controls",
      "model_module_version": "1.5.0",
      "model_name": "ButtonModel",
      "state": {
       "description": "Run Interact",
       "layout": "IPY_MODEL_d0c3dc1c937d4554b049955ff5a08494",
       "style": "IPY_MODEL_c2e1ca15636c4feda1f1512d57eebfec"
      }
     },
     "ee067f6e094c45198115d9556bd25207": {
      "model_module": "@jupyter-widgets/base",
      "model_module_version": "1.2.0",
      "model_name": "LayoutModel",
      "state": {}
     },
     "eefe6d1e02ef4e08b2139f7f8e1673de": {
      "model_module": "@jupyter-widgets/base",
      "model_module_version": "1.2.0",
      "model_name": "LayoutModel",
      "state": {}
     },
     "f288d0021a7649769067581ab54221ef": {
      "model_module": "@jupyter-widgets/base",
      "model_module_version": "1.2.0",
      "model_name": "LayoutModel",
      "state": {}
     },
     "f51ff6a34c894009a47a7b67ac34c413": {
      "model_module": "@jupyter-widgets/base",
      "model_module_version": "1.2.0",
      "model_name": "LayoutModel",
      "state": {}
     },
     "fceb9fdf106e4ef0b7de148b5fad1085": {
      "model_module": "@jupyter-widgets/base",
      "model_module_version": "1.2.0",
      "model_name": "LayoutModel",
      "state": {}
     },
     "fd4fefdcf2554c339d3bb00b9e6de48b": {
      "model_module": "@jupyter-widgets/controls",
      "model_module_version": "1.5.0",
      "model_name": "IntSliderModel",
      "state": {
       "continuous_update": false,
       "description": "Grado del polinomio:",
       "layout": "IPY_MODEL_9d55f35c671442c182f890342ff66549",
       "max": 30,
       "min": 1,
       "style": "IPY_MODEL_d6dec2aa7a0548b0a04b9c8a566593e6",
       "value": 2
      }
     },
     "ff21d12d5ab24b44bce12ecb01d8c66c": {
      "model_module": "@jupyter-widgets/controls",
      "model_module_version": "1.5.0",
      "model_name": "SliderStyleModel",
      "state": {
       "description_width": ""
      }
     },
     "fff66842bb8b48dc862e794c8eb4925d": {
      "model_module": "@jupyter-widgets/controls",
      "model_module_version": "1.5.0",
      "model_name": "ButtonStyleModel",
      "state": {}
     }
    },
    "version_major": 2,
    "version_minor": 0
   }
  }
 },
 "nbformat": 4,
 "nbformat_minor": 2
}
