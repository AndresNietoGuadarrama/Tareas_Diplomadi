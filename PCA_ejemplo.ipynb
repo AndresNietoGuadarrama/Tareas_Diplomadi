{
 "cells": [
  {
   "cell_type": "markdown",
   "metadata": {},
   "source": [
    "# Ejemplo de PCA\n",
    "\n",
    "### Andrés Nieto Guadarrama"
   ]
  },
  {
   "cell_type": "code",
   "execution_count": null,
   "metadata": {},
   "outputs": [],
   "source": [
    "!pip uninstall tensorflow\n",
    "#!conda install tensorflow\n",
    "import sys\n",
    "!conda install --yes --prefix {sys.prefix} pandas\n",
    "from sklearn.decomposition import PCA\n",
    "from numpy.linalg import svd\n",
    "from tensorflow.keras import datasets"
   ]
  },
  {
   "cell_type": "code",
   "execution_count": null,
   "metadata": {},
   "outputs": [],
   "source": [
    "train, test = datasets.mnist.load_data()\n",
    "xtrain, ytrain = train"
   ]
  },
  {
   "cell_type": "code",
   "execution_count": null,
   "metadata": {},
   "outputs": [],
   "source": [
    "from sklearn.neighbors import KNeighborsClassifier\n",
    "from sklearn.pipeline import Pipeline\n",
    "\n",
    "pipe_PCA_kmean=Pipeline([('pca',PCA(n_components=0.7)),('kmean',KNeighborsClassifier(n_components=5))])\n",
    "pipe_kmean=Pipeline([('kmean',KNeighborsClassifier(n_components=5))])\n",
    "\n",
    "pipe_PCA_kmean.fit(xtrain,ytrain)\n",
    "pipe_kmean.fit(xtrain,ytrain)"
   ]
  },
  {
   "cell_type": "code",
   "execution_count": null,
   "metadata": {},
   "outputs": [],
   "source": [
    "%%time\n",
    "cv_PCA_kmean = cross_validate(pipe_PCA_kmean, xtrain, ytrain, cv=3, scoring=[\"r2\"])\n",
    "print(f\"Coeficiente de determinación modelo PCA + Kmeans: {cv_PCA_kmean[\"test_r2\"].mean()}\")"
   ]
  },
  {
   "cell_type": "code",
   "execution_count": null,
   "metadata": {},
   "outputs": [],
   "source": [
    "%%time\n",
    "cv_kmean = cross_validate(pipe_kmean, xtrain, ytrain, cv=3, scoring=[\"r2\", \"neg_mean_absolute_error\"])\n",
    "print(f\"Coeficiente de determinación modelo Kmeans: {cv_kmean[\"test_r2\"].mean()}\")"
   ]
  }
 ],
 "metadata": {
  "kernelspec": {
   "display_name": "Python 3",
   "language": "python",
   "name": "python3"
  },
  "language_info": {
   "codemirror_mode": {
    "name": "ipython",
    "version": 3
   },
   "file_extension": ".py",
   "mimetype": "text/x-python",
   "name": "python",
   "nbconvert_exporter": "python",
   "pygments_lexer": "ipython3",
   "version": "3.7.4"
  }
 },
 "nbformat": 4,
 "nbformat_minor": 2
}
