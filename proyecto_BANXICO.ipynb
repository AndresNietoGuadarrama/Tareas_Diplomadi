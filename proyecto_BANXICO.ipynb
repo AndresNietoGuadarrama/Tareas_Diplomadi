{
 "cells": [
  {
   "cell_type": "markdown",
   "metadata": {},
   "source": [
    "# Proyecto: Webscrapping página de Banxico"
   ]
  },
  {
   "cell_type": "markdown",
   "metadata": {},
   "source": [
    "### Andrés Nieto Guadarrama\n",
    "### 000119266"
   ]
  },
  {
   "cell_type": "markdown",
   "metadata": {},
   "source": [
    "Librerías necesarias:"
   ]
  },
  {
   "cell_type": "code",
   "execution_count": 1,
   "metadata": {},
   "outputs": [],
   "source": [
    "import requests\n",
    "import pandas as pd\n",
    "import matplotlib.pyplot as plt\n",
    "import requests_html\n",
    "import pickle\n",
    "import numpy as np\n",
    "from requests_html import HTMLSession\n",
    "from collections import defaultdict\n",
    "from unidecode import unidecode\n",
    "from datetime import datetime\n",
    "\n",
    "import nltk\n",
    "import pandas as pd\n",
    "import numpy as np\n",
    "from collections import Counter\n",
    "from nltk.tokenize import RegexpTokenizer"
   ]
  },
  {
   "cell_type": "markdown",
   "metadata": {},
   "source": [
    "Formato para gráficos:"
   ]
  },
  {
   "cell_type": "code",
   "execution_count": 2,
   "metadata": {},
   "outputs": [],
   "source": [
    "%config InlineBackend.figure_format = \"retina\"\n",
    "plt.rcParams[\"figure.figsize\"] = (12, 4)"
   ]
  },
  {
   "cell_type": "markdown",
   "metadata": {},
   "source": [
    "URL con la información de política monetaria de BANXICO: (guardada como tupla)"
   ]
  },
  {
   "cell_type": "code",
   "execution_count": 3,
   "metadata": {},
   "outputs": [],
   "source": [
    "url = (\"https://www.banxico.org.mx/publicaciones-y-prensa/\"\n",
    "      \"anuncios-de-las-decisiones-de-politica-monetaria/\"\n",
    "      \"anuncios-politica-monetaria-t.html\")"
   ]
  },
  {
   "cell_type": "markdown",
   "metadata": {},
   "source": [
    "### Ejercicio 1"
   ]
  },
  {
   "cell_type": "code",
   "execution_count": 4,
   "metadata": {},
   "outputs": [],
   "source": [
    "#Lectura de la página\n",
    "with HTMLSession() as sess:\n",
    "    r = sess.get(url)\n",
    "r\n",
    "\n",
    "filename=\"andres_nieto\"\n",
    "outfile = open(filename,'wb')"
   ]
  },
  {
   "cell_type": "code",
   "execution_count": 5,
   "metadata": {},
   "outputs": [
    {
     "data": {
      "text/html": [
       "<div>\n",
       "<style scoped>\n",
       "    .dataframe tbody tr th:only-of-type {\n",
       "        vertical-align: middle;\n",
       "    }\n",
       "\n",
       "    .dataframe tbody tr th {\n",
       "        vertical-align: top;\n",
       "    }\n",
       "\n",
       "    .dataframe thead th {\n",
       "        text-align: right;\n",
       "    }\n",
       "</style>\n",
       "<table border=\"1\" class=\"dataframe\">\n",
       "  <thead>\n",
       "    <tr style=\"text-align: right;\">\n",
       "      <th></th>\n",
       "      <th>Fecha</th>\n",
       "      <th>Resumen</th>\n",
       "      <th>Link</th>\n",
       "    </tr>\n",
       "  </thead>\n",
       "  <tbody>\n",
       "    <tr>\n",
       "      <th>104</th>\n",
       "      <td>2008-02-15</td>\n",
       "      <td>El objetivo para la Tasa de Inter�s Interbanca...</td>\n",
       "      <td>https://www.banxico.org.mx/publicaciones-y-pre...</td>\n",
       "    </tr>\n",
       "    <tr>\n",
       "      <th>103</th>\n",
       "      <td>2008-03-14</td>\n",
       "      <td>El objetivo para la Tasa de Inter�s Interbanca...</td>\n",
       "      <td>https://www.banxico.org.mx/publicaciones-y-pre...</td>\n",
       "    </tr>\n",
       "    <tr>\n",
       "      <th>102</th>\n",
       "      <td>2008-04-18</td>\n",
       "      <td>El objetivo para la Tasa de Inter�s Interbanca...</td>\n",
       "      <td>https://www.banxico.org.mx/publicaciones-y-pre...</td>\n",
       "    </tr>\n",
       "    <tr>\n",
       "      <th>101</th>\n",
       "      <td>2008-05-16</td>\n",
       "      <td>El objetivo para la Tasa de Inter�s Interbanca...</td>\n",
       "      <td>https://www.banxico.org.mx/publicaciones-y-pre...</td>\n",
       "    </tr>\n",
       "    <tr>\n",
       "      <th>100</th>\n",
       "      <td>2008-06-20</td>\n",
       "      <td>El objetivo para la Tasa de Inter�s Interbanca...</td>\n",
       "      <td>https://www.banxico.org.mx/publicaciones-y-pre...</td>\n",
       "    </tr>\n",
       "  </tbody>\n",
       "</table>\n",
       "</div>"
      ],
      "text/plain": [
       "         Fecha                                            Resumen  \\\n",
       "104 2008-02-15  El objetivo para la Tasa de Inter�s Interbanca...   \n",
       "103 2008-03-14  El objetivo para la Tasa de Inter�s Interbanca...   \n",
       "102 2008-04-18  El objetivo para la Tasa de Inter�s Interbanca...   \n",
       "101 2008-05-16  El objetivo para la Tasa de Inter�s Interbanca...   \n",
       "100 2008-06-20  El objetivo para la Tasa de Inter�s Interbanca...   \n",
       "\n",
       "                                                  Link  \n",
       "104  https://www.banxico.org.mx/publicaciones-y-pre...  \n",
       "103  https://www.banxico.org.mx/publicaciones-y-pre...  \n",
       "102  https://www.banxico.org.mx/publicaciones-y-pre...  \n",
       "101  https://www.banxico.org.mx/publicaciones-y-pre...  \n",
       "100  https://www.banxico.org.mx/publicaciones-y-pre...  "
      ]
     },
     "execution_count": 5,
     "metadata": {},
     "output_type": "execute_result"
    }
   ],
   "source": [
    "mi_dict_auxiliar=defaultdict(list)\n",
    "\n",
    "tablas=r.html.find(\"tbody\", first=True)\n",
    "trs=tablas.find(\"tr\")\n",
    "cont=0\n",
    "for tr in trs:\n",
    "    \n",
    "    fecha=datetime.strptime(tr.find(\"span\",first=True).text, '%d/%m/%y')\n",
    "    resumen=tr.find(\"td[class='bmtextview']\",first=True).text.rstrip('Texto completo')\n",
    "    link,*_=tr.find(\"td[class='bmtextview']\",first=True).absolute_links\n",
    "\n",
    "    if fecha.year>2008:\n",
    "    \n",
    "        mi_dict_auxiliar['Fecha'].append(datetime.strptime(fecha.strftime(\"%y-%m-%d\"),\"%y-%m-%d\"))\n",
    "        mi_dict_auxiliar['Resumen'].append(resumen)\n",
    "        mi_dict_auxiliar['Link'].append(link)\n",
    "    \n",
    "    elif fecha.month>=2:\n",
    "        \n",
    "        mi_dict_auxiliar['Fecha'].append(datetime.strptime(fecha.strftime(\"%y-%m-%d\"),\"%y-%m-%d\"))\n",
    "        mi_dict_auxiliar['Resumen'].append(resumen)\n",
    "        mi_dict_auxiliar['Link'].append(link)\n",
    "    \n",
    "    else: \n",
    "        \n",
    "        break\n",
    "    \n",
    "df=pd.DataFrame(mi_dict_auxiliar)\n",
    "banxico_df=df.iloc[::-1]\n",
    "#-------------------------------------------------DataFrame resultado----------------------------------------------------------\n",
    "banxico_df.head(5)"
   ]
  },
  {
   "cell_type": "markdown",
   "metadata": {},
   "source": [
    "# Ejercicio 2"
   ]
  },
  {
   "cell_type": "code",
   "execution_count": 6,
   "metadata": {},
   "outputs": [],
   "source": [
    "aux=banxico_df['Resumen'].str.extract(r\"(mantiene|incrementa|disminuye)\",expand=False)\n",
    "banxico_df_ej2=banxico_df\n",
    "banxico_df_ej2.insert(loc=3,column=\"Categoría\",value=list(aux))"
   ]
  },
  {
   "cell_type": "code",
   "execution_count": 7,
   "metadata": {},
   "outputs": [
    {
     "data": {
      "text/html": [
       "<div>\n",
       "<style scoped>\n",
       "    .dataframe tbody tr th:only-of-type {\n",
       "        vertical-align: middle;\n",
       "    }\n",
       "\n",
       "    .dataframe tbody tr th {\n",
       "        vertical-align: top;\n",
       "    }\n",
       "\n",
       "    .dataframe thead th {\n",
       "        text-align: right;\n",
       "    }\n",
       "</style>\n",
       "<table border=\"1\" class=\"dataframe\">\n",
       "  <thead>\n",
       "    <tr style=\"text-align: right;\">\n",
       "      <th></th>\n",
       "      <th>Fecha</th>\n",
       "      <th>Resumen</th>\n",
       "      <th>Link</th>\n",
       "      <th>Categoría</th>\n",
       "    </tr>\n",
       "  </thead>\n",
       "  <tbody>\n",
       "    <tr>\n",
       "      <th>104</th>\n",
       "      <td>2008-02-15</td>\n",
       "      <td>El objetivo para la Tasa de Inter�s Interbanca...</td>\n",
       "      <td>https://www.banxico.org.mx/publicaciones-y-pre...</td>\n",
       "      <td>mantiene</td>\n",
       "    </tr>\n",
       "    <tr>\n",
       "      <th>103</th>\n",
       "      <td>2008-03-14</td>\n",
       "      <td>El objetivo para la Tasa de Inter�s Interbanca...</td>\n",
       "      <td>https://www.banxico.org.mx/publicaciones-y-pre...</td>\n",
       "      <td>mantiene</td>\n",
       "    </tr>\n",
       "    <tr>\n",
       "      <th>102</th>\n",
       "      <td>2008-04-18</td>\n",
       "      <td>El objetivo para la Tasa de Inter�s Interbanca...</td>\n",
       "      <td>https://www.banxico.org.mx/publicaciones-y-pre...</td>\n",
       "      <td>mantiene</td>\n",
       "    </tr>\n",
       "    <tr>\n",
       "      <th>101</th>\n",
       "      <td>2008-05-16</td>\n",
       "      <td>El objetivo para la Tasa de Inter�s Interbanca...</td>\n",
       "      <td>https://www.banxico.org.mx/publicaciones-y-pre...</td>\n",
       "      <td>mantiene</td>\n",
       "    </tr>\n",
       "    <tr>\n",
       "      <th>100</th>\n",
       "      <td>2008-06-20</td>\n",
       "      <td>El objetivo para la Tasa de Inter�s Interbanca...</td>\n",
       "      <td>https://www.banxico.org.mx/publicaciones-y-pre...</td>\n",
       "      <td>incrementa</td>\n",
       "    </tr>\n",
       "  </tbody>\n",
       "</table>\n",
       "</div>"
      ],
      "text/plain": [
       "         Fecha                                            Resumen  \\\n",
       "104 2008-02-15  El objetivo para la Tasa de Inter�s Interbanca...   \n",
       "103 2008-03-14  El objetivo para la Tasa de Inter�s Interbanca...   \n",
       "102 2008-04-18  El objetivo para la Tasa de Inter�s Interbanca...   \n",
       "101 2008-05-16  El objetivo para la Tasa de Inter�s Interbanca...   \n",
       "100 2008-06-20  El objetivo para la Tasa de Inter�s Interbanca...   \n",
       "\n",
       "                                                  Link   Categoría  \n",
       "104  https://www.banxico.org.mx/publicaciones-y-pre...    mantiene  \n",
       "103  https://www.banxico.org.mx/publicaciones-y-pre...    mantiene  \n",
       "102  https://www.banxico.org.mx/publicaciones-y-pre...    mantiene  \n",
       "101  https://www.banxico.org.mx/publicaciones-y-pre...    mantiene  \n",
       "100  https://www.banxico.org.mx/publicaciones-y-pre...  incrementa  "
      ]
     },
     "execution_count": 7,
     "metadata": {},
     "output_type": "execute_result"
    }
   ],
   "source": [
    "banxico_df_ej2.head(5)"
   ]
  },
  {
   "cell_type": "markdown",
   "metadata": {},
   "source": [
    "# Ejercicio 3"
   ]
  },
  {
   "cell_type": "markdown",
   "metadata": {},
   "source": [
    "¿En cuantas decisiones de política monetaria el Banco de México se incrementó, mantuvo o disminuyó la tasa de referencia?"
   ]
  },
  {
   "cell_type": "code",
   "execution_count": 8,
   "metadata": {},
   "outputs": [
    {
     "data": {
      "text/plain": [
       "{'mantiene': 72, 'incrementa': 18, 'disminuye': 15}"
      ]
     },
     "execution_count": 8,
     "metadata": {},
     "output_type": "execute_result"
    }
   ],
   "source": [
    "arr=np.array(banxico_df[\"Categoría\"])\n",
    "llaves=['mantiene','incrementa','disminuye']\n",
    "diccionario_numero_cambios={l:sum(arr==l) for l in llaves}\n",
    "diccionario_numero_cambios"
   ]
  },
  {
   "cell_type": "markdown",
   "metadata": {},
   "source": [
    "# Ejercicio 4"
   ]
  },
  {
   "cell_type": "code",
   "execution_count": 9,
   "metadata": {},
   "outputs": [
    {
     "name": "stderr",
     "output_type": "stream",
     "text": [
      "C:\\Users\\AN012491\\AppData\\Local\\Continuum\\anaconda3\\lib\\site-packages\\ipykernel_launcher.py:13: SettingWithCopyWarning: \n",
      "A value is trying to be set on a copy of a slice from a DataFrame.\n",
      "Try using .loc[row_indexer,col_indexer] = value instead\n",
      "\n",
      "See the caveats in the documentation: http://pandas.pydata.org/pandas-docs/stable/user_guide/indexing.html#returning-a-view-versus-a-copy\n",
      "  del sys.path[0]\n"
     ]
    }
   ],
   "source": [
    "'''\n",
    "Gráfica 1\n",
    "'''\n",
    "\n",
    "cat=[]\n",
    "for i in list(banxico_df.index):\n",
    "    if banxico_df[\"Categoría\"][i]==\"disminuye\":\n",
    "        cat.append(-1)\n",
    "    elif banxico_df[\"Categoría\"][i]==\"mantiene\":\n",
    "        cat.append(0)\n",
    "    else:\n",
    "        cat.append(1)\n",
    "banxico_df_ej2[\"cat_values\"]=cat\n",
    "\n",
    "'''\n",
    "Gráfica 2\n",
    "'''\n",
    "\n",
    "df_graficas=pd.DataFrame({\"conteo\":list(diccionario_numero_cambios.values())},index=list(diccionario_numero_cambios.keys()))\n"
   ]
  },
  {
   "cell_type": "markdown",
   "metadata": {},
   "source": [
    "### Graficación"
   ]
  },
  {
   "cell_type": "code",
   "execution_count": 10,
   "metadata": {},
   "outputs": [
    {
     "data": {
      "image/png": "[encoded data removed]",
      "text/plain": [
       "<Figure size 1296x360 with 2 Axes>"
      ]
     },
     "metadata": {
      "image/png": {
       "height": 316,
       "width": 1040
      },
      "needs_background": "light"
     },
     "output_type": "display_data"
    }
   ],
   "source": [
    "\n",
    "fig, ax = plt.subplots(1,2, figsize=(18, 5))\n",
    "banxico_df.plot(ax=ax[0],x=\"Fecha\",y=\"cat_values\",style=\"+\",yticks=[-1,0,1],grid=True,title=\"Decisión de política monetaria: -1=disminuye, 0=mantiene, 1=incrementa\")\n",
    "ax[0].get_legend().remove()\n",
    "df_graficas.plot.bar(ax=ax[1],rot=0,title=\"Frecuencia absoluta por categoría\")\n",
    "plt.show()"
   ]
  },
  {
   "cell_type": "markdown",
   "metadata": {},
   "source": [
    "# Ejercicio 5"
   ]
  },
  {
   "cell_type": "code",
   "execution_count": 11,
   "metadata": {},
   "outputs": [
    {
     "data": {
      "text/plain": [
       "Fecha       Categoría \n",
       "2008-12-31  incrementa     3\n",
       "            mantiene       7\n",
       "2009-12-31  disminuye      7\n",
       "            mantiene       4\n",
       "2010-12-31  mantiene      11\n",
       "2011-12-31  mantiene       8\n",
       "2012-12-31  mantiene       8\n",
       "2013-12-31  disminuye      3\n",
       "            mantiene       5\n",
       "2014-12-31  disminuye      1\n",
       "            mantiene       7\n",
       "2015-12-31  incrementa     1\n",
       "            mantiene       7\n",
       "2016-12-31  incrementa     5\n",
       "            mantiene       4\n",
       "2017-12-31  incrementa     5\n",
       "            mantiene       3\n",
       "2018-12-31  incrementa     4\n",
       "            mantiene       4\n",
       "2019-12-31  disminuye      4\n",
       "            mantiene       4\n",
       "Name: Categoría, dtype: int64"
      ]
     },
     "execution_count": 11,
     "metadata": {},
     "output_type": "execute_result"
    }
   ],
   "source": [
    "df_test=banxico_df\n",
    "\n",
    "df_test.index=df_test[\"Fecha\"]\n",
    "\n",
    "grouper = df_test.groupby([pd.Grouper(freq='Y'), 'Categoría'])\n",
    "\n",
    "df_anual=grouper['Categoría'].count()\n",
    "\n",
    "df_anual"
   ]
  },
  {
   "cell_type": "markdown",
   "metadata": {},
   "source": [
    "# Ejercicio 6"
   ]
  },
  {
   "cell_type": "code",
   "execution_count": 12,
   "metadata": {},
   "outputs": [
    {
     "data": {
      "image/png": "[encoded data removed]",
      "text/plain": [
       "<Figure size 1080x504 with 1 Axes>"
      ]
     },
     "metadata": {
      "image/png": {
       "height": 424,
       "width": 884
      },
      "needs_background": "light"
     },
     "output_type": "display_data"
    }
   ],
   "source": [
    "df_anual2=df_anual.unstack('Categoría')\n",
    "fig2, ax2 = plt.subplots(figsize=(15,7))\n",
    "df_anual2.plot(rot=0,kind='bar', stacked=True,ax=ax2,grid=True)\n",
    "ax2.set_xticklabels(list(range(2008,2020)), rotation=0)\n",
    "ax2.set_ylabel(\"frecuencia absoluta\")\n",
    "plt.show()"
   ]
  },
  {
   "cell_type": "markdown",
   "metadata": {},
   "source": [
    "# Creación del archivo .pkl"
   ]
  },
  {
   "cell_type": "code",
   "execution_count": 13,
   "metadata": {},
   "outputs": [],
   "source": [
    "import pickle\n",
    "filename=\"andres_nieto.pkl\""
   ]
  },
  {
   "cell_type": "code",
   "execution_count": 14,
   "metadata": {},
   "outputs": [],
   "source": [
    "'''\n",
    "Crearemos dos funciones para almacenar las gráficas en el pickle:\n",
    "'''\n",
    "\n",
    "def fig_1(banxico_df,df_graficas):\n",
    "    fig, ax = plt.subplots(1,2, figsize=(18, 5))\n",
    "    banxico_df.plot(ax=ax[0],x=\"Fecha\",y=\"cat_values\",style=\"+\",yticks=[-1,0,1],grid=True,title=\"Decisión de política monetaria: -1=disminuye, 0=mantiene, 1=incrementa\")\n",
    "    ax[0].get_legend().remove()\n",
    "    df_graficas.plot.bar(ax=ax[1],rot=0,title=\"Frecuencia absoluta por categoría\")\n",
    "    plt.show()\n",
    "\n",
    "def fig_2(df_anual):\n",
    "    df_anual2=df_anual.unstack('Categoría')\n",
    "    fig2, ax2 = plt.subplots(figsize=(15,7))\n",
    "    df_anual2.plot(rot=0,kind='bar', stacked=True,ax=ax2,grid=True)\n",
    "    ax2.set_xticklabels(list(range(2008,2020)), rotation=0)\n",
    "    ax2.set_ylabel(\"frecuencia absoluta\")\n",
    "    plt.show()\n"
   ]
  },
  {
   "cell_type": "code",
   "execution_count": 15,
   "metadata": {},
   "outputs": [
    {
     "data": {
      "text/plain": [
       "\"\\nLos datos se almacenarán en un diccionario con las siguientes llaves: \\nBANXICO: banxico_dataframe. Dataframe con el webscripping y la columna de categoría.\\nANUAL: la sub_dataframe con el conteo de las categorías 'disminuye', 'mantiene' o 'incrementa' agrupadas por año.\\nGRAFICAS: Resume conteo de categorías sin agrupar, para generar la primera gráfica de barras.\\nfigura_1: función para crear la primera figura de la tarea. LLamar con BANXICO y GRAFICAS.\\nfigura_2: función para crear la segunda figura de la tarea. LLamar con ANUAL.\\n\\nSeguir éste orden al leer el archivo .pkl\\n\""
      ]
     },
     "execution_count": 15,
     "metadata": {},
     "output_type": "execute_result"
    }
   ],
   "source": [
    "'''\n",
    "Los datos se almacenarán en un diccionario con las siguientes llaves: \n",
    "BANXICO: banxico_dataframe. Dataframe con el webscripping y la columna de categoría.\n",
    "ANUAL: la sub_dataframe con el conteo de las categorías 'disminuye', 'mantiene' o 'incrementa' agrupadas por año.\n",
    "GRAFICAS: Resume conteo de categorías sin agrupar, para generar la primera gráfica de barras.\n",
    "figura_1: función para crear la primera figura de la tarea. LLamar con BANXICO y GRAFICAS.\n",
    "figura_2: función para crear la segunda figura de la tarea. LLamar con ANUAL.\n",
    "\n",
    "Seguir éste orden al leer el archivo .pkl\n",
    "'''"
   ]
  },
  {
   "cell_type": "code",
   "execution_count": 16,
   "metadata": {},
   "outputs": [],
   "source": [
    "import dill as pickl\n",
    "data={\"BANXICO\":banxico_df,\"ANUAL\":df_anual,\"GRAFICAS\":df_graficas,\"figura_1\":fig_1,\"figura_2\":fig_2}"
   ]
  },
  {
   "cell_type": "code",
   "execution_count": 17,
   "metadata": {},
   "outputs": [],
   "source": [
    "with open(filename, \"wb\") as f:\n",
    "    pickl.dump(data, f)"
   ]
  },
  {
   "cell_type": "markdown",
   "metadata": {},
   "source": [
    "### Comprobación (en notebook lectura_pickles.ipynb)"
   ]
  },
  {
   "cell_type": "markdown",
   "metadata": {},
   "source": [
    "# Segunda parte"
   ]
  },
  {
   "cell_type": "markdown",
   "metadata": {},
   "source": [
    "### Filtrado de dataframe por categoría"
   ]
  },
  {
   "cell_type": "code",
   "execution_count": 18,
   "metadata": {},
   "outputs": [],
   "source": [
    "banxico_dataframe_disminuye=banxico_df[banxico_df_ej2[\"Categoría\"]==\"disminuye\"]\n",
    "banxico_dataframe_mantiene=banxico_df[banxico_df_ej2[\"Categoría\"]==\"mantiene\"]\n",
    "banxico_dataframe_incrementa=banxico_df[banxico_df_ej2[\"Categoría\"]==\"incrementa\"]"
   ]
  },
  {
   "cell_type": "markdown",
   "metadata": {},
   "source": [
    "### Lectura de archivos .pdf"
   ]
  },
  {
   "cell_type": "code",
   "execution_count": 19,
   "metadata": {},
   "outputs": [],
   "source": [
    "import io,os,urllib,PyPDF2\n",
    "from io import StringIO\n",
    "from urllib import request\n",
    "\n",
    "url2=banxico_dataframe_disminuye[\"Link\"].iloc[0]\n",
    "contenido=request.urlopen(url2).read()\n",
    "\n",
    "filename = \"pdfEexample.pdf\"\n",
    "with open(filename, \"wb\") as file:\n",
    "    file.write(contenido) \n",
    "\n",
    "#getPDFContent(filename) funciona!\n",
    "\n",
    "def creaPDF(URL,i,cat):\n",
    "    '''\n",
    "    Guardará en carpeta anuncios_cat (cat=disminuye,mantiene,aumenta) \n",
    "    los anuncios donde se dio la decisión correspondiente:\n",
    "    '''\n",
    "    contenido=request.urlopen(URL).read()\n",
    "    filename = \"anuncios_\"+cat+\"/\"+\"anuncio_\"+cat+'_'+str(i)+\".pdf\"\n",
    "    with open(os.path.normpath(filename), \"wb\") as file:\n",
    "        file.write(contenido)\n",
    "    return filename\n",
    "    \n",
    "def getPDFContent(path):\n",
    "    content = \"\"\n",
    "    # carga la información del archivo .pdf a Python\n",
    "    ruta=os.path.normpath(path)\n",
    "    with open(ruta,'rb') as f:\n",
    "        pdfFileObj=f.read()\n",
    "    pdfReader = PyPDF2.PdfFileReader(ruta)\n",
    "    # Iteración sobre el número de páginas del pdf\n",
    "    for i in range(pdfReader.numPages):\n",
    "    # Extracción y limpieza del texto\n",
    "        content += pdfReader.getPage(i).extractText() + \"\\n\"\n",
    "    content=content.replace(\"\\n\",\"\").replace(\"  \",\" \")\n",
    "    content=content.lower().replace(\"á\",\"a\").replace(\"é\",\"e\").replace(\"í\",\"i\").replace(\"ó\",\"o\").replace(\"ú\",\"u\")\n",
    "    return content[1:len(content)-1:1]"
   ]
  },
  {
   "cell_type": "markdown",
   "metadata": {},
   "source": [
    "$$\\textbf{ADVERTENCIA}$$\n",
    "\n",
    "\n",
    "                    EJECUTAR ESTE CÓDIGO DEJANDO DESCANSAR A LA COMPUTADORA. TIEMPO APROX. 30 MINS\n",
    "                EJECUTAR LA SIGUIENTE CELDA SÓLO UNA VEZ (CON EL FIN DE DESCARGAR LOS ARCHIVOS .PDF SOLO UNA VEZ). \n",
    "                           PARA EL RESTO DE LAS PRUEBAS USAR LA CELDA POSTERIOR A LA SIGUIENTE \n"
   ]
  },
  {
   "cell_type": "code",
   "execution_count": 20,
   "metadata": {
    "scrolled": true
   },
   "outputs": [],
   "source": [
    "import io,os,urllib,PyPDF2\n",
    "from io import StringIO\n",
    "from urllib import request\n",
    "import time\n",
    "\n",
    "\n",
    "# #Creación de carpetas:\n",
    "\n",
    "import os\n",
    "directorios=[\"anuncios_mantiene\",\"anuncios_disminuye\",\"anuncios_incrementa\"]\n",
    "for _dir in directorios:\n",
    "    if not os.path.exists(_dir):\n",
    "        os.makedirs(_dir)\n",
    "\n",
    "#Guardaré en cada lista los Strings correspondientes al anuncio, filtrados por decisión.\n",
    "\n",
    "Disminuye=[]\n",
    "Mantiene=[]\n",
    "Incrementa=[]\n",
    "\n",
    "#Comienzan los loops.El siguiente código crea el archivo .pdf para cada anuncio de la decisión de política monetaria,\n",
    "#lo guarda en las carpetas creadas previamente, y lo vuelve a leer desde la computadora para convertirlo a String que \n",
    "#se usará para hacer nlp mediante naïve Bayes,\n",
    "\n",
    "for i in range(len(banxico_dataframe_mantiene)):\n",
    "    url2=banxico_dataframe_mantiene[\"Link\"].iloc[i]\n",
    "    path=creaPDF(url2,i,cat=\"mantiene\")\n",
    "    Mantiene.append(getPDFContent(path))\n",
    "    time.sleep(30)\n",
    "\n",
    "for i in range(len(banxico_dataframe_incrementa)):\n",
    "    url2=banxico_dataframe_incrementa[\"Link\"].iloc[i]\n",
    "    path=creaPDF(url2,i,cat=\"incrementa\")\n",
    "    Incrementa.append(getPDFContent(path))\n",
    "    time.sleep(30)\n",
    "\n",
    "for i in range(len(banxico_dataframe_disminuye)):\n",
    "    url2=banxico_dataframe_disminuye[\"Link\"].iloc[i]\n",
    "    path=creaPDF(url2,i,cat=\"disminuye\")\n",
    "    Disminuye.append(getPDFContent(path))\n",
    "    time.sleep(30)"
   ]
  },
  {
   "cell_type": "markdown",
   "metadata": {},
   "source": [
    "                        Ejecutar la siguiente celda para recuperar las listas con el texto relativo\n",
    "                  a cada anuncio de política monetaria por clase luego de haber cargado la celda anterior"
   ]
  },
  {
   "cell_type": "code",
   "execution_count": 21,
   "metadata": {},
   "outputs": [
    {
     "name": "stderr",
     "output_type": "stream",
     "text": [
      "PdfReadWarning: Xref table not zero-indexed. ID numbers for objects will be corrected. [pdf.py:1736]\n"
     ]
    }
   ],
   "source": [
    "Disminuye=[]\n",
    "Mantiene=[]\n",
    "Incrementa=[]\n",
    "path=\"\"\n",
    "\n",
    "for i in range(len(banxico_dataframe_mantiene)):\n",
    "    cat=\"mantiene\"\n",
    "    path=\"anuncios_\"+cat+\"/\"+\"anuncio_\"+cat+'_'+str(i)+\".pdf\"\n",
    "    Mantiene.append(getPDFContent(path))\n",
    "\n",
    "for i in range(len(banxico_dataframe_incrementa)):\n",
    "    cat=\"incrementa\"\n",
    "    path=\"anuncios_\"+cat+\"/\"+\"anuncio_\"+cat+'_'+str(i)+\".pdf\"\n",
    "    Incrementa.append(getPDFContent(path))\n",
    "\n",
    "for i in range(len(banxico_dataframe_disminuye)):\n",
    "    cat=\"disminuye\"\n",
    "    path=\"anuncios_\"+cat+\"/\"+\"anuncio_\"+cat+'_'+str(i)+\".pdf\"\n",
    "    Disminuye.append(getPDFContent(path))"
   ]
  },
  {
   "cell_type": "markdown",
   "metadata": {},
   "source": [
    "# Modelo Naive-Bayes"
   ]
  },
  {
   "cell_type": "code",
   "execution_count": 46,
   "metadata": {},
   "outputs": [],
   "source": [
    "#Encontrar la matriz de probabilidades condicionales por palabra  \n",
    "\n",
    "def matriz_conteo(texto):\n",
    "    work_tokenizer = RegexpTokenizer(\"[A-z]+\")\n",
    "    tokens = work_tokenizer.tokenize(texto.lower())\n",
    "    unique_tokens = list(set(tokens))\n",
    "    gram2 = list(nltk.ngrams(tokens, 2))\n",
    "    counts = {tok: Counter([g[:-1] for g in gram2 if g[-1] in tok]) for tok in unique_tokens}\n",
    "    counts = pd.DataFrame(counts).fillna(0)\n",
    "    return counts,unique_tokens\n",
    "\n",
    "\n",
    "def conteo_clase(w,base_texto_clase):\n",
    "    '''\n",
    "    Ésta función devuelve el conteo de veces que aparece la palabra w en la base de texto\n",
    "    de la clase dada, el número de veces que aparece la palabra en toda la base de datos, \n",
    "    y el tamaño del vocabulario de la clase seleccionada. (Usar notas de clase)\n",
    "    '''\n",
    "    \n",
    "    #1. Cálculo de número de apariciones de w en la base de datos de textos que pertenecen a la categoría dada.\n",
    "    \n",
    "    #2. Cálculo del número de palabras que se dijeron en la categoría.\n",
    "    \n",
    "    #________________________________________________ -PASOS-___________________________________________________\n",
    "\n",
    "    # Conteo del número de veces que aparece la parabra 'w' en la base de anuncios de política monetaria\n",
    "    # pertenecientes a una categoría dada (mantiene, disminuye o aumenta).\n",
    "    \n",
    "    T=\"\"\n",
    "    n_w_clase=0\n",
    "    for t in base_texto_clase:\n",
    "        T+=t+\" \"\n",
    "    \n",
    "    matriz_conteo_categoria,tokens_unicos=matriz_conteo(T)\n",
    "    suma=matriz_conteo_categoria.apply(np.sum, axis=1)\n",
    "        \n",
    "    if w in suma.index:\n",
    "        n_w_clase=suma[w]\n",
    "    else:\n",
    "        n_w_clase=0\n",
    "        \n",
    "    #2: Vocabulario de categoría.\n",
    "    \n",
    "    n_w_total=0\n",
    "    for tok in suma.index:\n",
    "        n_w_total+=suma[tok]\n",
    "    \n",
    "    if type(n_w_clase)!=int and type(n_w_clase)!=np.float64:\n",
    "        n_w_clase=n_w_clase[0]\n",
    "    if type(n_w_total)!=int and type(n_w_total)!=np.float64:\n",
    "        n_w_total=n_w_total[0]\n",
    "        \n",
    "    return n_w_clase,n_w_total\n",
    "\n",
    "def suavizacion_Laplace(x):\n",
    "    w=x[0]\n",
    "    bd_categoria=x[1]\n",
    "    texto_analizar=x[2]   \n",
    "    n_w_en_clase,vocabulario_clase=conteo_clase(w,bd_categoria)\n",
    "    #Vocabulario del tezto a analizar\n",
    "    work_tokenizer = RegexpTokenizer(\"[A-z]+\")\n",
    "    tokens = work_tokenizer.tokenize(texto_analizar.lower())\n",
    "    unique_tokens = list(set(tokens))\n",
    "    vocabulario_texto=len(unique_tokens)\n",
    "    #Obtención de las probabilidades condicionales corregidas a través de la suavización de Laplace.\n",
    "    return (n_w_en_clase+1)/(vocabulario_clase+vocabulario_texto)\n",
    "\n",
    "\n",
    "def matriz_de_proba_condicional(d,base_texto_clase): #base_texto_clase=Mantiene, Disminuye o Incrementa.\n",
    "    '''\n",
    "    Ésta función devuelve una lista con las probabilidades P(w_i^k | Ck) \n",
    "    para cada i=1,...,|d| k=1,2,3 tomando a las columnas como categorías.\n",
    "    Se calculan las probabilidades por palabra con la suavización de Laplace.\n",
    "    '''\n",
    "    \n",
    "    lista_texto=d.split()\n",
    "    values=[]\n",
    "    for p in lista_texto:\n",
    "        values.append(float(suavizacion_Laplace([p,base_texto_clase,d])))\n",
    "    return values\n",
    "\n",
    "def matriz_probabilidades_maximas(d,Lista):\n",
    "    \n",
    "    '''\n",
    "    Esta función indica cual fue la categoría que maximiza \n",
    "    la probabilidad condicional dado el texto a analizar.\n",
    "    '''\n",
    "    \n",
    "    #Diccionario de probabilidades P(Ck), k=mantiene, disminuye, incrementa.\n",
    "    llaves=['mantiene','incrementa','disminuye']\n",
    "    dic_probabilidades_clase={l:diccionario_numero_cambios[l]/len(banxico_df) for l in llaves}\n",
    "    \n",
    "    resp=[]\n",
    "    for i in range(len(Lista)):\n",
    "        Pr=matriz_de_proba_condicional(d,Lista[i])\n",
    "        PrCk=dic_probabilidades_clase[llaves[i]]\n",
    "        r=log(PrCk)+sum(np.log(Pr))\n",
    "        resp.append(r)\n",
    "    \n",
    "    max_i=resp.index(max(resp))\n",
    "    \n",
    "    if np.sum(np.array(resp)==resp[max_i])>1:\n",
    "        print(\"El texto ingresado no aporta información sobre la futura decisión de política monetaria de BANXICO.\")\n",
    "    else:\n",
    "        if max_i==0:\n",
    "            print(\"El texto analizado pertenece a la categoría MANTENER (el modelo considera más probable que las tasas se mantengan dado el texto analizado)\")\n",
    "        elif max_i==1:\n",
    "            print(\"El texto analizado pertenece a la categoría INCREMENTAR (el modelo considera más probable que BANXICO aumente las tasas de interés dado el texto analizado)\")\n",
    "        else:\n",
    "            print(\"El texto analizado pertenece a la categoría DISMINUIR (el modelo considera más probable que BANXICO disminuya las tasas de interés dado el texto analizado)\")\n",
    "\n",
    "    M=np.diag(resp)\n",
    "    df=pd.DataFrame(M)\n",
    "    df.index=[\"mantiene\",\"disminuye\",\"incrementa\"]\n",
    "    df=df.rename(columns={n:c for n,c in zip([0,1,2],[\"mantiene\",\"disminuye\",\"incrementa\"])})\n",
    "    return df\n",
    "    "
   ]
  },
  {
   "cell_type": "markdown",
   "metadata": {},
   "source": [
    "# Ejecución del código"
   ]
  },
  {
   "cell_type": "code",
   "execution_count": 47,
   "metadata": {},
   "outputs": [
    {
     "name": "stdout",
     "output_type": "stream",
     "text": [
      "Nombre del archivo a leer con terminación .txt: texto_compara.txt\n",
      "El texto analizado pertenece a la categoría DISMINUIR (el modelo considera más probable que BANXICO disminuya las tasas de interés dado el texto analizado)\n",
      "Wall time: 3min 42s\n"
     ]
    },
    {
     "data": {
      "text/html": [
       "<div>\n",
       "<style scoped>\n",
       "    .dataframe tbody tr th:only-of-type {\n",
       "        vertical-align: middle;\n",
       "    }\n",
       "\n",
       "    .dataframe tbody tr th {\n",
       "        vertical-align: top;\n",
       "    }\n",
       "\n",
       "    .dataframe thead th {\n",
       "        text-align: right;\n",
       "    }\n",
       "</style>\n",
       "<table border=\"1\" class=\"dataframe\">\n",
       "  <thead>\n",
       "    <tr style=\"text-align: right;\">\n",
       "      <th></th>\n",
       "      <th>mantiene</th>\n",
       "      <th>disminuye</th>\n",
       "      <th>incrementa</th>\n",
       "    </tr>\n",
       "  </thead>\n",
       "  <tbody>\n",
       "    <tr>\n",
       "      <th>mantiene</th>\n",
       "      <td>-88.707384</td>\n",
       "      <td>0.000000</td>\n",
       "      <td>0.000000</td>\n",
       "    </tr>\n",
       "    <tr>\n",
       "      <th>disminuye</th>\n",
       "      <td>0.000000</td>\n",
       "      <td>-83.244385</td>\n",
       "      <td>0.000000</td>\n",
       "    </tr>\n",
       "    <tr>\n",
       "      <th>incrementa</th>\n",
       "      <td>0.000000</td>\n",
       "      <td>0.000000</td>\n",
       "      <td>-81.839665</td>\n",
       "    </tr>\n",
       "  </tbody>\n",
       "</table>\n",
       "</div>"
      ],
      "text/plain": [
       "             mantiene  disminuye  incrementa\n",
       "mantiene   -88.707384   0.000000    0.000000\n",
       "disminuye    0.000000 -83.244385    0.000000\n",
       "incrementa   0.000000   0.000000  -81.839665"
      ]
     },
     "execution_count": 47,
     "metadata": {},
     "output_type": "execute_result"
    }
   ],
   "source": [
    "%%time\n",
    "import multiprocessing,math\n",
    "from multiprocessing import Pool\n",
    "from math import log\n",
    "\n",
    "'''\n",
    "El siguiente código pide al usuario el nombre de un documento de formato .txt y devuelve la matriz de probabilidades\n",
    "de pertenecer a cada clase, imprimiendo un mensaje que indica la clase a la que pertenece.\n",
    "'''\n",
    "\n",
    "#Base de datos de todos los anuncios de politica monetaria:\n",
    "Lista=[Mantiene,Incrementa,Disminuye]\n",
    "\n",
    "#Lectura del texto a analizar (leámoslo como archivo .txt):\n",
    "archivo=input(\"Nombre del archivo a leer con terminación .txt: \")#Ejemplo: texto_compara.txt\n",
    "ruta=os.path.normpath(archivo)\n",
    "with open(ruta) as file:\n",
    "    d=file.read()\n",
    "    \n",
    "d=d.lower().replace(\"\\n\",\"\").replace(\"  \",\" \").replace(\"á\",\"a\").replace(\"é\",\"e\").replace(\"í\",\"i\").replace(\"ó\",\"o\").replace(\"ú\",\"u\")\n",
    "\n",
    "pool = Pool(processes=6)\n",
    "R=matriz_probabilidades_maximas(d,Lista)\n",
    "pool.close()\n",
    "\n",
    "R"
   ]
  }
 ],
 "metadata": {
  "kernelspec": {
   "display_name": "Python 3",
   "language": "python",
   "name": "python3"
  },
  "language_info": {
   "codemirror_mode": {
    "name": "ipython",
    "version": 3
   },
   "file_extension": ".py",
   "mimetype": "text/x-python",
   "name": "python",
   "nbconvert_exporter": "python",
   "pygments_lexer": "ipython3",
   "version": "3.7.4"
  }
 },
 "nbformat": 4,
 "nbformat_minor": 2
}
