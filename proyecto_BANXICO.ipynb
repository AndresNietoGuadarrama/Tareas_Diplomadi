{
 "cells": [
  {
   "cell_type": "markdown",
   "metadata": {},
   "source": [
    "# Proyecto: Webscrapping página de Banxico"
   ]
  },
  {
   "cell_type": "markdown",
   "metadata": {},
   "source": [
    "### Andrés Nieto Guadarrama\n",
    "### 000119266"
   ]
  },
  {
   "cell_type": "markdown",
   "metadata": {},
   "source": [
    "Librerías necesarias:"
   ]
  },
  {
   "cell_type": "code",
   "execution_count": 353,
   "metadata": {},
   "outputs": [],
   "source": [
    "import requests\n",
    "import pandas as pd\n",
    "import matplotlib.pyplot as plt\n",
    "import requests_html\n",
    "import pickle\n",
    "import numpy as np\n",
    "from requests_html import HTMLSession\n",
    "from collections import defaultdict\n",
    "from unidecode import unidecode\n",
    "from datetime import datetime"
   ]
  },
  {
   "cell_type": "markdown",
   "metadata": {},
   "source": [
    "Formato para gráficos:"
   ]
  },
  {
   "cell_type": "code",
   "execution_count": 354,
   "metadata": {},
   "outputs": [],
   "source": [
    "%config InlineBackend.figure_format = \"retina\"\n",
    "plt.rcParams[\"figure.figsize\"] = (12, 4)"
   ]
  },
  {
   "cell_type": "markdown",
   "metadata": {},
   "source": [
    "URL con la información de política monetaria de BANXICO: (guardada como tupla)"
   ]
  },
  {
   "cell_type": "code",
   "execution_count": 355,
   "metadata": {},
   "outputs": [],
   "source": [
    "url = (\"https://www.banxico.org.mx/publicaciones-y-prensa/\"\n",
    "      \"anuncios-de-las-decisiones-de-politica-monetaria/\"\n",
    "      \"anuncios-politica-monetaria-t.html\")"
   ]
  },
  {
   "cell_type": "markdown",
   "metadata": {},
   "source": [
    "### Ejercicio 1"
   ]
  },
  {
   "cell_type": "code",
   "execution_count": 356,
   "metadata": {},
   "outputs": [],
   "source": [
    "#Lectura de la página\n",
    "with HTMLSession() as sess:\n",
    "    r = sess.get(url)\n",
    "r\n",
    "\n",
    "filename=\"andres_nieto\"\n",
    "outfile = open(filename,'wb')"
   ]
  },
  {
   "cell_type": "code",
   "execution_count": 357,
   "metadata": {},
   "outputs": [
    {
     "data": {
      "text/html": [
       "<div>\n",
       "<style scoped>\n",
       "    .dataframe tbody tr th:only-of-type {\n",
       "        vertical-align: middle;\n",
       "    }\n",
       "\n",
       "    .dataframe tbody tr th {\n",
       "        vertical-align: top;\n",
       "    }\n",
       "\n",
       "    .dataframe thead th {\n",
       "        text-align: right;\n",
       "    }\n",
       "</style>\n",
       "<table border=\"1\" class=\"dataframe\">\n",
       "  <thead>\n",
       "    <tr style=\"text-align: right;\">\n",
       "      <th></th>\n",
       "      <th>Fecha</th>\n",
       "      <th>Resumen</th>\n",
       "      <th>Link</th>\n",
       "    </tr>\n",
       "  </thead>\n",
       "  <tbody>\n",
       "    <tr>\n",
       "      <th>103</th>\n",
       "      <td>2008-02-15</td>\n",
       "      <td>El objetivo para la Tasa de Inter�s Interbanca...</td>\n",
       "      <td>https://www.banxico.org.mx/publicaciones-y-pre...</td>\n",
       "    </tr>\n",
       "    <tr>\n",
       "      <th>102</th>\n",
       "      <td>2008-03-14</td>\n",
       "      <td>El objetivo para la Tasa de Inter�s Interbanca...</td>\n",
       "      <td>https://www.banxico.org.mx/publicaciones-y-pre...</td>\n",
       "    </tr>\n",
       "    <tr>\n",
       "      <th>101</th>\n",
       "      <td>2008-04-18</td>\n",
       "      <td>El objetivo para la Tasa de Inter�s Interbanca...</td>\n",
       "      <td>https://www.banxico.org.mx/publicaciones-y-pre...</td>\n",
       "    </tr>\n",
       "    <tr>\n",
       "      <th>100</th>\n",
       "      <td>2008-05-16</td>\n",
       "      <td>El objetivo para la Tasa de Inter�s Interbanca...</td>\n",
       "      <td>https://www.banxico.org.mx/publicaciones-y-pre...</td>\n",
       "    </tr>\n",
       "    <tr>\n",
       "      <th>99</th>\n",
       "      <td>2008-06-20</td>\n",
       "      <td>El objetivo para la Tasa de Inter�s Interbanca...</td>\n",
       "      <td>https://www.banxico.org.mx/publicaciones-y-pre...</td>\n",
       "    </tr>\n",
       "  </tbody>\n",
       "</table>\n",
       "</div>"
      ],
      "text/plain": [
       "         Fecha                                            Resumen  \\\n",
       "103 2008-02-15  El objetivo para la Tasa de Inter�s Interbanca...   \n",
       "102 2008-03-14  El objetivo para la Tasa de Inter�s Interbanca...   \n",
       "101 2008-04-18  El objetivo para la Tasa de Inter�s Interbanca...   \n",
       "100 2008-05-16  El objetivo para la Tasa de Inter�s Interbanca...   \n",
       "99  2008-06-20  El objetivo para la Tasa de Inter�s Interbanca...   \n",
       "\n",
       "                                                  Link  \n",
       "103  https://www.banxico.org.mx/publicaciones-y-pre...  \n",
       "102  https://www.banxico.org.mx/publicaciones-y-pre...  \n",
       "101  https://www.banxico.org.mx/publicaciones-y-pre...  \n",
       "100  https://www.banxico.org.mx/publicaciones-y-pre...  \n",
       "99   https://www.banxico.org.mx/publicaciones-y-pre...  "
      ]
     },
     "execution_count": 357,
     "metadata": {},
     "output_type": "execute_result"
    }
   ],
   "source": [
    "mi_dict_auxiliar=defaultdict(list)\n",
    "\n",
    "tablas=r.html.find(\"tbody\", first=True)\n",
    "trs=tablas.find(\"tr\")\n",
    "cont=0\n",
    "for tr in trs:\n",
    "    \n",
    "    fecha=datetime.strptime(tr.find(\"span\",first=True).text, '%d/%m/%y')\n",
    "    resumen=tr.find(\"td[class='bmtextview']\",first=True).text.rstrip('Texto completo')\n",
    "    link,*_=tr.find(\"td[class='bmtextview']\",first=True).absolute_links\n",
    "\n",
    "    if fecha.year>2008:\n",
    "    \n",
    "        mi_dict_auxiliar['Fecha'].append(datetime.strptime(fecha.strftime(\"%y-%m-%d\"),\"%y-%m-%d\"))\n",
    "        mi_dict_auxiliar['Resumen'].append(resumen)\n",
    "        mi_dict_auxiliar['Link'].append(link)\n",
    "    \n",
    "    elif fecha.month>=2:\n",
    "        \n",
    "        mi_dict_auxiliar['Fecha'].append(datetime.strptime(fecha.strftime(\"%y-%m-%d\"),\"%y-%m-%d\"))\n",
    "        mi_dict_auxiliar['Resumen'].append(resumen)\n",
    "        mi_dict_auxiliar['Link'].append(link)\n",
    "    \n",
    "    else: \n",
    "        \n",
    "        break\n",
    "    \n",
    "df=pd.DataFrame(mi_dict_auxiliar)\n",
    "banxico_df=df.iloc[::-1]\n",
    "#-------------------------------------------------DataFrame resultado----------------------------------------------------------\n",
    "banxico_df.head(5)"
   ]
  },
  {
   "cell_type": "markdown",
   "metadata": {},
   "source": [
    "# Ejercicio 2"
   ]
  },
  {
   "cell_type": "code",
   "execution_count": 358,
   "metadata": {},
   "outputs": [],
   "source": [
    "aux=banxico_df['Resumen'].str.extract(r\"(mantiene|incrementa|disminuye)\",expand=False)\n",
    "banxico_df_ej2=banxico_df\n",
    "banxico_df_ej2.insert(loc=3,column=\"Categoría\",value=list(aux))"
   ]
  },
  {
   "cell_type": "code",
   "execution_count": 359,
   "metadata": {},
   "outputs": [
    {
     "data": {
      "text/html": [
       "<div>\n",
       "<style scoped>\n",
       "    .dataframe tbody tr th:only-of-type {\n",
       "        vertical-align: middle;\n",
       "    }\n",
       "\n",
       "    .dataframe tbody tr th {\n",
       "        vertical-align: top;\n",
       "    }\n",
       "\n",
       "    .dataframe thead th {\n",
       "        text-align: right;\n",
       "    }\n",
       "</style>\n",
       "<table border=\"1\" class=\"dataframe\">\n",
       "  <thead>\n",
       "    <tr style=\"text-align: right;\">\n",
       "      <th></th>\n",
       "      <th>Fecha</th>\n",
       "      <th>Resumen</th>\n",
       "      <th>Link</th>\n",
       "      <th>Categoría</th>\n",
       "    </tr>\n",
       "  </thead>\n",
       "  <tbody>\n",
       "    <tr>\n",
       "      <th>103</th>\n",
       "      <td>2008-02-15</td>\n",
       "      <td>El objetivo para la Tasa de Inter�s Interbanca...</td>\n",
       "      <td>https://www.banxico.org.mx/publicaciones-y-pre...</td>\n",
       "      <td>mantiene</td>\n",
       "    </tr>\n",
       "    <tr>\n",
       "      <th>102</th>\n",
       "      <td>2008-03-14</td>\n",
       "      <td>El objetivo para la Tasa de Inter�s Interbanca...</td>\n",
       "      <td>https://www.banxico.org.mx/publicaciones-y-pre...</td>\n",
       "      <td>mantiene</td>\n",
       "    </tr>\n",
       "    <tr>\n",
       "      <th>101</th>\n",
       "      <td>2008-04-18</td>\n",
       "      <td>El objetivo para la Tasa de Inter�s Interbanca...</td>\n",
       "      <td>https://www.banxico.org.mx/publicaciones-y-pre...</td>\n",
       "      <td>mantiene</td>\n",
       "    </tr>\n",
       "    <tr>\n",
       "      <th>100</th>\n",
       "      <td>2008-05-16</td>\n",
       "      <td>El objetivo para la Tasa de Inter�s Interbanca...</td>\n",
       "      <td>https://www.banxico.org.mx/publicaciones-y-pre...</td>\n",
       "      <td>mantiene</td>\n",
       "    </tr>\n",
       "    <tr>\n",
       "      <th>99</th>\n",
       "      <td>2008-06-20</td>\n",
       "      <td>El objetivo para la Tasa de Inter�s Interbanca...</td>\n",
       "      <td>https://www.banxico.org.mx/publicaciones-y-pre...</td>\n",
       "      <td>incrementa</td>\n",
       "    </tr>\n",
       "  </tbody>\n",
       "</table>\n",
       "</div>"
      ],
      "text/plain": [
       "         Fecha                                            Resumen  \\\n",
       "103 2008-02-15  El objetivo para la Tasa de Inter�s Interbanca...   \n",
       "102 2008-03-14  El objetivo para la Tasa de Inter�s Interbanca...   \n",
       "101 2008-04-18  El objetivo para la Tasa de Inter�s Interbanca...   \n",
       "100 2008-05-16  El objetivo para la Tasa de Inter�s Interbanca...   \n",
       "99  2008-06-20  El objetivo para la Tasa de Inter�s Interbanca...   \n",
       "\n",
       "                                                  Link   Categoría  \n",
       "103  https://www.banxico.org.mx/publicaciones-y-pre...    mantiene  \n",
       "102  https://www.banxico.org.mx/publicaciones-y-pre...    mantiene  \n",
       "101  https://www.banxico.org.mx/publicaciones-y-pre...    mantiene  \n",
       "100  https://www.banxico.org.mx/publicaciones-y-pre...    mantiene  \n",
       "99   https://www.banxico.org.mx/publicaciones-y-pre...  incrementa  "
      ]
     },
     "execution_count": 359,
     "metadata": {},
     "output_type": "execute_result"
    }
   ],
   "source": [
    "banxico_df_ej2.head(5)"
   ]
  },
  {
   "cell_type": "markdown",
   "metadata": {},
   "source": [
    "# Ejercicio 3"
   ]
  },
  {
   "cell_type": "markdown",
   "metadata": {},
   "source": [
    "¿En cuantas decisiones de política monetaria el Banco de México se incrementó, mantuvo o disminuyó la tasa de referencia?"
   ]
  },
  {
   "cell_type": "code",
   "execution_count": 360,
   "metadata": {},
   "outputs": [
    {
     "data": {
      "text/plain": [
       "{'mantiene': 72, 'incrementa': 18, 'disminuye': 14}"
      ]
     },
     "execution_count": 360,
     "metadata": {},
     "output_type": "execute_result"
    }
   ],
   "source": [
    "arr=np.array(banxico_df[\"Categoría\"])\n",
    "llaves=['mantiene','incrementa','disminuye']\n",
    "diccionario_numero_cambios={l:sum(arr==l) for l in llaves}\n",
    "diccionario_numero_cambios"
   ]
  },
  {
   "cell_type": "markdown",
   "metadata": {},
   "source": [
    "# Ejercicio 4"
   ]
  },
  {
   "cell_type": "code",
   "execution_count": 361,
   "metadata": {},
   "outputs": [
    {
     "name": "stderr",
     "output_type": "stream",
     "text": [
      "C:\\Users\\AN012491\\AppData\\Local\\Continuum\\anaconda3\\lib\\site-packages\\ipykernel_launcher.py:13: SettingWithCopyWarning: \n",
      "A value is trying to be set on a copy of a slice from a DataFrame.\n",
      "Try using .loc[row_indexer,col_indexer] = value instead\n",
      "\n",
      "See the caveats in the documentation: http://pandas.pydata.org/pandas-docs/stable/user_guide/indexing.html#returning-a-view-versus-a-copy\n",
      "  del sys.path[0]\n"
     ]
    }
   ],
   "source": [
    "'''\n",
    "Gráfica 1\n",
    "'''\n",
    "\n",
    "cat=[]\n",
    "for i in list(banxico_df.index):\n",
    "    if banxico_df[\"Categoría\"][i]==\"disminuye\":\n",
    "        cat.append(-1)\n",
    "    elif banxico_df[\"Categoría\"][i]==\"mantiene\":\n",
    "        cat.append(0)\n",
    "    else:\n",
    "        cat.append(1)\n",
    "banxico_df_ej2[\"cat_values\"]=cat\n",
    "\n",
    "'''\n",
    "Gráfica 2\n",
    "'''\n",
    "\n",
    "df_graficas=pd.DataFrame({\"conteo\":list(diccionario_numero_cambios.values())},index=list(diccionario_numero_cambios.keys()))\n"
   ]
  },
  {
   "cell_type": "markdown",
   "metadata": {},
   "source": [
    "### Graficación"
   ]
  },
  {
   "cell_type": "code",
   "execution_count": 401,
   "metadata": {},
   "outputs": [
    {
     "data": {
      "image/png": "[encoded data removed]",
      "text/plain": [
       "<Figure size 1296x360 with 2 Axes>"
      ]
     },
     "metadata": {
      "image/png": {
       "height": 316,
       "width": 1040
      },
      "needs_background": "light"
     },
     "output_type": "display_data"
    }
   ],
   "source": [
    "\n",
    "fig, ax = plt.subplots(1,2, figsize=(18, 5))\n",
    "banxico_df.plot(ax=ax[0],x=\"Fecha\",y=\"cat_values\",style=\"+\",yticks=[-1,0,1],grid=True,title=\"Decisión de política monetaria: -1=disminuye, 0=mantiene, 1=incrementa\")\n",
    "ax[0].get_legend().remove()\n",
    "df_graficas.plot.bar(ax=ax[1],rot=0,title=\"Frecuencia absoluta por categoría\")\n",
    "plt.show()"
   ]
  },
  {
   "cell_type": "markdown",
   "metadata": {},
   "source": [
    "# Ejercicio 5"
   ]
  },
  {
   "cell_type": "code",
   "execution_count": 363,
   "metadata": {},
   "outputs": [
    {
     "data": {
      "text/plain": [
       "Fecha       Categoría \n",
       "2008-12-31  incrementa     3\n",
       "            mantiene       7\n",
       "2009-12-31  disminuye      7\n",
       "            mantiene       4\n",
       "2010-12-31  mantiene      11\n",
       "2011-12-31  mantiene       8\n",
       "2012-12-31  mantiene       8\n",
       "2013-12-31  disminuye      3\n",
       "            mantiene       5\n",
       "2014-12-31  disminuye      1\n",
       "            mantiene       7\n",
       "2015-12-31  incrementa     1\n",
       "            mantiene       7\n",
       "2016-12-31  incrementa     5\n",
       "            mantiene       4\n",
       "2017-12-31  incrementa     5\n",
       "            mantiene       3\n",
       "2018-12-31  incrementa     4\n",
       "            mantiene       4\n",
       "2019-12-31  disminuye      3\n",
       "            mantiene       4\n",
       "Name: Categoría, dtype: int64"
      ]
     },
     "execution_count": 363,
     "metadata": {},
     "output_type": "execute_result"
    }
   ],
   "source": [
    "df_test=banxico_df\n",
    "\n",
    "df_test.index=df_test[\"Fecha\"]\n",
    "\n",
    "grouper = df_test.groupby([pd.Grouper(freq='Y'), 'Categoría'])\n",
    "\n",
    "df_anual=grouper['Categoría'].count()\n",
    "\n",
    "df_anual"
   ]
  },
  {
   "cell_type": "markdown",
   "metadata": {},
   "source": [
    "# Ejercicio 6"
   ]
  },
  {
   "cell_type": "code",
   "execution_count": 409,
   "metadata": {},
   "outputs": [
    {
     "data": {
      "image/png": "[encoded data removed]",
      "text/plain": [
       "<Figure size 1080x504 with 1 Axes>"
      ]
     },
     "metadata": {
      "image/png": {
       "height": 424,
       "width": 884
      },
      "needs_background": "light"
     },
     "output_type": "display_data"
    }
   ],
   "source": [
    "df_anual2=df_anual.unstack('Categoría')\n",
    "fig2, ax2 = plt.subplots(figsize=(15,7))\n",
    "df_anual2.plot(rot=0,kind='bar', stacked=True,ax=ax2,grid=True)\n",
    "ax2.set_xticklabels(list(range(2008,2020)), rotation=0)\n",
    "ax2.set_ylabel(\"frecuencia absoluta\")\n",
    "plt.show()"
   ]
  },
  {
   "cell_type": "markdown",
   "metadata": {},
   "source": [
    "# Creación del archivo .pkl"
   ]
  },
  {
   "cell_type": "code",
   "execution_count": 374,
   "metadata": {},
   "outputs": [],
   "source": [
    "import pickle\n",
    "filename=\"andres_nieto.pkl\""
   ]
  },
  {
   "cell_type": "code",
   "execution_count": 430,
   "metadata": {},
   "outputs": [],
   "source": [
    "'''\n",
    "Crearemos dos funciones para almacenar las gráficas en el pickle:\n",
    "'''\n",
    "\n",
    "def fig_1(banxico_df,df_graficas):\n",
    "    fig, ax = plt.subplots(1,2, figsize=(18, 5))\n",
    "    banxico_df.plot(ax=ax[0],x=\"Fecha\",y=\"cat_values\",style=\"+\",yticks=[-1,0,1],grid=True,title=\"Decisión de política monetaria: -1=disminuye, 0=mantiene, 1=incrementa\")\n",
    "    ax[0].get_legend().remove()\n",
    "    df_graficas.plot.bar(ax=ax[1],rot=0,title=\"Frecuencia absoluta por categoría\")\n",
    "    plt.show()\n",
    "\n",
    "def fig_2(df_anual):\n",
    "    df_anual2=df_anual.unstack('Categoría')\n",
    "    fig2, ax2 = plt.subplots(figsize=(15,7))\n",
    "    df_anual2.plot(rot=0,kind='bar', stacked=True,ax=ax2,grid=True)\n",
    "    ax2.set_xticklabels(list(range(2008,2020)), rotation=0)\n",
    "    ax2.set_ylabel(\"frecuencia absoluta\")\n",
    "    plt.show()\n"
   ]
  },
  {
   "cell_type": "code",
   "execution_count": 431,
   "metadata": {},
   "outputs": [
    {
     "data": {
      "text/plain": [
       "\"\\nLos datos se almacenarán en un diccionario con las siguientes llaves: \\nBANXICO: banxico_dataframe. Dataframe con el webscripping y la columna de categoría.\\nANUAL: la sub_dataframe con el conteo de las categorías 'disminuye', 'mantiene' o 'incrementa' agrupadas por año.\\nGRAFICAS: Resume conteo de categorías sin agrupar, para generar la primera gráfica de barras.\\nfigura_1: función para crear la primera figura de la tarea. LLamar con BANXICO y GRAFICAS.\\nfigura_2: función para crear la segunda figura de la tarea. LLamar con ANUAL.\\n\\nSeguir éste orden al leer el archivo .pkl\\n\""
      ]
     },
     "execution_count": 431,
     "metadata": {},
     "output_type": "execute_result"
    }
   ],
   "source": [
    "'''\n",
    "Los datos se almacenarán en un diccionario con las siguientes llaves: \n",
    "BANXICO: banxico_dataframe. Dataframe con el webscripping y la columna de categoría.\n",
    "ANUAL: la sub_dataframe con el conteo de las categorías 'disminuye', 'mantiene' o 'incrementa' agrupadas por año.\n",
    "GRAFICAS: Resume conteo de categorías sin agrupar, para generar la primera gráfica de barras.\n",
    "figura_1: función para crear la primera figura de la tarea. LLamar con BANXICO y GRAFICAS.\n",
    "figura_2: función para crear la segunda figura de la tarea. LLamar con ANUAL.\n",
    "\n",
    "Seguir éste orden al leer el archivo .pkl\n",
    "'''"
   ]
  },
  {
   "cell_type": "code",
   "execution_count": 432,
   "metadata": {},
   "outputs": [],
   "source": [
    "import dill as pickl\n",
    "data={\"BANXICO\":banxico_df,\"ANUAL\":df_anual,\"GRAFICAS\":df_graficas,\"figura_1\":fig_1,\"figura_2\":fig_2}"
   ]
  },
  {
   "cell_type": "code",
   "execution_count": 433,
   "metadata": {},
   "outputs": [],
   "source": [
    "with open(filename, \"wb\") as f:\n",
    "    pickl.dump(data, f)"
   ]
  },
  {
   "cell_type": "markdown",
   "metadata": {},
   "source": [
    "# Comprobación (en notebook lectura_pickles.ipynb)"
   ]
  }
 ],
 "metadata": {
  "kernelspec": {
   "display_name": "Python 3",
   "language": "python",
   "name": "python3"
  },
  "language_info": {
   "codemirror_mode": {
    "name": "ipython",
    "version": 3
   },
   "file_extension": ".py",
   "mimetype": "text/x-python",
   "name": "python",
   "nbconvert_exporter": "python",
   "pygments_lexer": "ipython3",
   "version": "3.7.4"
  }
 },
 "nbformat": 4,
 "nbformat_minor": 2
}
