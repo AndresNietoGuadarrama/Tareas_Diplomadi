{
 "cells": [
  {
   "cell_type": "markdown",
   "metadata": {},
   "source": [
    "# Lema (Métodos de ensamble)"
   ]
  },
  {
   "cell_type": "markdown",
   "metadata": {},
   "source": [
    "La computadora aprende de una tarea T (var. respuesta), generando un resultado óptimo a partir de uan función de costos L a través de  de experiencia E (var. explicativas). Así, el mejor modelo para E y T es aquel que minimiza la medida $\\mathbb{E}$ de L. Esto es: \n",
    "\n",
    "$$\\mathbb{E}[L](y)\\,=\\,\\int \\int L(t,y(X))Pr(t,X)\\,=\\,\\int \\int (t-y(X))^2Pr(t,X)$$\n",
    "\n",
    "Asumir que $Pr(t|X)$ es conocida. Por demostrar: \n",
    "\n",
    "$$\\mathbb{E}[L](y)\\,=\\,\\int \\left( (y(X)-\\mathbb{E}[t|X])^2+Var[t|X]\\right )Pr(X)dX$$"
   ]
  },
  {
   "cell_type": "markdown",
   "metadata": {},
   "source": [
    "### Demostración"
   ]
  },
  {
   "cell_type": "markdown",
   "metadata": {},
   "source": [
    "Notar que:\n",
    "$$\\mathbb{E}[L](y)\\,=\\,\\int \\int (t-y(X))^2Pr(t,X)\\,=\\,\\int \\int (y(X)-\\mathbb{E}[t|X]+\\mathbb{E}[t|X]-t)^2Pr(t,X)dXdt.$$\n",
    "Desarrollando un poco más y recordando que $Pr(t|X)\\,=\\,\\frac{Pr(t,X)}{Pr(X)}$:\n",
    "\n",
    "\n",
    "$$\\int \\int (y(X)-\\mathbb{E}[t|X]+\\mathbb{E}[t|X]-t)^2Pr(t,X)dXdt = $$\n",
    "$$\\int Pr(X)\\int \\left ( (y(X)-\\mathbb{E}[t|X])^2+(\\mathbb{E}[t|X]-t)^2 -2\\mathbb{E}[t|X]^2 + 2y(X)\\mathbb{E}[t|X] - 2ty(X) + 2t\\mathbb{E}[t|X] \\right)Pr(t|X)dtdX\\,=$$\n",
    "\n",
    "$$\\int Pr(X) \\left ( \\int (y(X)-\\mathbb{E}[t|X])^2 Pr(t|X)dt + \\int (\\mathbb{E}[t|X]-t)^2 Pr(t|X)dt - \\int 2\\mathbb{E}[t|X]^2 Pr(t|X)dt+ \\int 2y(X)\\mathbb{E}[t|X] Pr(t|X)dt - \\int 2ty(X) Pr(t|X)dt + \\int 2t\\mathbb{E}[t|X] Pr(t|X)dt\\right)dX.\\,$$\n",
    "\n",
    "Notar que, por definición de esperanza condicional, la función $\\mathbb{E}[t|X] \\,=\\, \\int_{\\Omega_{t}}tPr(t|X)$ ya es constante respecto a $t$. Asimismo, la integral $\\int (\\mathbb{E}[t|X]-t)^2 Pr(t|X)dt \\,=\\, \\mathbb{E}[(t-\\mathbb{E}[t|X])^2|x]$ es la varianza condicional de $t$ dado $X$ denotada por la expresión $Var[t|X]$.\n",
    "\n",
    "Usando lo anterior, y recordando que $y(X)\\,=\\,w^TX$ (la predicción del modelo) no depende de $t$, al integrar sobre $t$ se obtiene que:\n",
    "\n",
    "$$1.\\, -\\int 2\\mathbb{E}[t|X]^2 Pr(t|X)dt \\,=\\, -2\\mathbb{E}[t|X]^2 \\int Pr(t|X)dt\\,=\\, -2\\mathbb{E}[t|X]^2 \\cdot 1\\,=\\, -2\\mathbb{E}[t|X]^2$$\n",
    "\n",
    "$$2. \\,\\int 2y(X)\\mathbb{E}[t|X] Pr(t|X)dt \\,=\\, 2y(X)\\mathbb{E}[t|X]  \\int Pr(t|X)dt \\,=\\, 2y(X)\\mathbb{E}[t|X]$$\n",
    "\n",
    "$$3.\\, -\\int 2ty(X) Pr(t|X)dt \\,=\\, -2y(X) \\int tPr(t|X)dt \\,=\\,-2y(X)\\mathbb{E}[t|X]$$  \n",
    "\n",
    "$$4.\\, \\int 2t\\mathbb{E}[t|X] Pr(t|X)dt\\,=\\,2\\mathbb{E}[t|X] \\int tPr(t|X)dt\\,=\\,2\\mathbb{E}[t|X]^2$$\n",
    "\n",
    "$$5. \\, \\int (y(X)-\\mathbb{E}[t|X])^2 Pr(t|X)dt\\,=\\,(y(X)-\\mathbb{E}[t|X])^2  \\int Pr(t|X)dt\\,=\\,(y(X)-\\mathbb{E}[t|X])^2 $$\n",
    "\n",
    "Así, sumando las integrales 1. a 5. tenemos que:\n",
    "\n",
    "$$\\mathbb{E}[L](y)\\,=\\,\\int Pr(X)\\left( (y(X)-\\mathbb{E}[t|X])^2+Var[t|X] -2\\mathbb{E}[t|X]^2 + 2\\mathbb{E}[t|X]^2 \n",
    "+2y(X)\\mathbb{E}[t|X] - 2y(X)\\mathbb{E}[t|X] \\right )dX$$\n",
    "\n",
    "$$\\,=\\,\\int \\left( (y(X)-\\mathbb{E}[t|X])^2+Var[t|X] \\right )Pr(X)dX_{\\blacksquare}$$ "
   ]
  },
  {
   "cell_type": "markdown",
   "metadata": {},
   "source": [
    "Como corolario del lema anterior, dado que $(y(X)-\\mathbb{E}[t|x])^2 \\geq 0,\\,Var[t|X] \\geq 0,\\,Pr(X)\\geq 0,\\,$ el modelo que minimiza la medida de la función de costos $L$ es $y^*\\,=\\,\\mathbb{E}[t|x] $ (ya que $(y^*(X)-\\mathbb{E}[t|x])^2 = 0$)."
   ]
  }
 ],
 "metadata": {
  "kernelspec": {
   "display_name": "Python 3",
   "language": "python",
   "name": "python3"
  },
  "language_info": {
   "codemirror_mode": {
    "name": "ipython",
    "version": 3
   },
   "file_extension": ".py",
   "mimetype": "text/x-python",
   "name": "python",
   "nbconvert_exporter": "python",
   "pygments_lexer": "ipython3",
   "version": "3.7.4"
  }
 },
 "nbformat": 4,
 "nbformat_minor": 2
}
