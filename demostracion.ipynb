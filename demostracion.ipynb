{
 "cells": [
  {
   "cell_type": "markdown",
   "metadata": {},
   "source": [
    "# Distancia de hiperplanos paralelos\n",
    "\n",
    "#### Andrés Nieto Guadarrama"
   ]
  },
  {
   "cell_type": "markdown",
   "metadata": {},
   "source": [
    "### 1. Lema:"
   ]
  },
  {
   "cell_type": "markdown",
   "metadata": {},
   "source": [
    "Sean $H_{1}$, $H_{2}$ dos hiperplanos paralelos en $\\mathbb{R}^{n}$ de la forma:\n",
    "$$H_{1}\\,=\\, \\left \\{ x \\in \\mathbb{R}^{n} :  w^{T}x = a_{1}\\right \\}$$\n",
    "$$H_{2}\\,=\\, \\left \\{ x \\in \\mathbb{R}^{n} :  w^{T}x = a_{2}\\right \\}$$\n",
    "Entonces la distancia entre ellos está dada por: \n",
    "    \n",
    "$$dist(H_{1}, H_{2})\\,=\\,\\frac{|a_{1}-a_{2}|}{ \\left \\| w \\right \\| }$$\n",
    "    "
   ]
  },
  {
   "cell_type": "markdown",
   "metadata": {},
   "source": [
    "### Demostración:"
   ]
  },
  {
   "cell_type": "markdown",
   "metadata": {},
   "source": [
    "Primero, notar que sin pérdida de generalidad podemos asumir que $w \\neq 0$, ya que de ser así $H_{1}$, $H_{2}$ serían los conjuntos triviales $\\emptyset$ ó $\\mathbb{R}^{n}$. \n",
    "\n",
    "Ahora bien, por la definición de producto punto, para cualquier vector $y\\, \\in \\, \\mathbb{R}^{n}$ tenemos que \n",
    "\n",
    "$$w^{T}y = \\left \\| y \\right \\| \\left \\| w \\right \\| \\cos{\\theta_{y,w}}.$$\n",
    "\n",
    "Donde $\\theta_{y,w}$ es el ángulo entre $y$ y $w$. Así, existen dos vectores $b_{1}=\\frac{a_1}{ \\left \\| w \\right \\|^2}w$, $b_{2}=\\frac{a_2}{ \\left \\| w \\right \\|^2}w$ en $\\mathbb{R}^{n}$ tales que \n",
    "$$$$\n",
    "$$w^{T}b_{1}\\,=\\,a_{1},\\,w^{T}b_{2}\\,=\\,a_{2}.$$\n",
    "Así, podemos escribir la forma nomal de los hiperplanos como: \n",
    "$$H_{1}\\,=\\, \\left \\{ x \\in \\mathbb{R}^{n} :  w^{T}(x - b_{1})\\,=\\,0\\right \\}$$\n",
    "$$H_{2}\\,=\\, \\left \\{ x \\in \\mathbb{R}^{n} :  w^{T}(x - b_{2})\\,=\\,0\\right \\}$$\n",
    "con lo cual, la distancia entre $H_{1}$, $H_{2}$ estará dada por la norma de $\\lambda w$, donde $\\lambda$ es un escalar tal que $\\lambda w + b_{1} = b_{2}$ tal y como se ilustra en la imagen: \n",
    "\n",
    "<img src=\"files/imagen1_dem.png\">\n",
    "\n",
    "Así, se tiene que: \n",
    "\n",
    "$$\\lambda w \\,=\\,b_{2}-b_{1},$$\n",
    "\n",
    "con lo cual\n",
    "\n",
    "$$\\lambda \\left\\| w \\right \\|^2 \\,=\\,\\lambda w^{T}w \\,=\\, w^{T}\\left (b_{2}-b_{1} \\right )\\,=\\,\\left (w^{T}b_{2}-w^{T}b_{1} \\right )\\,=\\,a_{2}-a_{1}.$$\n",
    "\n",
    "Esto es, $\\lambda\\,=\\,\\frac{a_{2}-a_{1}}{\\left\\| w \\right \\|^2}$.\n",
    "\n",
    "$\\therefore \\,\\, dist(H_{1}, H_{2})\\,=\\,\\left |  \\lambda\\right | \\left \\| w \\right \\| \\,=\\,\\frac{|a_{1}-a_{2}|}{ \\left \\| w \\right \\| }\\,\\,_{\\blacksquare}$\n"
   ]
  }
 ],
 "metadata": {
  "kernelspec": {
   "display_name": "Python 3",
   "language": "python",
   "name": "python3"
  },
  "language_info": {
   "codemirror_mode": {
    "name": "ipython",
    "version": 3
   },
   "file_extension": ".py",
   "mimetype": "text/x-python",
   "name": "python",
   "nbconvert_exporter": "python",
   "pygments_lexer": "ipython3",
   "version": "3.7.4"
  }
 },
 "nbformat": 4,
 "nbformat_minor": 2
}
